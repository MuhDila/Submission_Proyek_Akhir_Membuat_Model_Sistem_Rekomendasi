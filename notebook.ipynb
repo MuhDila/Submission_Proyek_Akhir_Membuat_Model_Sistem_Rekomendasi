{
 "cells": [
  {
   "metadata": {},
   "cell_type": "markdown",
   "source": [
    "# Proyek Akhir : Membuat Model Sistem Rekomendasi\n",
    "- **Nama:** Muhammad Dila\n",
    "- **Email:** muhammaddila.all@gmail.com\n",
    "- **ID Dicoding:** muhdila"
   ],
   "id": "8a77807f92f26ee"
  },
  {
   "metadata": {},
   "cell_type": "markdown",
   "source": "# Project Overview",
   "id": "ccb6d3b6644cdad5"
  },
  {
   "metadata": {},
   "cell_type": "markdown",
   "source": [
    "Membaca buku adalah aktivitas penting untuk pengembangan pengetahuan, keterampilan berpikir kritis, dan kesehatan mental. Namun, di era digital saat ini, pembaca dihadapkan pada jutaan pilihan buku di platform online, yang menyebabkan fenomena \"choice overload\".\n",
    "\n",
    "Menghadapi tantangan tersebut, dibutuhkan sistem rekomendasi yang dapat membantu pengguna menemukan buku-buku yang relevan dengan minat mereka berdasarkan riwayat interaksi sebelumnya (rating, ulasan).\n",
    "\n",
    "**Mengapa masalah ini penting untuk diselesaikan?**\n",
    "\n",
    "- Banyak pengguna merasa kesulitan menemukan buku yang sesuai dengan preferensi mereka karena terlalu banyak pilihan yang tersedia.\n",
    "- Sistem rekomendasi dapat meningkatkan engagement pengguna dan loyalitas terhadap platform buku digital.\n",
    "- Membantu penerbit dan penulis untuk menjangkau audiens yang lebih spesifik dan relevan dengan genre atau kategori bukunya.\n",
    "\n",
    "**Bagaimana cara menyelesaikannya?**\n",
    "\n",
    "- Dengan membangun sistem rekomendasi berbasis:\n",
    "  - **Content-Based Filtering** (menggunakan kemiripan judul buku melalui TF-IDF dan Cosine Similarity),\n",
    "  - **User-Based Collaborative Filtering (Memory-Based)** (menggunakan pola rating antar pengguna),\n",
    "  - **Model-Based Collaborative Filtering** (menggunakan embedding learning dengan TensorFlow/Keras).\n",
    "- Dataset yang digunakan adalah [Book Recommendation Dataset dari Kaggle](https://www.kaggle.com/datasets/arashnic/book-recommendation-dataset).\n",
    "\n",
    "**Referensi:**\n",
    "\n",
    "- Alharthi, A., Zaki, M., & Alshamrani, S. (2018). \"A Survey of Book Recommender Systems\", *Journal of Intelligent Information Systems*. [Link](https://link.springer.com/article/10.1007/s10844-017-0489-9)"
   ],
   "id": "1ab721bab5cb747f"
  },
  {
   "metadata": {},
   "cell_type": "markdown",
   "source": "# Business Understanding",
   "id": "9e953c9ca759c8e"
  },
  {
   "metadata": {},
   "cell_type": "markdown",
   "source": [
    "Pada bagian ini, kami akan menjelaskan proses klarifikasi masalah yang menjadi dasar dalam membangun sistem rekomendasi buku berbasis machine learning yang mencakup:\n",
    "\n",
    "---\n",
    "\n",
    "## Problem Statements\n",
    "\n",
    "- Dengan banyaknya pilihan buku di platform online, pengguna mengalami kesulitan menemukan buku yang sesuai dengan preferensi mereka.\n",
    "- Banyak pengguna baru atau pengguna pasif tidak memberikan cukup rating, sehingga sulit memahami minat mereka tanpa bantuan sistem rekomendasi.\n",
    "- Platform perlu meningkatkan pengalaman pengguna agar lebih personal, untuk meningkatkan keterlibatan (engagement) dan loyalitas pengguna terhadap aplikasi atau layanan buku digital.\n",
    "\n",
    "---\n",
    "\n",
    "## Goals\n",
    "\n",
    "- Membantu pengguna menemukan buku yang relevan dengan minat mereka berdasarkan interaksi sebelumnya (rating yang diberikan).\n",
    "- Mengurangi fenomena \"choice overload\" dengan menyediakan rekomendasi top-N buku secara personal.\n",
    "- Meningkatkan tingkat engagement dan waktu yang dihabiskan pengguna dalam platform melalui sistem rekomendasi yang efektif.\n",
    "- Mendorong pengguna untuk mengeksplorasi lebih banyak buku dari kategori atau genre yang mungkin mereka sukai.\n",
    "\n",
    "---\n",
    "\n",
    "## Solution Statements\n",
    "\n",
    "- **Content-Based Filtering (CBF)**\n",
    "  Menggunakan informasi konten buku, seperti *judul* dan *kemiripan antar judul* (berbasis TF-IDF dan Cosine Similarity), untuk merekomendasikan buku lain yang serupa dengan buku yang pernah disukai pengguna.\n",
    "  *Kelebihan:* Dapat memberikan rekomendasi meskipun user baru dan minim interaksi.\n",
    "  *Kekurangan:* Bisa terbatas pada buku-buku serupa saja (kurang eksplorasi).\n",
    "\n",
    "- **User-Based Collaborative Filtering (Memory-Based)**\n",
    "  Menggunakan pola rating antar pengguna untuk merekomendasikan buku berdasarkan kemiripan preferensi antar user.\n",
    "  *Kelebihan:* Lebih mampu menangkap pola selera pengguna yang beragam.\n",
    "  *Kekurangan:* Mengalami masalah cold-start jika user baru atau rating sedikit.\n",
    "\n",
    "- **Model-Based Collaborative Filtering (Deep Learning dengan Keras)**\n",
    "  Menggunakan teknik embedding pada user dan buku untuk mempelajari representasi laten preferensi, sehingga dapat memberikan prediksi rating dan rekomendasi yang lebih akurat.\n",
    "  *Kelebihan:* Skalabilitas tinggi, mampu menangkap pola kompleks di data.\n",
    "  *Kekurangan:* Membutuhkan lebih banyak data dan proses training lebih lama dibanding metode sederhana."
   ],
   "id": "975eb6c93dbf3a8e"
  },
  {
   "metadata": {},
   "cell_type": "markdown",
   "source": "# Data Understanding",
   "id": "ac7d466b08b20eaf"
  },
  {
   "metadata": {
    "ExecuteTime": {
     "end_time": "2025-05-07T06:02:44.981473Z",
     "start_time": "2025-05-07T06:02:37.516987Z"
    }
   },
   "cell_type": "code",
   "source": [
    "# Import library os\n",
    "import os\n",
    "\n",
    "# Cek apakah file kaggle.json tersedia\n",
    "assert os.path.exists(os.path.expanduser('~/.kaggle/kaggle.json')), \"File kaggle.json belum tersedia. Silakan cek di folder ~/.kaggle/.\"\n",
    "\n",
    "# Proses download dataset menggunakan Kaggle API\n",
    "os.system('kaggle datasets download -d arashnic/book-recommendation-dataset')\n",
    "\n",
    "print(\"Download selesai\")"
   ],
   "id": "fbc121e30a2defb3",
   "outputs": [
    {
     "name": "stdout",
     "output_type": "stream",
     "text": [
      "Download selesai\n"
     ]
    }
   ],
   "execution_count": 7
  },
  {
   "metadata": {},
   "cell_type": "markdown",
   "source": [
    "#### Download Dataset\n",
    "\n",
    "Pada tahap ini, sistem akan melakukan proses pengunduhan dataset secara otomatis dari Kaggle.\n",
    "Dataset yang digunakan adalah [Book Recommendation Dataset - Kaggle](https://www.kaggle.com/datasets/arashnic/book-recommendation-dataset).\n",
    "Pastikan file `kaggle.json` telah disiapkan di direktori `~/.kaggle/` agar proses download dapat berjalan dengan lancar."
   ],
   "id": "a016f32b6e9d6fd4"
  },
  {
   "metadata": {
    "ExecuteTime": {
     "end_time": "2025-05-07T06:02:45.451750Z",
     "start_time": "2025-05-07T06:02:45.035701Z"
    }
   },
   "cell_type": "code",
   "source": [
    "# Import library zipfile\n",
    "import zipfile\n",
    "\n",
    "# Mengekstrak file ZIP ke folder BookRecommendation\n",
    "with zipfile.ZipFile('book-recommendation-dataset.zip', 'r') as zip_ref:\n",
    "    zip_ref.extractall('BookRecommendation')\n",
    "\n",
    "print(\"Extract selesai bro!\")"
   ],
   "id": "e67922326963d633",
   "outputs": [
    {
     "name": "stdout",
     "output_type": "stream",
     "text": [
      "Extract selesai bro!\n"
     ]
    }
   ],
   "execution_count": 8
  },
  {
   "metadata": {},
   "cell_type": "markdown",
   "source": [
    "#### Extract Dataset\n",
    "\n",
    "Setelah file dataset berhasil diunduh, tahap berikutnya adalah mengekstrak file `book-recommendation-dataset.zip`\n",
    "ke dalam folder `BookRecommendation/`.\n",
    "Ekstraksi ini bertujuan untuk memperoleh file CSV yang akan digunakan dalam tahap selanjutnya."
   ],
   "id": "9a7b1f94fb05355b"
  },
  {
   "metadata": {
    "ExecuteTime": {
     "end_time": "2025-05-07T06:02:47.728820Z",
     "start_time": "2025-05-07T06:02:45.483424Z"
    }
   },
   "cell_type": "code",
   "source": [
    "# Load dataset menggunakan pandas\n",
    "import pandas as pd\n",
    "\n",
    "books = pd.read_csv('BookRecommendation/Books.csv', low_memory=False)\n",
    "users = pd.read_csv('BookRecommendation/Users.csv')\n",
    "ratings = pd.read_csv('BookRecommendation/Ratings.csv')\n",
    "\n",
    "print(\"Dataset berhasil dimuat!\")"
   ],
   "id": "7360f94ebc965bbb",
   "outputs": [
    {
     "name": "stdout",
     "output_type": "stream",
     "text": [
      "Dataset berhasil dimuat!\n"
     ]
    }
   ],
   "execution_count": 9
  },
  {
   "metadata": {},
   "cell_type": "markdown",
   "source": [
    "#### Load Dataset\n",
    "\n",
    "Pada tahap ini, dataset yang sudah diekstrak akan dibaca ke dalam struktur DataFrame menggunakan library `pandas`.\n",
    "Dataset terdiri dari tiga file utama: `Books.csv`, `Users.csv`, dan `Ratings.csv`.\n"
   ],
   "id": "e579461f456b5d97"
  },
  {
   "metadata": {
    "ExecuteTime": {
     "end_time": "2025-05-07T06:02:47.790193Z",
     "start_time": "2025-05-07T06:02:47.777148Z"
    }
   },
   "cell_type": "code",
   "source": [
    "# Menampilkan jumlah baris dan kolom dari setiap dataset\n",
    "print(f\"Jumlah data Books: {books.shape}\")\n",
    "print(f\"Jumlah data Users: {users.shape}\")\n",
    "print(f\"Jumlah data Ratings: {ratings.shape}\")"
   ],
   "id": "ffa3eb1700ff5046",
   "outputs": [
    {
     "name": "stdout",
     "output_type": "stream",
     "text": [
      "Jumlah data Books: (271360, 8)\n",
      "Jumlah data Users: (278858, 3)\n",
      "Jumlah data Ratings: (1149780, 3)\n"
     ]
    }
   ],
   "execution_count": 10
  },
  {
   "metadata": {},
   "cell_type": "markdown",
   "source": [
    "#### Informasi Umum Dataset\n",
    "\n",
    "Tahap ini bertujuan untuk memahami jumlah data dan kondisi awal dataset.\n",
    "Kami menampilkan jumlah baris dan kolom dari setiap file dataset menggunakan fungsi `.shape`.\n",
    "\n",
    "Berikut adalah hasil jumlah data dari masing-masing dataset:\n",
    "- **Books.csv**: 271.360 baris, 8 kolom\n",
    "- **Users.csv**: 278.858 baris, 3 kolom\n",
    "- **Ratings.csv**: 1.149.780 baris, 3 kolom"
   ],
   "id": "1663df85588f8150"
  },
  {
   "metadata": {},
   "cell_type": "markdown",
   "source": "### Data Books",
   "id": "23536c39b643e4c"
  },
  {
   "metadata": {
    "ExecuteTime": {
     "end_time": "2025-05-07T06:02:47.945825Z",
     "start_time": "2025-05-07T06:02:47.838874Z"
    }
   },
   "cell_type": "code",
   "source": [
    "# Menampilkan struktur data Books\n",
    "books.info()"
   ],
   "id": "90b4fa6abaf78cd3",
   "outputs": [
    {
     "name": "stdout",
     "output_type": "stream",
     "text": [
      "<class 'pandas.core.frame.DataFrame'>\n",
      "RangeIndex: 271360 entries, 0 to 271359\n",
      "Data columns (total 8 columns):\n",
      " #   Column               Non-Null Count   Dtype \n",
      "---  ------               --------------   ----- \n",
      " 0   ISBN                 271360 non-null  object\n",
      " 1   Book-Title           271360 non-null  object\n",
      " 2   Book-Author          271358 non-null  object\n",
      " 3   Year-Of-Publication  271360 non-null  object\n",
      " 4   Publisher            271358 non-null  object\n",
      " 5   Image-URL-S          271360 non-null  object\n",
      " 6   Image-URL-M          271360 non-null  object\n",
      " 7   Image-URL-L          271357 non-null  object\n",
      "dtypes: object(8)\n",
      "memory usage: 16.6+ MB\n"
     ]
    }
   ],
   "execution_count": 11
  },
  {
   "metadata": {},
   "cell_type": "markdown",
   "source": [
    "#### Struktur Data Books\n",
    "\n",
    "Pada tahap ini, kami menampilkan struktur data dari dataset Books menggunakan fungsi `.info()`.\n",
    "Dataset Books memiliki 271.360 entri dan 8 kolom. Semua kolom bertipe data object (string).\n",
    "\n",
    "Berikut detail jumlah non-null untuk setiap kolom:\n",
    "- `ISBN`: 271.360 non-null\n",
    "- `Book-Title`: 271.360 non-null\n",
    "- `Book-Author`: 271.358 non-null\n",
    "- `Year-Of-Publication`: 271.360 non-null\n",
    "- `Publisher`: 271.358 non-null\n",
    "- `Image-URL-S`: 271.360 non-null\n",
    "- `Image-URL-M`: 271.360 non-null\n",
    "- `Image-URL-L`: 271.357 non-null\n",
    "\n",
    "Terdapat beberapa kolom dengan missing value, yaitu pada kolom `Book-Author`, `Publisher`, dan `Image-URL-L`.\n",
    "Hal ini perlu diperhatikan pada tahap pembersihan data selanjutnya."
   ],
   "id": "7c6d2d415a8fe4cc"
  },
  {
   "metadata": {
    "ExecuteTime": {
     "end_time": "2025-05-07T06:02:48.006820Z",
     "start_time": "2025-05-07T06:02:47.980623Z"
    }
   },
   "cell_type": "code",
   "source": [
    "# Melihat 5 baris pertama dari dataset Books\n",
    "books.head()"
   ],
   "id": "3e541d331aabd400",
   "outputs": [
    {
     "data": {
      "text/plain": [
       "         ISBN                                         Book-Title  \\\n",
       "0  0195153448                                Classical Mythology   \n",
       "1  0002005018                                       Clara Callan   \n",
       "2  0060973129                               Decision in Normandy   \n",
       "3  0374157065  Flu: The Story of the Great Influenza Pandemic...   \n",
       "4  0393045218                             The Mummies of Urumchi   \n",
       "\n",
       "            Book-Author Year-Of-Publication                   Publisher  \\\n",
       "0    Mark P. O. Morford                2002     Oxford University Press   \n",
       "1  Richard Bruce Wright                2001       HarperFlamingo Canada   \n",
       "2          Carlo D'Este                1991             HarperPerennial   \n",
       "3      Gina Bari Kolata                1999        Farrar Straus Giroux   \n",
       "4       E. J. W. Barber                1999  W. W. Norton &amp; Company   \n",
       "\n",
       "                                         Image-URL-S  \\\n",
       "0  http://images.amazon.com/images/P/0195153448.0...   \n",
       "1  http://images.amazon.com/images/P/0002005018.0...   \n",
       "2  http://images.amazon.com/images/P/0060973129.0...   \n",
       "3  http://images.amazon.com/images/P/0374157065.0...   \n",
       "4  http://images.amazon.com/images/P/0393045218.0...   \n",
       "\n",
       "                                         Image-URL-M  \\\n",
       "0  http://images.amazon.com/images/P/0195153448.0...   \n",
       "1  http://images.amazon.com/images/P/0002005018.0...   \n",
       "2  http://images.amazon.com/images/P/0060973129.0...   \n",
       "3  http://images.amazon.com/images/P/0374157065.0...   \n",
       "4  http://images.amazon.com/images/P/0393045218.0...   \n",
       "\n",
       "                                         Image-URL-L  \n",
       "0  http://images.amazon.com/images/P/0195153448.0...  \n",
       "1  http://images.amazon.com/images/P/0002005018.0...  \n",
       "2  http://images.amazon.com/images/P/0060973129.0...  \n",
       "3  http://images.amazon.com/images/P/0374157065.0...  \n",
       "4  http://images.amazon.com/images/P/0393045218.0...  "
      ],
      "text/html": [
       "<div>\n",
       "<style scoped>\n",
       "    .dataframe tbody tr th:only-of-type {\n",
       "        vertical-align: middle;\n",
       "    }\n",
       "\n",
       "    .dataframe tbody tr th {\n",
       "        vertical-align: top;\n",
       "    }\n",
       "\n",
       "    .dataframe thead th {\n",
       "        text-align: right;\n",
       "    }\n",
       "</style>\n",
       "<table border=\"1\" class=\"dataframe\">\n",
       "  <thead>\n",
       "    <tr style=\"text-align: right;\">\n",
       "      <th></th>\n",
       "      <th>ISBN</th>\n",
       "      <th>Book-Title</th>\n",
       "      <th>Book-Author</th>\n",
       "      <th>Year-Of-Publication</th>\n",
       "      <th>Publisher</th>\n",
       "      <th>Image-URL-S</th>\n",
       "      <th>Image-URL-M</th>\n",
       "      <th>Image-URL-L</th>\n",
       "    </tr>\n",
       "  </thead>\n",
       "  <tbody>\n",
       "    <tr>\n",
       "      <th>0</th>\n",
       "      <td>0195153448</td>\n",
       "      <td>Classical Mythology</td>\n",
       "      <td>Mark P. O. Morford</td>\n",
       "      <td>2002</td>\n",
       "      <td>Oxford University Press</td>\n",
       "      <td>http://images.amazon.com/images/P/0195153448.0...</td>\n",
       "      <td>http://images.amazon.com/images/P/0195153448.0...</td>\n",
       "      <td>http://images.amazon.com/images/P/0195153448.0...</td>\n",
       "    </tr>\n",
       "    <tr>\n",
       "      <th>1</th>\n",
       "      <td>0002005018</td>\n",
       "      <td>Clara Callan</td>\n",
       "      <td>Richard Bruce Wright</td>\n",
       "      <td>2001</td>\n",
       "      <td>HarperFlamingo Canada</td>\n",
       "      <td>http://images.amazon.com/images/P/0002005018.0...</td>\n",
       "      <td>http://images.amazon.com/images/P/0002005018.0...</td>\n",
       "      <td>http://images.amazon.com/images/P/0002005018.0...</td>\n",
       "    </tr>\n",
       "    <tr>\n",
       "      <th>2</th>\n",
       "      <td>0060973129</td>\n",
       "      <td>Decision in Normandy</td>\n",
       "      <td>Carlo D'Este</td>\n",
       "      <td>1991</td>\n",
       "      <td>HarperPerennial</td>\n",
       "      <td>http://images.amazon.com/images/P/0060973129.0...</td>\n",
       "      <td>http://images.amazon.com/images/P/0060973129.0...</td>\n",
       "      <td>http://images.amazon.com/images/P/0060973129.0...</td>\n",
       "    </tr>\n",
       "    <tr>\n",
       "      <th>3</th>\n",
       "      <td>0374157065</td>\n",
       "      <td>Flu: The Story of the Great Influenza Pandemic...</td>\n",
       "      <td>Gina Bari Kolata</td>\n",
       "      <td>1999</td>\n",
       "      <td>Farrar Straus Giroux</td>\n",
       "      <td>http://images.amazon.com/images/P/0374157065.0...</td>\n",
       "      <td>http://images.amazon.com/images/P/0374157065.0...</td>\n",
       "      <td>http://images.amazon.com/images/P/0374157065.0...</td>\n",
       "    </tr>\n",
       "    <tr>\n",
       "      <th>4</th>\n",
       "      <td>0393045218</td>\n",
       "      <td>The Mummies of Urumchi</td>\n",
       "      <td>E. J. W. Barber</td>\n",
       "      <td>1999</td>\n",
       "      <td>W. W. Norton &amp;amp; Company</td>\n",
       "      <td>http://images.amazon.com/images/P/0393045218.0...</td>\n",
       "      <td>http://images.amazon.com/images/P/0393045218.0...</td>\n",
       "      <td>http://images.amazon.com/images/P/0393045218.0...</td>\n",
       "    </tr>\n",
       "  </tbody>\n",
       "</table>\n",
       "</div>"
      ]
     },
     "execution_count": 12,
     "metadata": {},
     "output_type": "execute_result"
    }
   ],
   "execution_count": 12
  },
  {
   "metadata": {},
   "cell_type": "markdown",
   "source": [
    "#### Sampel Data Books\n",
    "\n",
    "Pada tahap ini, kami menampilkan lima baris pertama dari dataset Books menggunakan fungsi `.head()`.\n",
    "Tujuannya adalah untuk memahami struktur data dan tipe informasi yang tersedia di dalam dataset.\n",
    "\n",
    "Contoh data dari lima buku pertama adalah sebagai berikut:\n",
    "- Buku pertama berjudul **\"Classical Mythology\"** karya **Mark P. O. Morford**, diterbitkan pada tahun **2002** oleh **Oxford University Press**.\n",
    "- Buku kedua berjudul **\"Clara Callan\"** karya **Richard Bruce Wright**, diterbitkan pada tahun **2001** oleh **HarperFlamingo Canada**.\n",
    "- Buku ketiga berjudul **\"Decision in Normandy\"** karya **Carlo D'Este**, diterbitkan pada tahun **1991** oleh **HarperPerennial**.\n",
    "- Buku keempat berjudul **\"Flu: The Story of the Great Influenza Pandemic of 1918 and the Search for the Virus That Caused It\"** karya **Gina Bari Kolata**, diterbitkan pada tahun **1999** oleh **Farrar Straus Giroux**.\n",
    "- Buku kelima berjudul **\"The Mummies of Urumchi\"** karya **E. J. W. Barber**, diterbitkan pada tahun **1999** oleh **W. W. Norton & Company**.\n",
    "\n",
    "Selain informasi mengenai ISBN, judul, penulis, dan penerbit, dataset ini juga menyediakan URL gambar sampul buku dalam tiga ukuran (kecil, sedang, besar)."
   ],
   "id": "a69807753216d5a5"
  },
  {
   "metadata": {
    "ExecuteTime": {
     "end_time": "2025-05-07T06:02:49.297106Z",
     "start_time": "2025-05-07T06:02:48.132460Z"
    }
   },
   "cell_type": "code",
   "source": [
    "# Menampilkan statistik ringkasan untuk Books\n",
    "books.describe(include='all')"
   ],
   "id": "9923b06d968c2d4a",
   "outputs": [
    {
     "data": {
      "text/plain": [
       "              ISBN      Book-Title      Book-Author Year-Of-Publication  \\\n",
       "count       271360          271360           271358              271360   \n",
       "unique      271360          242135           102022                 118   \n",
       "top     0195153448  Selected Poems  Agatha Christie                2002   \n",
       "freq             1              27              632               17627   \n",
       "\n",
       "        Publisher                                        Image-URL-S  \\\n",
       "count      271358                                             271360   \n",
       "unique      16807                                             271044   \n",
       "top     Harlequin  http://images.amazon.com/images/P/185326119X.0...   \n",
       "freq         7535                                                  2   \n",
       "\n",
       "                                              Image-URL-M  \\\n",
       "count                                              271360   \n",
       "unique                                             271044   \n",
       "top     http://images.amazon.com/images/P/185326119X.0...   \n",
       "freq                                                    2   \n",
       "\n",
       "                                              Image-URL-L  \n",
       "count                                              271357  \n",
       "unique                                             271041  \n",
       "top     http://images.amazon.com/images/P/225307649X.0...  \n",
       "freq                                                    2  "
      ],
      "text/html": [
       "<div>\n",
       "<style scoped>\n",
       "    .dataframe tbody tr th:only-of-type {\n",
       "        vertical-align: middle;\n",
       "    }\n",
       "\n",
       "    .dataframe tbody tr th {\n",
       "        vertical-align: top;\n",
       "    }\n",
       "\n",
       "    .dataframe thead th {\n",
       "        text-align: right;\n",
       "    }\n",
       "</style>\n",
       "<table border=\"1\" class=\"dataframe\">\n",
       "  <thead>\n",
       "    <tr style=\"text-align: right;\">\n",
       "      <th></th>\n",
       "      <th>ISBN</th>\n",
       "      <th>Book-Title</th>\n",
       "      <th>Book-Author</th>\n",
       "      <th>Year-Of-Publication</th>\n",
       "      <th>Publisher</th>\n",
       "      <th>Image-URL-S</th>\n",
       "      <th>Image-URL-M</th>\n",
       "      <th>Image-URL-L</th>\n",
       "    </tr>\n",
       "  </thead>\n",
       "  <tbody>\n",
       "    <tr>\n",
       "      <th>count</th>\n",
       "      <td>271360</td>\n",
       "      <td>271360</td>\n",
       "      <td>271358</td>\n",
       "      <td>271360</td>\n",
       "      <td>271358</td>\n",
       "      <td>271360</td>\n",
       "      <td>271360</td>\n",
       "      <td>271357</td>\n",
       "    </tr>\n",
       "    <tr>\n",
       "      <th>unique</th>\n",
       "      <td>271360</td>\n",
       "      <td>242135</td>\n",
       "      <td>102022</td>\n",
       "      <td>118</td>\n",
       "      <td>16807</td>\n",
       "      <td>271044</td>\n",
       "      <td>271044</td>\n",
       "      <td>271041</td>\n",
       "    </tr>\n",
       "    <tr>\n",
       "      <th>top</th>\n",
       "      <td>0195153448</td>\n",
       "      <td>Selected Poems</td>\n",
       "      <td>Agatha Christie</td>\n",
       "      <td>2002</td>\n",
       "      <td>Harlequin</td>\n",
       "      <td>http://images.amazon.com/images/P/185326119X.0...</td>\n",
       "      <td>http://images.amazon.com/images/P/185326119X.0...</td>\n",
       "      <td>http://images.amazon.com/images/P/225307649X.0...</td>\n",
       "    </tr>\n",
       "    <tr>\n",
       "      <th>freq</th>\n",
       "      <td>1</td>\n",
       "      <td>27</td>\n",
       "      <td>632</td>\n",
       "      <td>17627</td>\n",
       "      <td>7535</td>\n",
       "      <td>2</td>\n",
       "      <td>2</td>\n",
       "      <td>2</td>\n",
       "    </tr>\n",
       "  </tbody>\n",
       "</table>\n",
       "</div>"
      ]
     },
     "execution_count": 13,
     "metadata": {},
     "output_type": "execute_result"
    }
   ],
   "execution_count": 13
  },
  {
   "metadata": {},
   "cell_type": "markdown",
   "source": [
    "#### Statistik Ringkasan Books\n",
    "\n",
    "Pada tahap ini, kami menggunakan fungsi `.describe(include='all')` untuk melihat ringkasan statistik dari dataset Books.\n",
    "Ringkasan statistik ini membantu memahami karakteristik umum data, seperti jumlah entri, nilai unik, nilai paling sering muncul (top), dan frekuensi kemunculannya (freq).\n",
    "\n",
    "Berikut beberapa insight dari hasil statistik:\n",
    "- Terdapat **271.360** data ISBN yang unik, menunjukkan setiap buku memiliki ISBN berbeda.\n",
    "- Terdapat **242.135** judul buku yang unik. Ada beberapa judul yang sama muncul lebih dari sekali (contoh: **\"Selected Poems\"** muncul sebanyak **27 kali**).\n",
    "- Penulis paling populer dalam dataset adalah **Agatha Christie**, dengan **632** buku tercatat.\n",
    "- Tahun publikasi paling sering adalah **2002**, dengan **17.627** buku diterbitkan pada tahun tersebut.\n",
    "- Penerbit dengan jumlah buku terbanyak adalah **Harlequin**, sebanyak **7.535** buku.\n",
    "- Untuk gambar cover (`Image-URL`), sebagian besar URL unik, namun ada URL yang dipakai lebih dari sekali.\n",
    "\n",
    "Informasi ini penting untuk memahami distribusi data dan pola-pola umum sebelum melakukan tahap data preparation lebih lanjut."
   ],
   "id": "cbb2f17a4c8e1937"
  },
  {
   "metadata": {
    "ExecuteTime": {
     "end_time": "2025-05-07T06:02:49.501599Z",
     "start_time": "2025-05-07T06:02:49.410098Z"
    }
   },
   "cell_type": "code",
   "source": [
    "# Mengecek jumlah missing value pada setiap kolom di Books\n",
    "books.isnull().sum()"
   ],
   "id": "4d5e229af8276385",
   "outputs": [
    {
     "data": {
      "text/plain": [
       "ISBN                   0\n",
       "Book-Title             0\n",
       "Book-Author            2\n",
       "Year-Of-Publication    0\n",
       "Publisher              2\n",
       "Image-URL-S            0\n",
       "Image-URL-M            0\n",
       "Image-URL-L            3\n",
       "dtype: int64"
      ]
     },
     "execution_count": 14,
     "metadata": {},
     "output_type": "execute_result"
    }
   ],
   "execution_count": 14
  },
  {
   "metadata": {},
   "cell_type": "markdown",
   "source": [
    "#### Missing Value Books\n",
    "\n",
    "Pada tahap ini, kami memeriksa jumlah missing value di setiap kolom pada dataset Books menggunakan fungsi `.isnull().sum()`.\n",
    "Pemeriksaan ini penting untuk mengidentifikasi kolom-kolom yang memerlukan penanganan khusus pada tahap data preparation.\n",
    "\n",
    "Hasil pemeriksaan menunjukkan:\n",
    "- Kolom `Book-Author` memiliki **2** missing value.\n",
    "- Kolom `Publisher` memiliki **2** missing value.\n",
    "- Kolom `Image-URL-L` memiliki **3** missing value.\n",
    "- Kolom lainnya (`ISBN`, `Book-Title`, `Year-Of-Publication`, `Image-URL-S`, `Image-URL-M`) tidak memiliki missing value.\n",
    "\n",
    "Dengan demikian, pada tahap selanjutnya, diperlukan strategi penanganan terhadap missing value, khususnya pada kolom `Book-Author`, `Publisher`, dan `Image-URL-L`."
   ],
   "id": "4c1f11fc1a26b264"
  },
  {
   "metadata": {
    "ExecuteTime": {
     "end_time": "2025-05-07T06:02:50.019141Z",
     "start_time": "2025-05-07T06:02:49.677025Z"
    }
   },
   "cell_type": "code",
   "source": [
    "# Cek jumlah buku unik\n",
    "print('Jumlah ISBN unik:', ratings['ISBN'].nunique())"
   ],
   "id": "b7589bad2ad6a942",
   "outputs": [
    {
     "name": "stdout",
     "output_type": "stream",
     "text": [
      "Jumlah ISBN unik: 340556\n"
     ]
    }
   ],
   "execution_count": 15
  },
  {
   "metadata": {},
   "cell_type": "markdown",
   "source": [
    "#### Jumlah ISBN Unik\n",
    "\n",
    "Pada tahap ini, kami menghitung jumlah buku unik dalam dataset Ratings menggunakan fungsi `.nunique()` pada kolom `ISBN`.\n",
    "\n",
    "Hasilnya, terdapat sebanyak **340.556 buku unik** dalam dataset.\n",
    "Jumlah ini menunjukkan keberagaman koleksi buku yang pernah dirating oleh pengguna."
   ],
   "id": "a07c9191db817970"
  },
  {
   "metadata": {
    "ExecuteTime": {
     "end_time": "2025-05-07T06:02:50.633719Z",
     "start_time": "2025-05-07T06:02:50.115110Z"
    }
   },
   "cell_type": "code",
   "source": [
    "# Cek jumlah duplikat di Books\n",
    "print('Jumlah duplikat di Books:', books.duplicated().sum())"
   ],
   "id": "e805ab4c84c2055b",
   "outputs": [
    {
     "name": "stdout",
     "output_type": "stream",
     "text": [
      "Jumlah duplikat di Books: 0\n"
     ]
    }
   ],
   "execution_count": 16
  },
  {
   "metadata": {},
   "cell_type": "markdown",
   "source": [
    "#### Cek Duplikat di Dataset Books\n",
    "\n",
    "Pada tahap ini, kami memeriksa apakah terdapat data duplikat dalam dataset Books.\n",
    "Duplikat data dapat menyebabkan bias dalam analisis sehingga penting untuk mengidentifikasinya sejak awal.\n",
    "\n",
    "**Hasil pemeriksaan:**\n",
    "Tidak ditemukan data duplikat pada dataset Books (`Jumlah duplikat = 0`)."
   ],
   "id": "99b83ee8c72ae265"
  },
  {
   "metadata": {},
   "cell_type": "markdown",
   "source": "### Data Rating",
   "id": "1fc7b85686952f19"
  },
  {
   "metadata": {
    "ExecuteTime": {
     "end_time": "2025-05-07T06:02:50.744910Z",
     "start_time": "2025-05-07T06:02:50.683617Z"
    }
   },
   "cell_type": "code",
   "source": [
    "# Menampilkan struktur data Ratings\n",
    "ratings.info()"
   ],
   "id": "d486383d1a2bf931",
   "outputs": [
    {
     "name": "stdout",
     "output_type": "stream",
     "text": [
      "<class 'pandas.core.frame.DataFrame'>\n",
      "RangeIndex: 1149780 entries, 0 to 1149779\n",
      "Data columns (total 3 columns):\n",
      " #   Column       Non-Null Count    Dtype \n",
      "---  ------       --------------    ----- \n",
      " 0   User-ID      1149780 non-null  int64 \n",
      " 1   ISBN         1149780 non-null  object\n",
      " 2   Book-Rating  1149780 non-null  int64 \n",
      "dtypes: int64(2), object(1)\n",
      "memory usage: 26.3+ MB\n"
     ]
    }
   ],
   "execution_count": 17
  },
  {
   "metadata": {},
   "cell_type": "markdown",
   "source": [
    "#### Struktur Data Ratings\n",
    "\n",
    "Pada tahap ini, kami menampilkan struktur data dari dataset Ratings menggunakan fungsi `.info()`.\n",
    "Dataset Ratings memiliki sebanyak **1.149.780 entri** dengan **3 kolom**: `User-ID`, `ISBN`, dan `Book-Rating`.\n",
    "\n",
    "Detail tipe data:\n",
    "- `User-ID`: integer\n",
    "- `ISBN`: object (string)\n",
    "- `Book-Rating`: integer\n",
    "\n",
    "Semua kolom tidak memiliki missing value berdasarkan jumlah non-null yang sama dengan jumlah total entri."
   ],
   "id": "572877c4798816da"
  },
  {
   "metadata": {
    "ExecuteTime": {
     "end_time": "2025-05-07T06:02:50.791585Z",
     "start_time": "2025-05-07T06:02:50.779034Z"
    }
   },
   "cell_type": "code",
   "source": [
    "# Menampilkan 5 baris pertama dari dataset Ratings\n",
    "ratings.head()"
   ],
   "id": "7d2b79f8239ed356",
   "outputs": [
    {
     "data": {
      "text/plain": [
       "   User-ID        ISBN  Book-Rating\n",
       "0   276725  034545104X            0\n",
       "1   276726  0155061224            5\n",
       "2   276727  0446520802            0\n",
       "3   276729  052165615X            3\n",
       "4   276729  0521795028            6"
      ],
      "text/html": [
       "<div>\n",
       "<style scoped>\n",
       "    .dataframe tbody tr th:only-of-type {\n",
       "        vertical-align: middle;\n",
       "    }\n",
       "\n",
       "    .dataframe tbody tr th {\n",
       "        vertical-align: top;\n",
       "    }\n",
       "\n",
       "    .dataframe thead th {\n",
       "        text-align: right;\n",
       "    }\n",
       "</style>\n",
       "<table border=\"1\" class=\"dataframe\">\n",
       "  <thead>\n",
       "    <tr style=\"text-align: right;\">\n",
       "      <th></th>\n",
       "      <th>User-ID</th>\n",
       "      <th>ISBN</th>\n",
       "      <th>Book-Rating</th>\n",
       "    </tr>\n",
       "  </thead>\n",
       "  <tbody>\n",
       "    <tr>\n",
       "      <th>0</th>\n",
       "      <td>276725</td>\n",
       "      <td>034545104X</td>\n",
       "      <td>0</td>\n",
       "    </tr>\n",
       "    <tr>\n",
       "      <th>1</th>\n",
       "      <td>276726</td>\n",
       "      <td>0155061224</td>\n",
       "      <td>5</td>\n",
       "    </tr>\n",
       "    <tr>\n",
       "      <th>2</th>\n",
       "      <td>276727</td>\n",
       "      <td>0446520802</td>\n",
       "      <td>0</td>\n",
       "    </tr>\n",
       "    <tr>\n",
       "      <th>3</th>\n",
       "      <td>276729</td>\n",
       "      <td>052165615X</td>\n",
       "      <td>3</td>\n",
       "    </tr>\n",
       "    <tr>\n",
       "      <th>4</th>\n",
       "      <td>276729</td>\n",
       "      <td>0521795028</td>\n",
       "      <td>6</td>\n",
       "    </tr>\n",
       "  </tbody>\n",
       "</table>\n",
       "</div>"
      ]
     },
     "execution_count": 18,
     "metadata": {},
     "output_type": "execute_result"
    }
   ],
   "execution_count": 18
  },
  {
   "metadata": {},
   "cell_type": "markdown",
   "source": [
    "#### Sampel Data Ratings\n",
    "\n",
    "Pada tahap ini, kami menampilkan lima baris pertama dari dataset Ratings menggunakan fungsi `.head()`.\n",
    "Tujuannya adalah untuk memahami struktur data lebih rinci.\n",
    "\n",
    "Contoh data dari lima rating pertama adalah sebagai berikut:\n",
    "- User-ID 276725 memberi rating 0 pada buku dengan ISBN `034545104X`\n",
    "- User-ID 276726 memberi rating 5 pada buku dengan ISBN `0155061224`\n",
    "- User-ID 276727 memberi rating 0 pada buku dengan ISBN `0446520802`\n",
    "- User-ID 276729 memberi rating 3 pada buku dengan ISBN `052165615X`\n",
    "- User-ID 276729 memberi rating 6 pada buku dengan ISBN `0521795028`\n",
    "\n",
    "Hal ini menunjukkan bahwa satu user dapat memberikan rating ke lebih dari satu buku."
   ],
   "id": "499645ff74c70f36"
  },
  {
   "metadata": {
    "ExecuteTime": {
     "end_time": "2025-05-07T06:02:51.873674Z",
     "start_time": "2025-05-07T06:02:50.947778Z"
    }
   },
   "cell_type": "code",
   "source": [
    "# Menampilkan statistik ringkasan untuk Ratings\n",
    "ratings.describe(include='all')"
   ],
   "id": "30a657d07de662a6",
   "outputs": [
    {
     "data": {
      "text/plain": [
       "             User-ID        ISBN   Book-Rating\n",
       "count   1.149780e+06     1149780  1.149780e+06\n",
       "unique           NaN      340556           NaN\n",
       "top              NaN  0971880107           NaN\n",
       "freq             NaN        2502           NaN\n",
       "mean    1.403864e+05         NaN  2.866950e+00\n",
       "std     8.056228e+04         NaN  3.854184e+00\n",
       "min     2.000000e+00         NaN  0.000000e+00\n",
       "25%     7.034500e+04         NaN  0.000000e+00\n",
       "50%     1.410100e+05         NaN  0.000000e+00\n",
       "75%     2.110280e+05         NaN  7.000000e+00\n",
       "max     2.788540e+05         NaN  1.000000e+01"
      ],
      "text/html": [
       "<div>\n",
       "<style scoped>\n",
       "    .dataframe tbody tr th:only-of-type {\n",
       "        vertical-align: middle;\n",
       "    }\n",
       "\n",
       "    .dataframe tbody tr th {\n",
       "        vertical-align: top;\n",
       "    }\n",
       "\n",
       "    .dataframe thead th {\n",
       "        text-align: right;\n",
       "    }\n",
       "</style>\n",
       "<table border=\"1\" class=\"dataframe\">\n",
       "  <thead>\n",
       "    <tr style=\"text-align: right;\">\n",
       "      <th></th>\n",
       "      <th>User-ID</th>\n",
       "      <th>ISBN</th>\n",
       "      <th>Book-Rating</th>\n",
       "    </tr>\n",
       "  </thead>\n",
       "  <tbody>\n",
       "    <tr>\n",
       "      <th>count</th>\n",
       "      <td>1.149780e+06</td>\n",
       "      <td>1149780</td>\n",
       "      <td>1.149780e+06</td>\n",
       "    </tr>\n",
       "    <tr>\n",
       "      <th>unique</th>\n",
       "      <td>NaN</td>\n",
       "      <td>340556</td>\n",
       "      <td>NaN</td>\n",
       "    </tr>\n",
       "    <tr>\n",
       "      <th>top</th>\n",
       "      <td>NaN</td>\n",
       "      <td>0971880107</td>\n",
       "      <td>NaN</td>\n",
       "    </tr>\n",
       "    <tr>\n",
       "      <th>freq</th>\n",
       "      <td>NaN</td>\n",
       "      <td>2502</td>\n",
       "      <td>NaN</td>\n",
       "    </tr>\n",
       "    <tr>\n",
       "      <th>mean</th>\n",
       "      <td>1.403864e+05</td>\n",
       "      <td>NaN</td>\n",
       "      <td>2.866950e+00</td>\n",
       "    </tr>\n",
       "    <tr>\n",
       "      <th>std</th>\n",
       "      <td>8.056228e+04</td>\n",
       "      <td>NaN</td>\n",
       "      <td>3.854184e+00</td>\n",
       "    </tr>\n",
       "    <tr>\n",
       "      <th>min</th>\n",
       "      <td>2.000000e+00</td>\n",
       "      <td>NaN</td>\n",
       "      <td>0.000000e+00</td>\n",
       "    </tr>\n",
       "    <tr>\n",
       "      <th>25%</th>\n",
       "      <td>7.034500e+04</td>\n",
       "      <td>NaN</td>\n",
       "      <td>0.000000e+00</td>\n",
       "    </tr>\n",
       "    <tr>\n",
       "      <th>50%</th>\n",
       "      <td>1.410100e+05</td>\n",
       "      <td>NaN</td>\n",
       "      <td>0.000000e+00</td>\n",
       "    </tr>\n",
       "    <tr>\n",
       "      <th>75%</th>\n",
       "      <td>2.110280e+05</td>\n",
       "      <td>NaN</td>\n",
       "      <td>7.000000e+00</td>\n",
       "    </tr>\n",
       "    <tr>\n",
       "      <th>max</th>\n",
       "      <td>2.788540e+05</td>\n",
       "      <td>NaN</td>\n",
       "      <td>1.000000e+01</td>\n",
       "    </tr>\n",
       "  </tbody>\n",
       "</table>\n",
       "</div>"
      ]
     },
     "execution_count": 19,
     "metadata": {},
     "output_type": "execute_result"
    }
   ],
   "execution_count": 19
  },
  {
   "metadata": {},
   "cell_type": "markdown",
   "source": [
    "#### Statistik Ringkasan Ratings\n",
    "\n",
    "Pada tahap ini, kami menggunakan fungsi `.describe(include='all')` untuk melihat ringkasan statistik dataset Ratings.\n",
    "\n",
    "Beberapa insight penting:\n",
    "- Rata-rata nilai rating adalah **2.87**, dengan standar deviasi sebesar **3.85**.\n",
    "- Rating minimum adalah **0** dan maksimum **10**.\n",
    "- Sebanyak 50% data memiliki rating **0**, yang menunjukkan banyak user melakukan rating kosong (default).\n",
    "- ISBN paling sering muncul adalah `0971880107`, sebanyak **2.502 kali**.\n",
    "- Terdapat **340.556 ISBN unik** di dalam dataset.\n",
    "\n",
    "Data ini menunjukkan adanya sparsity pada interaksi user-buku, yang merupakan karakteristik umum pada sistem rekomendasi."
   ],
   "id": "b2df0596e03d9845"
  },
  {
   "metadata": {
    "ExecuteTime": {
     "end_time": "2025-05-07T06:02:52.172492Z",
     "start_time": "2025-05-07T06:02:52.096129Z"
    }
   },
   "cell_type": "code",
   "source": [
    "# Mengecek jumlah missing value di setiap kolom di Ratings\n",
    "ratings.isnull().sum()"
   ],
   "id": "313c6edbd5a9595f",
   "outputs": [
    {
     "data": {
      "text/plain": [
       "User-ID        0\n",
       "ISBN           0\n",
       "Book-Rating    0\n",
       "dtype: int64"
      ]
     },
     "execution_count": 20,
     "metadata": {},
     "output_type": "execute_result"
    }
   ],
   "execution_count": 20
  },
  {
   "metadata": {},
   "cell_type": "markdown",
   "source": [
    "#### Missing Value Ratings\n",
    "\n",
    "Pada tahap ini, kami memeriksa jumlah missing value di setiap kolom menggunakan fungsi `.isnull().sum()`.\n",
    "Hasilnya:\n",
    "\n",
    "- `User-ID`: 0 missing value\n",
    "- `ISBN`: 0 missing value\n",
    "- `Book-Rating`: 0 missing value\n",
    "\n",
    "Dengan demikian, dataset Ratings **tidak memiliki missing value** dan dapat langsung digunakan dalam proses selanjutnya tanpa perlu tahap pembersihan untuk missing value."
   ],
   "id": "2bf6a3fbf2549869"
  },
  {
   "metadata": {
    "ExecuteTime": {
     "end_time": "2025-05-07T06:02:52.782698Z",
     "start_time": "2025-05-07T06:02:52.344748Z"
    }
   },
   "cell_type": "code",
   "source": [
    "# Cek jumlah duplikat di Ratings\n",
    "print('Jumlah duplikat di Ratings:', ratings.duplicated().sum())"
   ],
   "id": "24fe7357bb8b48a3",
   "outputs": [
    {
     "name": "stdout",
     "output_type": "stream",
     "text": [
      "Jumlah duplikat di Ratings: 0\n"
     ]
    }
   ],
   "execution_count": 21
  },
  {
   "metadata": {},
   "cell_type": "markdown",
   "source": [
    "#### Cek Duplikat di Dataset Ratings\n",
    "\n",
    "Akhirnya, kami memeriksa data duplikat pada dataset Ratings.\n",
    "Karena Ratings merupakan data interaksi user-buku, duplikasi bisa mengganggu keakuratan model rekomendasi.\n",
    "\n",
    "**Hasil pemeriksaan:**\n",
    "Tidak ditemukan data duplikat pada dataset Ratings (`Jumlah duplikat = 0`).\n"
   ],
   "id": "a977605a5c59fc8"
  },
  {
   "metadata": {},
   "cell_type": "markdown",
   "source": "### Data User",
   "id": "ea627f6d6d9d204a"
  },
  {
   "metadata": {
    "ExecuteTime": {
     "end_time": "2025-05-07T06:02:52.909713Z",
     "start_time": "2025-05-07T06:02:52.880102Z"
    }
   },
   "cell_type": "code",
   "source": [
    "# Menampilkan struktur data Users\n",
    "users.info()"
   ],
   "id": "300c574cb25585ed",
   "outputs": [
    {
     "name": "stdout",
     "output_type": "stream",
     "text": [
      "<class 'pandas.core.frame.DataFrame'>\n",
      "RangeIndex: 278858 entries, 0 to 278857\n",
      "Data columns (total 3 columns):\n",
      " #   Column    Non-Null Count   Dtype  \n",
      "---  ------    --------------   -----  \n",
      " 0   User-ID   278858 non-null  int64  \n",
      " 1   Location  278858 non-null  object \n",
      " 2   Age       168096 non-null  float64\n",
      "dtypes: float64(1), int64(1), object(1)\n",
      "memory usage: 6.4+ MB\n"
     ]
    }
   ],
   "execution_count": 22
  },
  {
   "metadata": {},
   "cell_type": "markdown",
   "source": [
    "#### Struktur Data Users\n",
    "\n",
    "Pada tahap ini, kami menampilkan struktur data dari dataset Users menggunakan fungsi `.info()`.\n",
    "Dataset Users memiliki sebanyak **278.858 entri** dengan **3 kolom**, yaitu: `User-ID`, `Location`, dan `Age`.\n",
    "\n",
    "Detail tipe data:\n",
    "- `User-ID`: integer\n",
    "- `Location`: object (string)\n",
    "- `Age`: float64\n",
    "\n",
    "Terdapat missing value pada kolom `Age`, karena jumlah non-null lebih sedikit dibanding total entri."
   ],
   "id": "999f5473ee8c4cb9"
  },
  {
   "metadata": {
    "ExecuteTime": {
     "end_time": "2025-05-07T06:02:53.018928Z",
     "start_time": "2025-05-07T06:02:52.993331Z"
    }
   },
   "cell_type": "code",
   "source": [
    "# Menampilkan 5 baris pertama dari dataset Users\n",
    "users.head()"
   ],
   "id": "4f3a73b74a5ba07d",
   "outputs": [
    {
     "data": {
      "text/plain": [
       "   User-ID                            Location   Age\n",
       "0        1                  nyc, new york, usa   NaN\n",
       "1        2           stockton, california, usa  18.0\n",
       "2        3     moscow, yukon territory, russia   NaN\n",
       "3        4           porto, v.n.gaia, portugal  17.0\n",
       "4        5  farnborough, hants, united kingdom   NaN"
      ],
      "text/html": [
       "<div>\n",
       "<style scoped>\n",
       "    .dataframe tbody tr th:only-of-type {\n",
       "        vertical-align: middle;\n",
       "    }\n",
       "\n",
       "    .dataframe tbody tr th {\n",
       "        vertical-align: top;\n",
       "    }\n",
       "\n",
       "    .dataframe thead th {\n",
       "        text-align: right;\n",
       "    }\n",
       "</style>\n",
       "<table border=\"1\" class=\"dataframe\">\n",
       "  <thead>\n",
       "    <tr style=\"text-align: right;\">\n",
       "      <th></th>\n",
       "      <th>User-ID</th>\n",
       "      <th>Location</th>\n",
       "      <th>Age</th>\n",
       "    </tr>\n",
       "  </thead>\n",
       "  <tbody>\n",
       "    <tr>\n",
       "      <th>0</th>\n",
       "      <td>1</td>\n",
       "      <td>nyc, new york, usa</td>\n",
       "      <td>NaN</td>\n",
       "    </tr>\n",
       "    <tr>\n",
       "      <th>1</th>\n",
       "      <td>2</td>\n",
       "      <td>stockton, california, usa</td>\n",
       "      <td>18.0</td>\n",
       "    </tr>\n",
       "    <tr>\n",
       "      <th>2</th>\n",
       "      <td>3</td>\n",
       "      <td>moscow, yukon territory, russia</td>\n",
       "      <td>NaN</td>\n",
       "    </tr>\n",
       "    <tr>\n",
       "      <th>3</th>\n",
       "      <td>4</td>\n",
       "      <td>porto, v.n.gaia, portugal</td>\n",
       "      <td>17.0</td>\n",
       "    </tr>\n",
       "    <tr>\n",
       "      <th>4</th>\n",
       "      <td>5</td>\n",
       "      <td>farnborough, hants, united kingdom</td>\n",
       "      <td>NaN</td>\n",
       "    </tr>\n",
       "  </tbody>\n",
       "</table>\n",
       "</div>"
      ]
     },
     "execution_count": 23,
     "metadata": {},
     "output_type": "execute_result"
    }
   ],
   "execution_count": 23
  },
  {
   "metadata": {},
   "cell_type": "markdown",
   "source": [
    "#### Sampel Data Users\n",
    "\n",
    "Pada tahap ini, kami menampilkan lima baris pertama dari dataset Users menggunakan fungsi `.head()`.\n",
    "Tujuannya adalah untuk memahami bentuk dan isi data pengguna.\n",
    "\n",
    "Contoh data dari lima pengguna pertama:\n",
    "- User-ID 1 berasal dari lokasi **\"nyc, new york, usa\"** dengan usia tidak tersedia (NaN).\n",
    "- User-ID 2 berasal dari lokasi **\"stockton, california, usa\"** dengan usia **18 tahun**.\n",
    "- User-ID 3 berasal dari lokasi **\"moscow, yukon territory, russia\"** dengan usia tidak tersedia (NaN).\n",
    "- User-ID 4 berasal dari lokasi **\"porto, v.n.gaia, portugal\"** dengan usia **17 tahun**.\n",
    "- User-ID 5 berasal dari lokasi **\"farnborough, hants, united kingdom\"** dengan usia tidak tersedia (NaN).\n",
    "\n",
    "Terlihat bahwa kolom `Location` berisi informasi negara/kota pengguna, dan sebagian besar nilai `Age` kosong."
   ],
   "id": "8074fdeaf24758a"
  },
  {
   "metadata": {
    "ExecuteTime": {
     "end_time": "2025-05-07T06:02:53.287189Z",
     "start_time": "2025-05-07T06:02:53.147947Z"
    }
   },
   "cell_type": "code",
   "source": [
    "# Menampilkan statistik ringkasan untuk Users\n",
    "users.describe(include='all')"
   ],
   "id": "7b6dd7c5136465af",
   "outputs": [
    {
     "data": {
      "text/plain": [
       "             User-ID                         Location            Age\n",
       "count   278858.00000                           278858  168096.000000\n",
       "unique           NaN                            57339            NaN\n",
       "top              NaN  london, england, united kingdom            NaN\n",
       "freq             NaN                             2506            NaN\n",
       "mean    139429.50000                              NaN      34.751434\n",
       "std      80499.51502                              NaN      14.428097\n",
       "min          1.00000                              NaN       0.000000\n",
       "25%      69715.25000                              NaN      24.000000\n",
       "50%     139429.50000                              NaN      32.000000\n",
       "75%     209143.75000                              NaN      44.000000\n",
       "max     278858.00000                              NaN     244.000000"
      ],
      "text/html": [
       "<div>\n",
       "<style scoped>\n",
       "    .dataframe tbody tr th:only-of-type {\n",
       "        vertical-align: middle;\n",
       "    }\n",
       "\n",
       "    .dataframe tbody tr th {\n",
       "        vertical-align: top;\n",
       "    }\n",
       "\n",
       "    .dataframe thead th {\n",
       "        text-align: right;\n",
       "    }\n",
       "</style>\n",
       "<table border=\"1\" class=\"dataframe\">\n",
       "  <thead>\n",
       "    <tr style=\"text-align: right;\">\n",
       "      <th></th>\n",
       "      <th>User-ID</th>\n",
       "      <th>Location</th>\n",
       "      <th>Age</th>\n",
       "    </tr>\n",
       "  </thead>\n",
       "  <tbody>\n",
       "    <tr>\n",
       "      <th>count</th>\n",
       "      <td>278858.00000</td>\n",
       "      <td>278858</td>\n",
       "      <td>168096.000000</td>\n",
       "    </tr>\n",
       "    <tr>\n",
       "      <th>unique</th>\n",
       "      <td>NaN</td>\n",
       "      <td>57339</td>\n",
       "      <td>NaN</td>\n",
       "    </tr>\n",
       "    <tr>\n",
       "      <th>top</th>\n",
       "      <td>NaN</td>\n",
       "      <td>london, england, united kingdom</td>\n",
       "      <td>NaN</td>\n",
       "    </tr>\n",
       "    <tr>\n",
       "      <th>freq</th>\n",
       "      <td>NaN</td>\n",
       "      <td>2506</td>\n",
       "      <td>NaN</td>\n",
       "    </tr>\n",
       "    <tr>\n",
       "      <th>mean</th>\n",
       "      <td>139429.50000</td>\n",
       "      <td>NaN</td>\n",
       "      <td>34.751434</td>\n",
       "    </tr>\n",
       "    <tr>\n",
       "      <th>std</th>\n",
       "      <td>80499.51502</td>\n",
       "      <td>NaN</td>\n",
       "      <td>14.428097</td>\n",
       "    </tr>\n",
       "    <tr>\n",
       "      <th>min</th>\n",
       "      <td>1.00000</td>\n",
       "      <td>NaN</td>\n",
       "      <td>0.000000</td>\n",
       "    </tr>\n",
       "    <tr>\n",
       "      <th>25%</th>\n",
       "      <td>69715.25000</td>\n",
       "      <td>NaN</td>\n",
       "      <td>24.000000</td>\n",
       "    </tr>\n",
       "    <tr>\n",
       "      <th>50%</th>\n",
       "      <td>139429.50000</td>\n",
       "      <td>NaN</td>\n",
       "      <td>32.000000</td>\n",
       "    </tr>\n",
       "    <tr>\n",
       "      <th>75%</th>\n",
       "      <td>209143.75000</td>\n",
       "      <td>NaN</td>\n",
       "      <td>44.000000</td>\n",
       "    </tr>\n",
       "    <tr>\n",
       "      <th>max</th>\n",
       "      <td>278858.00000</td>\n",
       "      <td>NaN</td>\n",
       "      <td>244.000000</td>\n",
       "    </tr>\n",
       "  </tbody>\n",
       "</table>\n",
       "</div>"
      ]
     },
     "execution_count": 24,
     "metadata": {},
     "output_type": "execute_result"
    }
   ],
   "execution_count": 24
  },
  {
   "metadata": {},
   "cell_type": "markdown",
   "source": [
    "#### Statistik Ringkasan Users\n",
    "\n",
    "Pada tahap ini, kami menggunakan fungsi `.describe(include='all')` untuk melihat ringkasan statistik dari dataset Users.\n",
    "\n",
    "Beberapa insight penting:\n",
    "- Rata-rata usia pengguna adalah **34.75 tahun**.\n",
    "- Usia minimum adalah **0 tahun**, dan maksimum tercatat **244 tahun**, yang kemungkinan merupakan data tidak valid.\n",
    "- Lokasi paling sering muncul adalah **\"london, england, united kingdom\"**, dengan sebanyak **2.506 pengguna** berasal dari lokasi tersebut.\n",
    "- Terdapat **57.339 lokasi unik** dalam dataset.\n",
    "\n",
    "Data ini mengindikasikan adanya kebutuhan untuk membersihkan nilai anomali pada kolom `Age` dalam tahap data preparation."
   ],
   "id": "c32c6b199dd1dc50"
  },
  {
   "metadata": {
    "ExecuteTime": {
     "end_time": "2025-05-07T06:02:53.475738Z",
     "start_time": "2025-05-07T06:02:53.447516Z"
    }
   },
   "cell_type": "code",
   "source": [
    "# Mengecek jumlah missing value di setiap kolom di Users\n",
    "users.isnull().sum()"
   ],
   "id": "55b695e7976099f8",
   "outputs": [
    {
     "data": {
      "text/plain": [
       "User-ID          0\n",
       "Location         0\n",
       "Age         110762\n",
       "dtype: int64"
      ]
     },
     "execution_count": 25,
     "metadata": {},
     "output_type": "execute_result"
    }
   ],
   "execution_count": 25
  },
  {
   "metadata": {},
   "cell_type": "markdown",
   "source": [
    "#### Missing Value Users\n",
    "\n",
    "Pada tahap ini, kami memeriksa jumlah missing value di setiap kolom dataset Users menggunakan fungsi `.isnull().sum()`.\n",
    "\n",
    "Hasil pemeriksaan:\n",
    "- `User-ID`: 0 missing value\n",
    "- `Location`: 0 missing value\n",
    "- `Age`: **110.762 missing value**\n",
    "\n",
    "Dengan demikian, sekitar 40% data pada kolom `Age` hilang, sehingga diperlukan strategi khusus untuk menangani missing value ini, seperti imputasi atau penghapusan data."
   ],
   "id": "f3011c6649fbe0a9"
  },
  {
   "metadata": {
    "ExecuteTime": {
     "end_time": "2025-05-07T06:02:53.694850Z",
     "start_time": "2025-05-07T06:02:53.651671Z"
    }
   },
   "cell_type": "code",
   "source": [
    "# Cek jumlah user unik\n",
    "print('Jumlah User-ID unik:', ratings['User-ID'].nunique())"
   ],
   "id": "65382fd407290ac2",
   "outputs": [
    {
     "name": "stdout",
     "output_type": "stream",
     "text": [
      "Jumlah User-ID unik: 105283\n"
     ]
    }
   ],
   "execution_count": 26
  },
  {
   "metadata": {},
   "cell_type": "markdown",
   "source": [
    "#### Jumlah User-ID Unik\n",
    "\n",
    "Pada tahap ini, kami menghitung jumlah user unik dalam dataset Ratings menggunakan fungsi `.nunique()` pada kolom `User-ID`.\n",
    "\n",
    "Hasilnya, terdapat sebanyak **105.283 user unik** dalam dataset.\n",
    "Jumlah ini mencerminkan banyaknya individu berbeda yang memberikan rating terhadap buku."
   ],
   "id": "d001ecd78481ef39"
  },
  {
   "metadata": {
    "ExecuteTime": {
     "end_time": "2025-05-07T06:02:54.023427Z",
     "start_time": "2025-05-07T06:02:53.873231Z"
    }
   },
   "cell_type": "code",
   "source": [
    "# Cek duplikat di Users\n",
    "print('Duplikat di Users:', users.duplicated().sum())"
   ],
   "id": "2379339bb262e4d",
   "outputs": [
    {
     "name": "stdout",
     "output_type": "stream",
     "text": [
      "Duplikat di Users: 0\n"
     ]
    }
   ],
   "execution_count": 27
  },
  {
   "metadata": {},
   "cell_type": "markdown",
   "source": [
    "#### Cek Duplikat di Dataset Users\n",
    "\n",
    "Selanjutnya, kami memeriksa keberadaan data duplikat dalam dataset Users.\n",
    "Memastikan tidak adanya duplikat penting untuk menjaga keakuratan dalam analisis pengguna.\n",
    "\n",
    "**Hasil pemeriksaan:**\n",
    "Tidak ditemukan data duplikat pada dataset Users (`Jumlah duplikat = 0`)."
   ],
   "id": "eb07c29fe660c6c8"
  },
  {
   "metadata": {},
   "cell_type": "markdown",
   "source": "### Exploratory Data Analysis (EDA)",
   "id": "3ff474436c350a91"
  },
  {
   "metadata": {
    "ExecuteTime": {
     "end_time": "2025-05-07T06:02:55.142652Z",
     "start_time": "2025-05-07T06:02:54.056618Z"
    }
   },
   "cell_type": "code",
   "source": [
    "# Import library visualisasi\n",
    "import matplotlib.pyplot as plt\n",
    "import seaborn as sns\n",
    "\n",
    "# Menghitung jumlah rating per ISBN\n",
    "top_books = ratings['ISBN'].value_counts().head(10)\n",
    "\n",
    "# Visualisasi 10 ISBN dengan rating terbanyak\n",
    "plt.figure(figsize=(12,6))\n",
    "sns.barplot(x=top_books.values, y=top_books.index)\n",
    "plt.title('10 Buku dengan Rating Terbanyak (ISBN)')\n",
    "plt.xlabel('Jumlah Rating')\n",
    "plt.ylabel('ISBN Buku')\n",
    "plt.grid(True)\n",
    "plt.show()"
   ],
   "id": "c10e8a5f506c811e",
   "outputs": [
    {
     "data": {
      "text/plain": [
       "<Figure size 1200x600 with 1 Axes>"
      ],
      "image/png": "[encoded data removed]"
     },
     "metadata": {},
     "output_type": "display_data"
    }
   ],
   "execution_count": 28
  },
  {
   "metadata": {},
   "cell_type": "markdown",
   "source": [
    "#### Insight 10 Buku dengan Rating Terbanyak\n",
    "\n",
    "Berdasarkan hasil analisis, ISBN `0971880107` menjadi buku dengan jumlah rating terbanyak, melebihi **2500 rating**.\n",
    "Diikuti oleh ISBN `0316666343` dan `0385504209` dengan jumlah rating yang juga cukup tinggi.\n",
    "\n",
    "Hal ini menunjukkan bahwa ada beberapa buku populer yang menjadi favorit pengguna untuk diberi rating, yang bisa menjadi kandidat kuat untuk baseline rekomendasi atau analisis popularitas lebih lanjut.\n",
    "\n",
    "Perlu diperhatikan bahwa ISBN digunakan dalam dataset ini tanpa detail metadata buku (judul, penulis), sehingga pada tahap implementasi lebih lanjut, mapping ke informasi tambahan mungkin diperlukan."
   ],
   "id": "884fa65e49d871ba"
  },
  {
   "metadata": {
    "ExecuteTime": {
     "end_time": "2025-05-07T06:02:55.785122Z",
     "start_time": "2025-05-07T06:02:55.192209Z"
    }
   },
   "cell_type": "code",
   "source": [
    "# Ambil 10 ISBN yang paling banyak dirating\n",
    "top_books = ratings['ISBN'].value_counts().head(10).reset_index()\n",
    "\n",
    "# Rename kolom supaya mudah di-merge\n",
    "top_books.columns = ['ISBN', 'Jumlah Rating']\n",
    "\n",
    "# Join ke dataset books untuk dapatkan judul buku\n",
    "top_books_titles = top_books.merge(books[['ISBN', 'Book-Title']], on='ISBN', how='left')\n",
    "\n",
    "# Tampilkan hasil\n",
    "top_books_titles[['ISBN', 'Book-Title', 'Jumlah Rating']]"
   ],
   "id": "e76afe27e0884c2",
   "outputs": [
    {
     "data": {
      "text/plain": [
       "         ISBN                                       Book-Title  Jumlah Rating\n",
       "0  0971880107                                      Wild Animus           2502\n",
       "1  0316666343                        The Lovely Bones: A Novel           1295\n",
       "2  0385504209                                The Da Vinci Code            883\n",
       "3  0060928336  Divine Secrets of the Ya-Ya Sisterhood: A Novel            732\n",
       "4  0312195516              The Red Tent (Bestselling Backlist)            723\n",
       "5  044023722X                                  A Painted House            647\n",
       "6  0679781587                                              NaN            639\n",
       "7  0142001740                          The Secret Life of Bees            615\n",
       "8  067976402X                           Snow Falling on Cedars            614\n",
       "9  0671027360                              Angels &amp; Demons            586"
      ],
      "text/html": [
       "<div>\n",
       "<style scoped>\n",
       "    .dataframe tbody tr th:only-of-type {\n",
       "        vertical-align: middle;\n",
       "    }\n",
       "\n",
       "    .dataframe tbody tr th {\n",
       "        vertical-align: top;\n",
       "    }\n",
       "\n",
       "    .dataframe thead th {\n",
       "        text-align: right;\n",
       "    }\n",
       "</style>\n",
       "<table border=\"1\" class=\"dataframe\">\n",
       "  <thead>\n",
       "    <tr style=\"text-align: right;\">\n",
       "      <th></th>\n",
       "      <th>ISBN</th>\n",
       "      <th>Book-Title</th>\n",
       "      <th>Jumlah Rating</th>\n",
       "    </tr>\n",
       "  </thead>\n",
       "  <tbody>\n",
       "    <tr>\n",
       "      <th>0</th>\n",
       "      <td>0971880107</td>\n",
       "      <td>Wild Animus</td>\n",
       "      <td>2502</td>\n",
       "    </tr>\n",
       "    <tr>\n",
       "      <th>1</th>\n",
       "      <td>0316666343</td>\n",
       "      <td>The Lovely Bones: A Novel</td>\n",
       "      <td>1295</td>\n",
       "    </tr>\n",
       "    <tr>\n",
       "      <th>2</th>\n",
       "      <td>0385504209</td>\n",
       "      <td>The Da Vinci Code</td>\n",
       "      <td>883</td>\n",
       "    </tr>\n",
       "    <tr>\n",
       "      <th>3</th>\n",
       "      <td>0060928336</td>\n",
       "      <td>Divine Secrets of the Ya-Ya Sisterhood: A Novel</td>\n",
       "      <td>732</td>\n",
       "    </tr>\n",
       "    <tr>\n",
       "      <th>4</th>\n",
       "      <td>0312195516</td>\n",
       "      <td>The Red Tent (Bestselling Backlist)</td>\n",
       "      <td>723</td>\n",
       "    </tr>\n",
       "    <tr>\n",
       "      <th>5</th>\n",
       "      <td>044023722X</td>\n",
       "      <td>A Painted House</td>\n",
       "      <td>647</td>\n",
       "    </tr>\n",
       "    <tr>\n",
       "      <th>6</th>\n",
       "      <td>0679781587</td>\n",
       "      <td>NaN</td>\n",
       "      <td>639</td>\n",
       "    </tr>\n",
       "    <tr>\n",
       "      <th>7</th>\n",
       "      <td>0142001740</td>\n",
       "      <td>The Secret Life of Bees</td>\n",
       "      <td>615</td>\n",
       "    </tr>\n",
       "    <tr>\n",
       "      <th>8</th>\n",
       "      <td>067976402X</td>\n",
       "      <td>Snow Falling on Cedars</td>\n",
       "      <td>614</td>\n",
       "    </tr>\n",
       "    <tr>\n",
       "      <th>9</th>\n",
       "      <td>0671027360</td>\n",
       "      <td>Angels &amp;amp; Demons</td>\n",
       "      <td>586</td>\n",
       "    </tr>\n",
       "  </tbody>\n",
       "</table>\n",
       "</div>"
      ]
     },
     "execution_count": 29,
     "metadata": {},
     "output_type": "execute_result"
    }
   ],
   "execution_count": 29
  },
  {
   "metadata": {},
   "cell_type": "markdown",
   "source": [
    "#### Mapping ISBN ke Judul Buku - 10 Buku dengan Rating Terbanyak\n",
    "\n",
    "Pada tahap ini, kami memetakan 10 ISBN yang paling banyak menerima rating ke dalam judul buku yang bersangkutan.\n",
    "Tujuannya adalah untuk membuat hasil analisis lebih informatif dan mudah dipahami dibandingkan hanya menggunakan kode ISBN saja.\n",
    "\n",
    "Berikut adalah 10 buku dengan jumlah rating terbanyak:\n",
    "\n",
    "| Judul Buku | Jumlah Rating |\n",
    "|:-----------|:--------------|\n",
    "| Wild Animus | 2502 |\n",
    "| The Lovely Bones: A Novel | 1295 |\n",
    "| The Da Vinci Code | 883 |\n",
    "| Divine Secrets of the Ya-Ya Sisterhood: A Novel | 732 |\n",
    "| The Red Tent (Bestselling Backlist) | 723 |\n",
    "| A Painted House | 647 |\n",
    "| NaN | 639 |\n",
    "| The Secret Life of Bees | 615 |\n",
    "| Snow Falling on Cedars | 614 |\n",
    "| Angels & Demons | 586 |\n",
    "\n",
    "**Catatan:**\n",
    "- Terdapat satu ISBN (`0679781587`) yang tidak memiliki informasi `Book-Title` (bernilai `NaN`), sehingga perlu perhatian khusus jika data ini digunakan dalam tahap modeling atau visualisasi berikutnya.\n",
    "\n",
    "Dengan hasil ini, analisis popularitas buku dapat lebih mudah dipahami, dan sistem rekomendasi nantinya bisa memberikan rekomendasi berbasis judul buku, bukan hanya berdasarkan ISBN."
   ],
   "id": "873fe3ac285d1684"
  },
  {
   "metadata": {
    "ExecuteTime": {
     "end_time": "2025-05-07T06:02:57.932447Z",
     "start_time": "2025-05-07T06:02:55.851515Z"
    }
   },
   "cell_type": "code",
   "source": [
    "# Visualisasi distribusi rating\n",
    "plt.figure(figsize=(10,6))\n",
    "sns.countplot(x='Book-Rating', data=ratings)  # Hapus palette\n",
    "plt.title('Distribusi Nilai Rating Buku')\n",
    "plt.xlabel('Rating')\n",
    "plt.ylabel('Jumlah')\n",
    "plt.grid(True)\n",
    "plt.show()"
   ],
   "id": "6a3857726aacb12",
   "outputs": [
    {
     "data": {
      "text/plain": [
       "<Figure size 1000x600 with 1 Axes>"
      ],
      "image/png": "[encoded data removed]"
     },
     "metadata": {},
     "output_type": "display_data"
    }
   ],
   "execution_count": 30
  },
  {
   "metadata": {},
   "cell_type": "markdown",
   "source": [
    "#### Insight Distribusi Nilai Rating Buku\n",
    "\n",
    "Visualisasi distribusi nilai rating menunjukkan bahwa sebagian besar pengguna memberikan rating **0** terhadap buku.\n",
    "Rating **0** mendominasi dengan jumlah yang sangat besar dibandingkan rating lainnya.\n",
    "\n",
    "Sementara itu, rating tinggi seperti **8**, **9**, dan **10** juga cukup banyak diberikan, menunjukkan adanya bias positif dari pengguna yang aktif memberi rating lebih baik terhadap buku yang mereka sukai.\n",
    "\n",
    "Distribusi ini memperlihatkan adanya ketimpangan yang signifikan antara rating kosong (0) dan rating valid (1-10), yang perlu dipertimbangkan pada tahap modeling rekomendasi."
   ],
   "id": "dbd1e13a8385d026"
  },
  {
   "metadata": {
    "ExecuteTime": {
     "end_time": "2025-05-07T06:02:59.437164Z",
     "start_time": "2025-05-07T06:02:58.106161Z"
    }
   },
   "cell_type": "code",
   "source": [
    "# Visualisasi distribusi usia pengguna\n",
    "plt.figure(figsize=(10,6))\n",
    "sns.histplot(users['Age'].dropna(), bins=30, kde=True, color='skyblue')\n",
    "plt.title('Distribusi Usia Pengguna')\n",
    "plt.xlabel('Usia')\n",
    "plt.ylabel('Jumlah Pengguna')\n",
    "plt.grid(True)\n",
    "plt.show()"
   ],
   "id": "a40e13b5ff4aa5d5",
   "outputs": [
    {
     "data": {
      "text/plain": [
       "<Figure size 1000x600 with 1 Axes>"
      ],
      "image/png": "[encoded data removed]"
     },
     "metadata": {},
     "output_type": "display_data"
    }
   ],
   "execution_count": 31
  },
  {
   "metadata": {},
   "cell_type": "markdown",
   "source": [
    "#### Insight Distribusi Usia Pengguna\n",
    "\n",
    "Dari hasil visualisasi distribusi usia pengguna, terlihat bahwa mayoritas pengguna berada pada rentang usia **20 hingga 50 tahun**, dengan puncak distribusi sekitar usia **30 tahun**.\n",
    "\n",
    "Terdapat beberapa nilai anomali di atas **100 tahun** bahkan mendekati **244 tahun**, yang kemungkinan merupakan kesalahan input data.\n",
    "Hal ini perlu diperhatikan pada tahap pembersihan data selanjutnya untuk menghindari bias dalam analisis lebih lanjut."
   ],
   "id": "b7dac6d9ff2eeab8"
  },
  {
   "metadata": {},
   "cell_type": "markdown",
   "source": "### Analisis Data Understanding",
   "id": "b050ce363be288c6"
  },
  {
   "metadata": {},
   "cell_type": "markdown",
   "source": [
    "#### Data Understanding\n",
    "\n",
    "Pada bagian ini, kami menjelaskan jumlah data, kondisi data, dan informasi mengenai dataset yang digunakan. Dataset yang digunakan dalam proyek ini adalah [Book Recommendation Dataset - Kaggle](https://www.kaggle.com/datasets/arashnic/book-recommendation-dataset).\n",
    "\n",
    "Dataset ini terdiri dari tiga file utama:\n",
    "- `Books.csv` : berisi informasi mengenai buku, seperti ISBN, judul, penulis, tahun terbit, penerbit, dan gambar sampul.\n",
    "- `Users.csv` : berisi informasi mengenai pengguna, seperti User-ID, lokasi, dan usia.\n",
    "- `Ratings.csv` : berisi data interaksi antara pengguna dan buku, berupa rating yang diberikan.\n",
    "\n",
    "---\n",
    "\n",
    "#### Informasi Jumlah Data\n",
    "\n",
    "- Books.csv: 271.360 entri, 8 kolom\n",
    "- Users.csv: 278.858 entri, 3 kolom\n",
    "- Ratings.csv: 1.149.780 entri, 3 kolom\n",
    "\n",
    "---\n",
    "\n",
    "#### Uraian Variabel\n",
    "\n",
    "**Books.csv**\n",
    "- `ISBN` : ID unik buku. Tipe data **object**. Jumlah non-null: **271.360**.\n",
    "- `Book-Title` : Judul buku. Tipe data **object**. Jumlah non-null: **271.360**.\n",
    "- `Book-Author` : Nama penulis buku. Tipe data **object**. Jumlah non-null: **271.358** (terdapat 2 missing value).\n",
    "- `Year-Of-Publication` : Tahun terbit buku. Tipe data **object**. Jumlah non-null: **271.360**.\n",
    "- `Publisher` : Nama penerbit buku. Tipe data **object**. Jumlah non-null: **271.358** (terdapat 2 missing value).\n",
    "- `Image-URL-S` : URL gambar sampul kecil. Tipe data **object**. Jumlah non-null: **271.360**.\n",
    "- `Image-URL-M` : URL gambar sampul sedang. Tipe data **object**. Jumlah non-null: **271.360**.\n",
    "- `Image-URL-L` : URL gambar sampul besar. Tipe data **object**. Jumlah non-null: **271.357** (terdapat 3 missing value).\n",
    "\n",
    "**Users.csv**\n",
    "- `User-ID` : ID unik pengguna. Tipe data **int64**. Jumlah non-null: **168.096**.\n",
    "- `Location` : Lokasi pengguna (Kota, Provinsi, Negara). Tipe data **object**. Jumlah non-null: **168.096**.\n",
    "- `Age` : Usia pengguna. Tipe data **float64**. Jumlah non-null: **168.096**.\n",
    "\n",
    "**Ratings.csv**\n",
    "- `User-ID` : ID pengguna yang memberikan rating. Tipe data **int64**. Jumlah non-null: **1.149.780**.\n",
    "- `ISBN` : ISBN buku yang diberi rating. Tipe data **object**. Jumlah non-null: **1.149.780**.\n",
    "- `Book-Rating` : Rating dari pengguna ke buku (skala 0–10). Tipe data **int64**. Jumlah non-null: **1.149.780**.\n",
    "\n",
    "---\n",
    "\n",
    "#### Statistik Ringkasan\n",
    "\n",
    "**Statistik Ringkasan Users**\n",
    "\n",
    "Beberapa insight penting:\n",
    "- Rata-rata usia pengguna adalah **34.75 tahun**.\n",
    "- Usia minimum adalah **0 tahun**, dan maksimum tercatat **244 tahun**, yang kemungkinan merupakan data tidak valid.\n",
    "- Lokasi paling sering muncul adalah **\"london, england, united kingdom\"**, dengan sebanyak **2.506 pengguna** berasal dari lokasi tersebut.\n",
    "- Terdapat **57.339 lokasi unik** dalam dataset.\n",
    "\n",
    "**Statistik Ringkasan Ratings**\n",
    "\n",
    "Beberapa insight penting:\n",
    "- Rata-rata nilai rating adalah **2.87**, dengan standar deviasi sebesar **3.85**.\n",
    "- Rating minimum adalah **0** dan maksimum **10**.\n",
    "- Sebanyak 50% data memiliki rating **0**, yang menunjukkan banyak user melakukan rating kosong (default).\n",
    "- ISBN paling sering muncul adalah `0971880107`, sebanyak **2.502 kali**.\n",
    "- Terdapat **340.556 ISBN unik** di dalam dataset.\n",
    "\n",
    "**Statistik Ringkasan Books**\n",
    "\n",
    "Beberapa insight penting:\n",
    "- Terdapat **271.360** data ISBN yang unik, menunjukkan setiap buku memiliki ISBN berbeda.\n",
    "- Terdapat **242.135** judul buku yang unik.\n",
    "- Penulis paling populer dalam dataset adalah **Agatha Christie**, dengan **632** buku tercatat.\n",
    "- Tahun publikasi paling sering adalah **2002**, dengan **17.627** buku diterbitkan pada tahun tersebut.\n",
    "- Penerbit dengan jumlah buku terbanyak adalah **Harlequin**, sebanyak **7.535** buku.\n",
    "- Untuk gambar cover (`Image-URL`), sebagian besar URL unik, namun ada URL yang dipakai lebih dari sekali.\n",
    "\n",
    "---\n",
    "\n",
    "#### Informasi Kondisi Data\n",
    "\n",
    "- Dataset Books:\n",
    "  - Memiliki beberapa missing value di kolom `Book-Author`, `Publisher`, dan `Image-URL-L`.\n",
    "- Dataset Users:\n",
    "  - Terdapat sekitar 110.762 missing value pada kolom `Age`.\n",
    "  - Ditemukan usia tidak valid, seperti 0 dan lebih dari 100 tahun.\n",
    "- Dataset Ratings:\n",
    "  - Tidak terdapat missing value.\n",
    "  - Banyak pengguna memberikan rating 0.\n",
    "\n",
    "---\n",
    "\n",
    "#### Cek Duplikat Data\n",
    "\n",
    "Pada tahap ini, kami memeriksa apakah terdapat data duplikat pada masing-masing dataset.\n",
    "\n",
    "Hasil pemeriksaan:\n",
    "- Dataset Books: 0 duplikat\n",
    "- Dataset Users: 0 duplikat\n",
    "- Dataset Ratings: 0 duplikat\n",
    "\n",
    "Tidak ditemukan data duplikat, sehingga tidak diperlukan tindakan pembersihan untuk duplikasi.\n",
    "\n",
    "---\n",
    "\n",
    "#### Exploratory Data Analysis (EDA)\n",
    "\n",
    "**Distribusi Usia Pengguna**\n",
    "\n",
    "Visualisasi menunjukkan mayoritas pengguna berusia antara 20 hingga 50 tahun. Terdapat anomali pada usia 0 dan di atas 100 tahun, yang mengindikasikan adanya outlier.\n",
    "\n",
    "![Distribusi Usia Pengguna](image/Distribusi%20Usia%20Pengguna.png)\n",
    "\n",
    "**Insight**:\n",
    "Mayoritas pengguna berada di rentang usia 30-40 tahun. Outlier usia di atas 100 tahun perlu dibersihkan pada tahap data preparation.\n",
    "\n",
    "**Distribusi Nilai Rating**\n",
    "\n",
    "Distribusi nilai rating menunjukkan bahwa sebagian besar rating yang diberikan adalah 0.\n",
    "Rating tinggi seperti 8–10 juga cukup banyak, menunjukkan adanya bias positif pengguna terhadap buku favorit mereka.\n",
    "\n",
    "![Distribusi Nilai Rating Buku](image/Distribusi%20Nilai%20Rating%20Buku.png)\n",
    "\n",
    "**Insight**:\n",
    "Proporsi rating 0 sangat dominan, menunjukkan banyak rating kosong atau default. Ini akan berpengaruh dalam tahap modeling sistem rekomendasi.\n",
    "\n",
    "**10 Buku dengan Rating Terbanyak**\n",
    "\n",
    "Berikut 10 buku dengan jumlah rating terbanyak di dataset:\n",
    "\n",
    "- Wild Animus (2502 rating)\n",
    "- The Lovely Bones: A Novel (1295 rating)\n",
    "- The Da Vinci Code (883 rating)\n",
    "- Divine Secrets of the Ya-Ya Sisterhood: A Novel (732 rating)\n",
    "- The Red Tent (723 rating)\n",
    "- A Painted House (647 rating)\n",
    "- [NaN] (639 rating) — Tidak diketahui judul buku\n",
    "- The Secret Life of Bees (615 rating)\n",
    "- Snow Falling on Cedars (614 rating)\n",
    "- Angels & Demons (586 rating)\n",
    "\n",
    "![10 Buku dengan Rating Terbanyak](image/Buku%20dengan%20Rating%20Terbanyak.png)\n",
    "\n",
    "**Insight**:\n",
    "Buku Wild Animus jauh lebih sering dirating dibandingkan buku lain, kemungkinan besar karena faktor popularitas atau faktor marketing tertentu.\n",
    "\n",
    "**Catatan**: Terdapat ISBN yang tidak memiliki `Book-Title` (NaN), perlu perhatian lebih dalam tahap berikutnya."
   ],
   "id": "fd245e2960c6d0d4"
  },
  {
   "metadata": {},
   "cell_type": "markdown",
   "source": "# Data Preparation",
   "id": "77f71b63458984a3"
  },
  {
   "metadata": {
    "ExecuteTime": {
     "end_time": "2025-05-07T06:02:59.516035Z",
     "start_time": "2025-05-07T06:02:59.487928Z"
    }
   },
   "cell_type": "code",
   "source": [
    "# Menghapus baris yang memiliki missing value pada kolom Age\n",
    "users = users.dropna(subset=['Age'])\n",
    "\n",
    "print('Jumlah data Users setelah menghapus missing Age:', users.shape)"
   ],
   "id": "706ebe144686b75d",
   "outputs": [
    {
     "name": "stdout",
     "output_type": "stream",
     "text": [
      "Jumlah data Users setelah menghapus missing Age: (168096, 3)\n"
     ]
    }
   ],
   "execution_count": 32
  },
  {
   "metadata": {},
   "cell_type": "markdown",
   "source": [
    "#### Handling Missing Value pada Kolom Age\n",
    "\n",
    "Pada tahap ini, kami menangani missing value (nilai kosong) pada kolom Age di dataset Users.\n",
    "\n",
    "Berdasarkan hasil pemeriksaan awal, terdapat sekitar **110.762 missing value** pada kolom Age.\n",
    "Karena proporsi missing value cukup besar (~40%), kami memilih untuk **menghapus data pengguna yang tidak memiliki informasi usia**, agar tidak menimbulkan bias saat modeling.\n",
    "\n",
    "Teknik yang digunakan: **Drop missing value pada kolom Age** menggunakan fungsi `dropna(subset=['Age'])`.\n",
    "\n",
    "**Hasil:**\n",
    "- Dataset Users awalnya memiliki 278.858 data.\n",
    "- Setelah menghapus missing value pada Age, jumlah data menjadi **168.096 entri** dan **3 kolom**."
   ],
   "id": "e4f46ae3c9baf33d"
  },
  {
   "metadata": {
    "ExecuteTime": {
     "end_time": "2025-05-07T06:02:59.577920Z",
     "start_time": "2025-05-07T06:02:59.550201Z"
    }
   },
   "cell_type": "code",
   "source": [
    "# Menghapus data pengguna dengan usia kurang dari 5 tahun atau lebih dari 100 tahun\n",
    "users = users[(users['Age'] >= 5) & (users['Age'] <= 100)]\n",
    "\n",
    "print('Jumlah data Users setelah membersihkan outlier Age:', users.shape)"
   ],
   "id": "45a3c928a2111d35",
   "outputs": [
    {
     "name": "stdout",
     "output_type": "stream",
     "text": [
      "Jumlah data Users setelah membersihkan outlier Age: (166848, 3)\n"
     ]
    }
   ],
   "execution_count": 33
  },
  {
   "metadata": {},
   "cell_type": "markdown",
   "source": [
    "#### Handling Outlier pada Kolom Age\n",
    "\n",
    "Pada tahap ini, kami membersihkan nilai outlier pada kolom Age di dataset Users.\n",
    "\n",
    "Berdasarkan hasil eksplorasi data sebelumnya, ditemukan adanya nilai usia pengguna yang tidak realistis, seperti **0 tahun** dan **244 tahun**.\n",
    "Untuk meningkatkan kualitas data, kami melakukan filtering agar hanya mempertahankan data pengguna dengan usia antara **5 hingga 100 tahun**.\n",
    "\n",
    "Teknik yang digunakan: **Filtering rentang nilai Age menggunakan kondisi `>= 5` dan `<= 100`**.\n",
    "\n",
    "**Hasil:**\n",
    "- Dataset Users sebelumnya berjumlah 168.096 entri (setelah drop missing value).\n",
    "- Setelah menghapus outlier usia, jumlah data Users menjadi **166.848 entri** dan **3 kolom**."
   ],
   "id": "6293b4c3704b2bc8"
  },
  {
   "metadata": {
    "ExecuteTime": {
     "end_time": "2025-05-07T06:02:59.657482Z",
     "start_time": "2025-05-07T06:02:59.613289Z"
    }
   },
   "cell_type": "code",
   "source": [
    "# Menghapus data dengan rating 0\n",
    "ratings = ratings[ratings['Book-Rating'] != 0]\n",
    "\n",
    "print('Jumlah data Ratings setelah menghapus rating 0:', ratings.shape)"
   ],
   "id": "6bb90d0fc8ca6e2c",
   "outputs": [
    {
     "name": "stdout",
     "output_type": "stream",
     "text": [
      "Jumlah data Ratings setelah menghapus rating 0: (433671, 3)\n"
     ]
    }
   ],
   "execution_count": 34
  },
  {
   "metadata": {},
   "cell_type": "markdown",
   "source": [
    "#### Filtering Data Rating\n",
    "\n",
    "Pada tahap ini, kami memfilter data pada dataset Ratings untuk menghapus nilai rating 0.\n",
    "\n",
    "Rating 0 dalam konteks dataset ini menunjukkan bahwa pengguna **tidak memberikan rating aktif** terhadap buku, sehingga nilai tersebut tidak memberikan informasi preferensi yang berguna untuk sistem rekomendasi.\n",
    "\n",
    "Teknik yang digunakan: **Menghapus data dengan `Book-Rating == 0`** menggunakan fungsi filtering.\n",
    "\n",
    "**Hasil:**\n",
    "- Dataset Ratings awalnya berjumlah 1.149.780 entri.\n",
    "- Setelah menghapus rating 0, jumlah data menjadi **433.671 entri** dan **3 kolom**."
   ],
   "id": "43534125cb425a19"
  },
  {
   "metadata": {
    "ExecuteTime": {
     "end_time": "2025-05-07T06:03:00.001404Z",
     "start_time": "2025-05-07T06:02:59.693604Z"
    }
   },
   "cell_type": "code",
   "source": [
    "# Filter user yang memberikan minimal 3 rating\n",
    "user_counts = ratings['User-ID'].value_counts()\n",
    "active_users = user_counts[user_counts >= 3].index\n",
    "ratings = ratings[ratings['User-ID'].isin(active_users)]\n",
    "\n",
    "# Filter buku yang menerima minimal 3 rating\n",
    "book_counts = ratings['ISBN'].value_counts()\n",
    "popular_books = book_counts[book_counts >= 3].index\n",
    "ratings = ratings[ratings['ISBN'].isin(popular_books)]\n",
    "\n",
    "print('Jumlah data Ratings setelah filtering user dan book aktif:', ratings.shape)"
   ],
   "id": "4403afa66c8b52d1",
   "outputs": [
    {
     "name": "stdout",
     "output_type": "stream",
     "text": [
      "Jumlah data Ratings setelah filtering user dan book aktif: (203851, 3)\n"
     ]
    }
   ],
   "execution_count": 35
  },
  {
   "metadata": {},
   "cell_type": "markdown",
   "source": [
    "#### Filtering User dan Buku Berdasarkan Aktivitas Minimum\n",
    "\n",
    "Pada tahap ini, kami melakukan filtering terhadap pengguna dan buku berdasarkan aktivitas minimum:\n",
    "\n",
    "- **User Filtering**: Hanya mempertahankan pengguna yang memberikan setidaknya **3 rating**.\n",
    "- **Book Filtering**: Hanya mempertahankan buku yang menerima setidaknya **3 rating**.\n",
    "\n",
    "Filtering ini bertujuan untuk:\n",
    "- Memastikan pengguna yang dipertimbangkan aktif dalam memberikan rating.\n",
    "- Memastikan buku yang dipertimbangkan memiliki cukup banyak feedback untuk dipelajari oleh sistem rekomendasi.\n",
    "\n",
    "Teknik yang digunakan: **Filtering berdasarkan jumlah interaksi menggunakan fungsi `value_counts` dan `isin()`**.\n",
    "\n",
    "**Hasil:**\n",
    "- Dataset Ratings awalnya memiliki 433.671 entri (setelah menghapus rating 0).\n",
    "- Setelah filtering user dan book aktif, jumlah data menjadi **203.851 entri** dan **3 kolom**.\n"
   ],
   "id": "ff9c89890a129166"
  },
  {
   "metadata": {
    "ExecuteTime": {
     "end_time": "2025-05-07T06:03:00.078824Z",
     "start_time": "2025-05-07T06:03:00.050073Z"
    }
   },
   "cell_type": "code",
   "source": [
    "# Membuat list User-ID, ISBN, dan Book-Rating\n",
    "user_id = ratings['User-ID'].tolist()\n",
    "isbn = ratings['ISBN'].tolist()\n",
    "book_rating = ratings['Book-Rating'].tolist()\n",
    "\n",
    "print('Jumlah data user_id:', len(user_id))\n",
    "print('Jumlah data isbn:', len(isbn))\n",
    "print('Jumlah data book_rating:', len(book_rating))"
   ],
   "id": "f3e2aab7d3ce00bf",
   "outputs": [
    {
     "name": "stdout",
     "output_type": "stream",
     "text": [
      "Jumlah data user_id: 203851\n",
      "Jumlah data isbn: 203851\n",
      "Jumlah data book_rating: 203851\n"
     ]
    }
   ],
   "execution_count": 36
  },
  {
   "metadata": {},
   "cell_type": "markdown",
   "source": [
    "#### Membuat List User-ID, ISBN, dan Book-Rating\n",
    "\n",
    "Pada tahap ini, kami mengkonversi kolom-kolom utama dari dataset Ratings ke dalam bentuk list menggunakan fungsi `.tolist()`.\n",
    "Konversi ini dilakukan agar data lebih fleksibel untuk diproses pada tahap selanjutnya.\n",
    "\n",
    "Kolom yang dikonversi:\n",
    "- `User-ID` ➔ list `user_id`\n",
    "- `ISBN` ➔ list `isbn`\n",
    "- `Book-Rating` ➔ list `book_rating`"
   ],
   "id": "59efb1b56885a7c4"
  },
  {
   "metadata": {
    "ExecuteTime": {
     "end_time": "2025-05-07T06:03:00.251489Z",
     "start_time": "2025-05-07T06:03:00.128474Z"
    }
   },
   "cell_type": "code",
   "source": [
    "# Membuat DataFrame clean untuk modeling\n",
    "ratings_clean = pd.DataFrame({\n",
    "    'user_id': user_id,\n",
    "    'isbn': isbn,\n",
    "    'book_rating': book_rating\n",
    "})\n",
    "\n",
    "ratings_clean"
   ],
   "id": "39103ca994300b9a",
   "outputs": [
    {
     "data": {
      "text/plain": [
       "        user_id        isbn  book_rating\n",
       "0        276747  0060517794            9\n",
       "1        276747  0671537458            9\n",
       "2        276747  0679776818            8\n",
       "3        276762  0380711524            5\n",
       "4        276772  0553572369            7\n",
       "...         ...         ...          ...\n",
       "203846   276688  0892966548           10\n",
       "203847   276688  1551669315            6\n",
       "203848   276704  0345386108            6\n",
       "203849   276704  0743211383            7\n",
       "203850   276704  1563526298            9\n",
       "\n",
       "[203851 rows x 3 columns]"
      ],
      "text/html": [
       "<div>\n",
       "<style scoped>\n",
       "    .dataframe tbody tr th:only-of-type {\n",
       "        vertical-align: middle;\n",
       "    }\n",
       "\n",
       "    .dataframe tbody tr th {\n",
       "        vertical-align: top;\n",
       "    }\n",
       "\n",
       "    .dataframe thead th {\n",
       "        text-align: right;\n",
       "    }\n",
       "</style>\n",
       "<table border=\"1\" class=\"dataframe\">\n",
       "  <thead>\n",
       "    <tr style=\"text-align: right;\">\n",
       "      <th></th>\n",
       "      <th>user_id</th>\n",
       "      <th>isbn</th>\n",
       "      <th>book_rating</th>\n",
       "    </tr>\n",
       "  </thead>\n",
       "  <tbody>\n",
       "    <tr>\n",
       "      <th>0</th>\n",
       "      <td>276747</td>\n",
       "      <td>0060517794</td>\n",
       "      <td>9</td>\n",
       "    </tr>\n",
       "    <tr>\n",
       "      <th>1</th>\n",
       "      <td>276747</td>\n",
       "      <td>0671537458</td>\n",
       "      <td>9</td>\n",
       "    </tr>\n",
       "    <tr>\n",
       "      <th>2</th>\n",
       "      <td>276747</td>\n",
       "      <td>0679776818</td>\n",
       "      <td>8</td>\n",
       "    </tr>\n",
       "    <tr>\n",
       "      <th>3</th>\n",
       "      <td>276762</td>\n",
       "      <td>0380711524</td>\n",
       "      <td>5</td>\n",
       "    </tr>\n",
       "    <tr>\n",
       "      <th>4</th>\n",
       "      <td>276772</td>\n",
       "      <td>0553572369</td>\n",
       "      <td>7</td>\n",
       "    </tr>\n",
       "    <tr>\n",
       "      <th>...</th>\n",
       "      <td>...</td>\n",
       "      <td>...</td>\n",
       "      <td>...</td>\n",
       "    </tr>\n",
       "    <tr>\n",
       "      <th>203846</th>\n",
       "      <td>276688</td>\n",
       "      <td>0892966548</td>\n",
       "      <td>10</td>\n",
       "    </tr>\n",
       "    <tr>\n",
       "      <th>203847</th>\n",
       "      <td>276688</td>\n",
       "      <td>1551669315</td>\n",
       "      <td>6</td>\n",
       "    </tr>\n",
       "    <tr>\n",
       "      <th>203848</th>\n",
       "      <td>276704</td>\n",
       "      <td>0345386108</td>\n",
       "      <td>6</td>\n",
       "    </tr>\n",
       "    <tr>\n",
       "      <th>203849</th>\n",
       "      <td>276704</td>\n",
       "      <td>0743211383</td>\n",
       "      <td>7</td>\n",
       "    </tr>\n",
       "    <tr>\n",
       "      <th>203850</th>\n",
       "      <td>276704</td>\n",
       "      <td>1563526298</td>\n",
       "      <td>9</td>\n",
       "    </tr>\n",
       "  </tbody>\n",
       "</table>\n",
       "<p>203851 rows × 3 columns</p>\n",
       "</div>"
      ]
     },
     "execution_count": 37,
     "metadata": {},
     "output_type": "execute_result"
    }
   ],
   "execution_count": 37
  },
  {
   "metadata": {},
   "cell_type": "markdown",
   "source": [
    "#### Membuat DataFrame Clean untuk Modeling\n",
    "\n",
    "Pada tahap ini, kami membentuk DataFrame baru bernama `ratings_clean` yang berisi tiga kolom utama hasil konversi list:\n",
    "\n",
    "- `user_id` : ID pengguna\n",
    "- `isbn` : ISBN buku\n",
    "- `book_rating` : Nilai rating pengguna terhadap buku\n",
    "\n",
    "Pembuatan DataFrame ini bertujuan untuk mempermudah proses modeling sistem rekomendasi di tahap selanjutnya, baik untuk Collaborative Filtering maupun Content-Based Filtering.\n",
    "\n",
    "**Hasil:**\n",
    "DataFrame `ratings_clean` memiliki **203.851 baris** dan **3 kolom**.\n",
    "\n",
    "**Contoh 10 Data Pertama:**\n",
    "\n",
    "| Index | user_id | isbn | book_rating |\n",
    "|:-----|:--------|:-----|:------------|\n",
    "| 0 | 276747 | 0060517794 | 9 |\n",
    "| 1 | 276747 | 0671537458 | 9 |\n",
    "| 2 | 276747 | 0679776818 | 8 |\n",
    "| 3 | 276762 | 0380711524 | 5 |\n",
    "| 4 | 276772 | 0553572369 | 7 |\n",
    "| 5 | 276772 | 3499230933 | 10 |\n",
    "| 6 | 276786 | 8478442588 | 6 |\n",
    "| 7 | 276788 | 0345443683 | 8 |\n",
    "| 8 | 276788 | 043935806X | 7 |\n",
    "| 9 | 276788 | 055310666X | 10 |\n",
    "\n",
    "Data `ratings_clean` ini sudah siap digunakan untuk tahap modeling sistem rekomendasi."
   ],
   "id": "fdbce21070aba4a2"
  },
  {
   "metadata": {
    "ExecuteTime": {
     "end_time": "2025-05-07T06:03:30.308188Z",
     "start_time": "2025-05-07T06:03:00.349094Z"
    }
   },
   "cell_type": "code",
   "source": [
    "# Membuat User-Item Matrix\n",
    "user_item_matrix = ratings_clean.pivot_table(index='user_id', columns='isbn', values='book_rating')\n",
    "\n",
    "print('User-Item Matrix Shape:', user_item_matrix.shape)\n",
    "\n",
    "user_item_matrix.head()"
   ],
   "id": "8475838360e794af",
   "outputs": [
    {
     "name": "stdout",
     "output_type": "stream",
     "text": [
      "User-Item Matrix Shape: (20908, 25790)\n"
     ]
    },
    {
     "data": {
      "text/plain": [
       "isbn     0000000000  0000000000000  0002005018  0002116286  0002239183  \\\n",
       "user_id                                                                  \n",
       "8               NaN            NaN         5.0         NaN         NaN   \n",
       "17              NaN            NaN         NaN         NaN         NaN   \n",
       "53              NaN            NaN         NaN         NaN         NaN   \n",
       "69              NaN            NaN         NaN         NaN         NaN   \n",
       "92              NaN            NaN         NaN         NaN         NaN   \n",
       "\n",
       "isbn     0002240114  0002243962  0002244098  0002251760  0002255014  ...  \\\n",
       "user_id                                                              ...   \n",
       "8               NaN         NaN         NaN         NaN         NaN  ...   \n",
       "17              NaN         NaN         NaN         NaN         NaN  ...   \n",
       "53              NaN         NaN         NaN         NaN         NaN  ...   \n",
       "69              NaN         NaN         NaN         NaN         NaN  ...   \n",
       "92              NaN         NaN         NaN         NaN         NaN  ...   \n",
       "\n",
       "isbn     9783426650752  978972024570  9812327975  9871138148  987932504  \\\n",
       "user_id                                                                   \n",
       "8                  NaN           NaN         NaN         NaN        NaN   \n",
       "17                 NaN           NaN         NaN         NaN        NaN   \n",
       "53                 NaN           NaN         NaN         NaN        NaN   \n",
       "69                 NaN           NaN         NaN         NaN        NaN   \n",
       "92                 NaN           NaN         NaN         NaN        NaN   \n",
       "\n",
       "isbn     9895550138  9994770934  B00009EF82  B0000AA9IZ  O67174142X  \n",
       "user_id                                                              \n",
       "8               NaN         NaN         NaN         NaN         NaN  \n",
       "17              NaN         NaN         NaN         NaN         NaN  \n",
       "53              NaN         NaN         NaN         NaN         NaN  \n",
       "69              NaN         NaN         NaN         NaN         NaN  \n",
       "92              NaN         NaN         NaN         NaN         NaN  \n",
       "\n",
       "[5 rows x 25790 columns]"
      ],
      "text/html": [
       "<div>\n",
       "<style scoped>\n",
       "    .dataframe tbody tr th:only-of-type {\n",
       "        vertical-align: middle;\n",
       "    }\n",
       "\n",
       "    .dataframe tbody tr th {\n",
       "        vertical-align: top;\n",
       "    }\n",
       "\n",
       "    .dataframe thead th {\n",
       "        text-align: right;\n",
       "    }\n",
       "</style>\n",
       "<table border=\"1\" class=\"dataframe\">\n",
       "  <thead>\n",
       "    <tr style=\"text-align: right;\">\n",
       "      <th>isbn</th>\n",
       "      <th>0000000000</th>\n",
       "      <th>0000000000000</th>\n",
       "      <th>0002005018</th>\n",
       "      <th>0002116286</th>\n",
       "      <th>0002239183</th>\n",
       "      <th>0002240114</th>\n",
       "      <th>0002243962</th>\n",
       "      <th>0002244098</th>\n",
       "      <th>0002251760</th>\n",
       "      <th>0002255014</th>\n",
       "      <th>...</th>\n",
       "      <th>9783426650752</th>\n",
       "      <th>978972024570</th>\n",
       "      <th>9812327975</th>\n",
       "      <th>9871138148</th>\n",
       "      <th>987932504</th>\n",
       "      <th>9895550138</th>\n",
       "      <th>9994770934</th>\n",
       "      <th>B00009EF82</th>\n",
       "      <th>B0000AA9IZ</th>\n",
       "      <th>O67174142X</th>\n",
       "    </tr>\n",
       "    <tr>\n",
       "      <th>user_id</th>\n",
       "      <th></th>\n",
       "      <th></th>\n",
       "      <th></th>\n",
       "      <th></th>\n",
       "      <th></th>\n",
       "      <th></th>\n",
       "      <th></th>\n",
       "      <th></th>\n",
       "      <th></th>\n",
       "      <th></th>\n",
       "      <th></th>\n",
       "      <th></th>\n",
       "      <th></th>\n",
       "      <th></th>\n",
       "      <th></th>\n",
       "      <th></th>\n",
       "      <th></th>\n",
       "      <th></th>\n",
       "      <th></th>\n",
       "      <th></th>\n",
       "      <th></th>\n",
       "    </tr>\n",
       "  </thead>\n",
       "  <tbody>\n",
       "    <tr>\n",
       "      <th>8</th>\n",
       "      <td>NaN</td>\n",
       "      <td>NaN</td>\n",
       "      <td>5.0</td>\n",
       "      <td>NaN</td>\n",
       "      <td>NaN</td>\n",
       "      <td>NaN</td>\n",
       "      <td>NaN</td>\n",
       "      <td>NaN</td>\n",
       "      <td>NaN</td>\n",
       "      <td>NaN</td>\n",
       "      <td>...</td>\n",
       "      <td>NaN</td>\n",
       "      <td>NaN</td>\n",
       "      <td>NaN</td>\n",
       "      <td>NaN</td>\n",
       "      <td>NaN</td>\n",
       "      <td>NaN</td>\n",
       "      <td>NaN</td>\n",
       "      <td>NaN</td>\n",
       "      <td>NaN</td>\n",
       "      <td>NaN</td>\n",
       "    </tr>\n",
       "    <tr>\n",
       "      <th>17</th>\n",
       "      <td>NaN</td>\n",
       "      <td>NaN</td>\n",
       "      <td>NaN</td>\n",
       "      <td>NaN</td>\n",
       "      <td>NaN</td>\n",
       "      <td>NaN</td>\n",
       "      <td>NaN</td>\n",
       "      <td>NaN</td>\n",
       "      <td>NaN</td>\n",
       "      <td>NaN</td>\n",
       "      <td>...</td>\n",
       "      <td>NaN</td>\n",
       "      <td>NaN</td>\n",
       "      <td>NaN</td>\n",
       "      <td>NaN</td>\n",
       "      <td>NaN</td>\n",
       "      <td>NaN</td>\n",
       "      <td>NaN</td>\n",
       "      <td>NaN</td>\n",
       "      <td>NaN</td>\n",
       "      <td>NaN</td>\n",
       "    </tr>\n",
       "    <tr>\n",
       "      <th>53</th>\n",
       "      <td>NaN</td>\n",
       "      <td>NaN</td>\n",
       "      <td>NaN</td>\n",
       "      <td>NaN</td>\n",
       "      <td>NaN</td>\n",
       "      <td>NaN</td>\n",
       "      <td>NaN</td>\n",
       "      <td>NaN</td>\n",
       "      <td>NaN</td>\n",
       "      <td>NaN</td>\n",
       "      <td>...</td>\n",
       "      <td>NaN</td>\n",
       "      <td>NaN</td>\n",
       "      <td>NaN</td>\n",
       "      <td>NaN</td>\n",
       "      <td>NaN</td>\n",
       "      <td>NaN</td>\n",
       "      <td>NaN</td>\n",
       "      <td>NaN</td>\n",
       "      <td>NaN</td>\n",
       "      <td>NaN</td>\n",
       "    </tr>\n",
       "    <tr>\n",
       "      <th>69</th>\n",
       "      <td>NaN</td>\n",
       "      <td>NaN</td>\n",
       "      <td>NaN</td>\n",
       "      <td>NaN</td>\n",
       "      <td>NaN</td>\n",
       "      <td>NaN</td>\n",
       "      <td>NaN</td>\n",
       "      <td>NaN</td>\n",
       "      <td>NaN</td>\n",
       "      <td>NaN</td>\n",
       "      <td>...</td>\n",
       "      <td>NaN</td>\n",
       "      <td>NaN</td>\n",
       "      <td>NaN</td>\n",
       "      <td>NaN</td>\n",
       "      <td>NaN</td>\n",
       "      <td>NaN</td>\n",
       "      <td>NaN</td>\n",
       "      <td>NaN</td>\n",
       "      <td>NaN</td>\n",
       "      <td>NaN</td>\n",
       "    </tr>\n",
       "    <tr>\n",
       "      <th>92</th>\n",
       "      <td>NaN</td>\n",
       "      <td>NaN</td>\n",
       "      <td>NaN</td>\n",
       "      <td>NaN</td>\n",
       "      <td>NaN</td>\n",
       "      <td>NaN</td>\n",
       "      <td>NaN</td>\n",
       "      <td>NaN</td>\n",
       "      <td>NaN</td>\n",
       "      <td>NaN</td>\n",
       "      <td>...</td>\n",
       "      <td>NaN</td>\n",
       "      <td>NaN</td>\n",
       "      <td>NaN</td>\n",
       "      <td>NaN</td>\n",
       "      <td>NaN</td>\n",
       "      <td>NaN</td>\n",
       "      <td>NaN</td>\n",
       "      <td>NaN</td>\n",
       "      <td>NaN</td>\n",
       "      <td>NaN</td>\n",
       "    </tr>\n",
       "  </tbody>\n",
       "</table>\n",
       "<p>5 rows × 25790 columns</p>\n",
       "</div>"
      ]
     },
     "execution_count": 38,
     "metadata": {},
     "output_type": "execute_result"
    }
   ],
   "execution_count": 38
  },
  {
   "metadata": {},
   "cell_type": "markdown",
   "source": [
    "#### Membuat User-Item Matrix untuk Collaborative Filtering\n",
    "\n",
    "Pada tahap ini, kami membangun User-Item Matrix dari dataset `ratings_clean`.\n",
    "\n",
    "**Teknik yang digunakan:**\n",
    "- Membentuk pivot table menggunakan `pivot_table` di pandas.\n",
    "- Struktur matriks:\n",
    "  - **Baris** = `user_id`\n",
    "  - **Kolom** = `isbn` (buku)\n",
    "  - **Nilai** = `book_rating` yang diberikan user terhadap buku.\n",
    "\n",
    "**Proses:**\n",
    "- Setiap user menjadi baris dalam tabel.\n",
    "- Setiap ISBN buku menjadi kolom dalam tabel.\n",
    "- Jika user memberikan rating pada buku, maka sel tersebut berisi nilai rating. Jika tidak, maka berisi NaN (missing value).\n",
    "\n",
    "**Hasil:**\n",
    "- Ukuran User-Item Matrix adalah **(20.908, 25.790)**.\n",
    "- Banyak nilai missing (NaN) karena sebagian besar user hanya memberikan rating pada sebagian kecil dari seluruh buku yang tersedia."
   ],
   "id": "b77dbbc68e249439"
  },
  {
   "metadata": {
    "ExecuteTime": {
     "end_time": "2025-05-07T06:03:39.614782Z",
     "start_time": "2025-05-07T06:03:38.820146Z"
    }
   },
   "cell_type": "code",
   "source": [
    "# Membuat list user_id unik\n",
    "user_ids = ratings_clean['user_id'].unique().tolist()\n",
    "print('Jumlah user unik:', len(user_ids))\n",
    "\n",
    "# Membuat list isbn unik\n",
    "isbn_ids = ratings_clean['isbn'].unique().tolist()\n",
    "print('Jumlah buku unik:', len(isbn_ids))"
   ],
   "id": "8851639fba0230d2",
   "outputs": [
    {
     "name": "stdout",
     "output_type": "stream",
     "text": [
      "Jumlah user unik: 20908\n",
      "Jumlah buku unik: 25790\n"
     ]
    }
   ],
   "execution_count": 39
  },
  {
   "metadata": {},
   "cell_type": "markdown",
   "source": [
    "#### Membuat List User-ID dan ISBN Unik\n",
    "\n",
    "Pada tahap ini, kami membuat daftar user dan buku (ISBN) unik dari dataset `ratings_clean` yang akan digunakan untuk proses encoding.\n",
    "\n",
    "**Hasil:**\n",
    "- Jumlah User-ID unik: **20.908**\n",
    "- Jumlah ISBN unik: **25.790**\n"
   ],
   "id": "4f7d8011291809a0"
  },
  {
   "metadata": {
    "ExecuteTime": {
     "end_time": "2025-05-07T06:03:40.034865Z",
     "start_time": "2025-05-07T06:03:39.740223Z"
    }
   },
   "cell_type": "code",
   "source": [
    "# Encoding user_id dan isbn ke integer\n",
    "user_to_user_encoded = {x: i for i, x in enumerate(user_ids)}\n",
    "isbn_to_isbn_encoded = {x: i for i, x in enumerate(isbn_ids)}\n",
    "\n",
    "user_encoded_to_user = {i: x for i, x in enumerate(user_ids)}\n",
    "isbn_encoded_to_isbn = {i: x for i, x in enumerate(isbn_ids)}"
   ],
   "id": "fdd7685798b7df47",
   "outputs": [],
   "execution_count": 40
  },
  {
   "metadata": {},
   "cell_type": "markdown",
   "source": [
    "#### Encoding User-ID dan ISBN ke Integer\n",
    "\n",
    "Kami melakukan encoding user_id dan isbn menjadi integer, agar dapat digunakan sebagai input pada embedding layer dalam model deep learning."
   ],
   "id": "9c9012b9b7adda0d"
  },
  {
   "metadata": {
    "ExecuteTime": {
     "end_time": "2025-05-07T06:03:40.365039Z",
     "start_time": "2025-05-07T06:03:40.115786Z"
    }
   },
   "cell_type": "code",
   "source": [
    "# Mapping hasil encoding ke dataframe\n",
    "ratings_clean['user'] = ratings_clean['user_id'].map(user_to_user_encoded)\n",
    "ratings_clean['book'] = ratings_clean['isbn'].map(isbn_to_isbn_encoded)\n",
    "ratings_clean.head()"
   ],
   "id": "6ea827aa26dcb883",
   "outputs": [
    {
     "data": {
      "text/plain": [
       "   user_id        isbn  book_rating  user  book\n",
       "0   276747  0060517794            9     0     0\n",
       "1   276747  0671537458            9     0     1\n",
       "2   276747  0679776818            8     0     2\n",
       "3   276762  0380711524            5     1     3\n",
       "4   276772  0553572369            7     2     4"
      ],
      "text/html": [
       "<div>\n",
       "<style scoped>\n",
       "    .dataframe tbody tr th:only-of-type {\n",
       "        vertical-align: middle;\n",
       "    }\n",
       "\n",
       "    .dataframe tbody tr th {\n",
       "        vertical-align: top;\n",
       "    }\n",
       "\n",
       "    .dataframe thead th {\n",
       "        text-align: right;\n",
       "    }\n",
       "</style>\n",
       "<table border=\"1\" class=\"dataframe\">\n",
       "  <thead>\n",
       "    <tr style=\"text-align: right;\">\n",
       "      <th></th>\n",
       "      <th>user_id</th>\n",
       "      <th>isbn</th>\n",
       "      <th>book_rating</th>\n",
       "      <th>user</th>\n",
       "      <th>book</th>\n",
       "    </tr>\n",
       "  </thead>\n",
       "  <tbody>\n",
       "    <tr>\n",
       "      <th>0</th>\n",
       "      <td>276747</td>\n",
       "      <td>0060517794</td>\n",
       "      <td>9</td>\n",
       "      <td>0</td>\n",
       "      <td>0</td>\n",
       "    </tr>\n",
       "    <tr>\n",
       "      <th>1</th>\n",
       "      <td>276747</td>\n",
       "      <td>0671537458</td>\n",
       "      <td>9</td>\n",
       "      <td>0</td>\n",
       "      <td>1</td>\n",
       "    </tr>\n",
       "    <tr>\n",
       "      <th>2</th>\n",
       "      <td>276747</td>\n",
       "      <td>0679776818</td>\n",
       "      <td>8</td>\n",
       "      <td>0</td>\n",
       "      <td>2</td>\n",
       "    </tr>\n",
       "    <tr>\n",
       "      <th>3</th>\n",
       "      <td>276762</td>\n",
       "      <td>0380711524</td>\n",
       "      <td>5</td>\n",
       "      <td>1</td>\n",
       "      <td>3</td>\n",
       "    </tr>\n",
       "    <tr>\n",
       "      <th>4</th>\n",
       "      <td>276772</td>\n",
       "      <td>0553572369</td>\n",
       "      <td>7</td>\n",
       "      <td>2</td>\n",
       "      <td>4</td>\n",
       "    </tr>\n",
       "  </tbody>\n",
       "</table>\n",
       "</div>"
      ]
     },
     "execution_count": 41,
     "metadata": {},
     "output_type": "execute_result"
    }
   ],
   "execution_count": 41
  },
  {
   "metadata": {},
   "cell_type": "markdown",
   "source": [
    "#### Mapping Encoded User dan ISBN ke DataFrame\n",
    "\n",
    "Setelah melakukan encoding, kami menambahkan kolom baru `user` dan `book` pada dataset `ratings_clean`.\n",
    "Kolom ini menyimpan hasil encoding User-ID dan ISBN menjadi integer.\n",
    "\n",
    "**Contoh hasil mapping:**\n",
    "\n",
    "| user_id | isbn       | book_rating | user | book |\n",
    "|:--------|:-----------|:------------|:-----|:-----|\n",
    "| 276747  | 0060517794 | 9            | 0    | 0    |\n",
    "| 276747  | 0671537458 | 9            | 0    | 1    |\n",
    "| 276747  | 0679776818 | 8            | 0    | 2    |\n",
    "| 276762  | 0380711524 | 5            | 1    | 3    |\n",
    "| 276772  | 0553572369 | 7            | 2    | 4    |"
   ],
   "id": "cc14d9b77cc9ce65"
  },
  {
   "metadata": {
    "ExecuteTime": {
     "end_time": "2025-05-07T06:03:40.553570Z",
     "start_time": "2025-05-07T06:03:40.541521Z"
    }
   },
   "cell_type": "code",
   "source": [
    "# Import library tambahan\n",
    "import numpy as np\n",
    "\n",
    "# Konversi rating menjadi float32\n",
    "ratings_clean['book_rating'] = ratings_clean['book_rating'].values.astype(np.float32)"
   ],
   "id": "700ca6d3af9c5f8",
   "outputs": [],
   "execution_count": 42
  },
  {
   "metadata": {},
   "cell_type": "markdown",
   "source": [
    "#### Mengubah Rating Menjadi Float32\n",
    "\n",
    "Untuk keperluan model TensorFlow, nilai rating dikonversi ke tipe data float32."
   ],
   "id": "b72eff72d03770bd"
  },
  {
   "metadata": {
    "ExecuteTime": {
     "end_time": "2025-05-07T06:03:40.708798Z",
     "start_time": "2025-05-07T06:03:40.696354Z"
    }
   },
   "cell_type": "code",
   "source": [
    "# Mendapatkan jumlah user dan jumlah buku\n",
    "num_users = len(user_to_user_encoded)\n",
    "num_books = len(isbn_encoded_to_isbn)\n",
    "\n",
    "print(f\"Jumlah user: {num_users}, Jumlah buku: {num_books}\")"
   ],
   "id": "334bc367118f4926",
   "outputs": [
    {
     "name": "stdout",
     "output_type": "stream",
     "text": [
      "Jumlah user: 20908, Jumlah buku: 25790\n"
     ]
    }
   ],
   "execution_count": 43
  },
  {
   "metadata": {},
   "cell_type": "markdown",
   "source": [
    "#### Mengecek Jumlah User dan Buku setelah Encoding\n",
    "\n",
    "Kami mengecek kembali jumlah total user dan jumlah total buku setelah proses encoding.\n",
    "\n",
    "**Hasil:**\n",
    "- Jumlah user setelah encoding: **20.908**\n",
    "- Jumlah buku setelah encoding: **25.790**\n"
   ],
   "id": "a915fdd0e312341"
  },
  {
   "metadata": {
    "ExecuteTime": {
     "end_time": "2025-05-07T06:06:22.852866Z",
     "start_time": "2025-05-07T06:03:40.887732Z"
    }
   },
   "cell_type": "code",
   "source": [
    "# Shuffle dataset\n",
    "ratings_clean = ratings_clean.sample(frac=1, random_state=42)\n",
    "\n",
    "# Membuat variabel x (fitur) dan y (target)\n",
    "x = ratings_clean[['user', 'book']].values\n",
    "y = ratings_clean['book_rating'].apply(lambda x: (x - ratings_clean['book_rating'].min()) / (ratings_clean['book_rating'].max() - ratings_clean['book_rating'].min())).values\n",
    "\n",
    "# Membagi data 80% train, 20% validation\n",
    "train_indices = int(0.8 * ratings_clean.shape[0])\n",
    "x_train, x_val, y_train, y_val = (\n",
    "    x[:train_indices],\n",
    "    x[train_indices:],\n",
    "    y[:train_indices],\n",
    "    y[train_indices:]\n",
    ")\n",
    "\n",
    "print(f\"Shape x_train: {x_train.shape}, y_train: {y_train.shape}\")\n",
    "print(f\"Shape x_val: {x_val.shape}, y_val: {y_val.shape}\")"
   ],
   "id": "eaa7a8effb9eba98",
   "outputs": [
    {
     "name": "stdout",
     "output_type": "stream",
     "text": [
      "Shape x_train: (163080, 2), y_train: (163080,)\n",
      "Shape x_val: (40771, 2), y_val: (40771,)\n"
     ]
    }
   ],
   "execution_count": 44
  },
  {
   "metadata": {},
   "cell_type": "markdown",
   "source": [
    "#### Membagi Data untuk Training dan Validasi\n",
    "\n",
    "Pada tahap ini, dataset diacak (shuffled) dan dibagi menjadi dua bagian: training dan validation set, dengan rasio 80:20.\n",
    "\n",
    "- **x** berisi pasangan fitur `(user, book)`.\n",
    "- **y** berisi target `book_rating` yang telah dinormalisasi ke rentang [0,1].\n",
    "\n",
    "**Hasil Split:**\n",
    "- Shape `x_train`: **(163.080, 2)**\n",
    "- Shape `y_train`: **(163.080,)**\n",
    "- Shape `x_val`: **(40.771, 2)**\n",
    "- Shape `y_val`: **(40.771,)**\n",
    "\n",
    "Tahap ini bertujuan untuk memastikan bahwa data yang digunakan untuk training dan validasi tidak overlap, serta meningkatkan generalisasi model.\n"
   ],
   "id": "302f37a2d106613d"
  },
  {
   "metadata": {},
   "cell_type": "markdown",
   "source": "## Analisis Data Preparation",
   "id": "bfe02a2b001ee1db"
  },
  {
   "metadata": {},
   "cell_type": "markdown",
   "source": [
    "Pada bagian ini, kami menerapkan dan menyebutkan teknik data preparation yang dilakukan.\n",
    "Teknik yang digunakan pada notebook dan laporan disusun secara berurutan sesuai proses.\n",
    "\n",
    "---\n",
    "\n",
    "### Handling Missing Value pada Kolom Age\n",
    "\n",
    "**Teknik yang digunakan**:\n",
    "- Menghapus baris yang memiliki missing value pada kolom `Age` menggunakan fungsi `dropna(subset=['Age'])`.\n",
    "\n",
    "**Proses dan Alasan**:\n",
    "- Ditemukan sekitar 110.762 missing value pada kolom `Age`.\n",
    "- Menghapus missing value dipilih untuk menghindari bias dalam analisis usia pengguna.\n",
    "- Setelah penghapusan, jumlah data Users berkurang menjadi 168.096 entri.\n",
    "\n",
    "---\n",
    "\n",
    "### Handling Outlier pada Kolom Age\n",
    "\n",
    "**Teknik yang digunakan**:\n",
    "- Filtering nilai `Age` untuk hanya mempertahankan data dengan usia antara 5 hingga 100 tahun.\n",
    "\n",
    "**Proses dan Alasan**:\n",
    "- Terdapat nilai usia tidak realistis seperti 0 tahun dan 244 tahun.\n",
    "- Data dengan usia <5 atau >100 dihapus agar lebih representatif.\n",
    "- Setelah filtering, jumlah data Users menjadi 166.848 entri.\n",
    "\n",
    "---\n",
    "\n",
    "### Filtering Data Rating\n",
    "\n",
    "**Teknik yang digunakan**:\n",
    "- Menghapus data rating dengan nilai `Book-Rating == 0`.\n",
    "\n",
    "**Proses dan Alasan**:\n",
    "- Rating 0 dianggap sebagai indikasi tidak memberikan rating aktif.\n",
    "- Fokus analisis hanya pada rating aktif (1–10).\n",
    "- Setelah filtering, jumlah data Ratings berkurang menjadi 433.671 entri.\n",
    "\n",
    "---\n",
    "\n",
    "### Filtering User dan Buku Berdasarkan Aktivitas Minimum\n",
    "\n",
    "**Teknik yang digunakan**:\n",
    "- Filtering untuk hanya mempertahankan:\n",
    "  - User yang memberikan minimal 3 rating\n",
    "  - Buku yang menerima minimal 3 rating\n",
    "\n",
    "**Proses dan Alasan**:\n",
    "- Memastikan pengguna yang dianalisis aktif dalam memberikan rating.\n",
    "- Memastikan buku yang dianalisis memiliki cukup banyak feedback.\n",
    "- Setelah filtering, jumlah data Ratings menjadi 203.851 entri.\n",
    "\n",
    "---\n",
    "\n",
    "### Membuat DataFrame Clean untuk Modeling\n",
    "\n",
    "**Teknik yang digunakan**:\n",
    "- Mengubah kolom `User-ID`, `ISBN`, dan `Book-Rating` menjadi list menggunakan `.tolist()`.\n",
    "- Membentuk DataFrame baru `ratings_clean` dari list tersebut.\n",
    "\n",
    "**Proses dan Alasan**:\n",
    "- Konversi ke bentuk DataFrame clean bertujuan memudahkan proses modeling sistem rekomendasi.\n",
    "- Data `ratings_clean` terdiri dari 203.851 baris dan 3 kolom: `user_id`, `isbn`, dan `book_rating`.\n",
    "\n",
    "---\n",
    "\n",
    "### Membuat User-Item Matrix\n",
    "\n",
    "**Teknik yang digunakan**:\n",
    "- Membuat pivot table dengan baris sebagai `user_id`, kolom sebagai `isbn`, dan nilai sebagai `book_rating`.\n",
    "\n",
    "**Proses dan Alasan**:\n",
    "- Matriks ini digunakan sebagai input untuk pendekatan User-Based Collaborative Filtering.\n",
    "- Karena sebagian besar user tidak me-review semua buku, sebagian besar isi matriks berupa nilai `NaN`.\n",
    "\n",
    "**Hasil**:\n",
    "- User-Item Matrix berukuran **(20.908, 25.790)**, menunjukkan 20.908 pengguna dan 25.790 buku unik.\n",
    "\n",
    "---\n",
    "\n",
    "### Membuat List User-ID dan ISBN Unik\n",
    "\n",
    "**Teknik yang digunakan**:\n",
    "- Mengambil semua nilai unik dari `user_id` dan `isbn` di `ratings_clean` menggunakan `.unique()` dan mengubahnya ke list.\n",
    "\n",
    "**Proses dan Alasan**:\n",
    "- Daftar ini digunakan untuk membuat mapping antara ID asli (string) ke ID integer sebelum diproses oleh model TensorFlow berbasis embedding.\n",
    "\n",
    "**Hasil**:\n",
    "- Jumlah user unik: **20.908**\n",
    "- Jumlah buku unik: **25.790**\n",
    "\n",
    "---\n",
    "\n",
    "### Encoding User-ID dan ISBN\n",
    "\n",
    "**Teknik yang digunakan**:\n",
    "- Menggunakan `LabelEncoder` untuk mengubah `user_id` dan `isbn` dari string menjadi angka integer.\n",
    "\n",
    "**Proses dan Alasan**:\n",
    "- Model berbasis embedding di TensorFlow hanya menerima input numerik, sehingga encoding perlu dilakukan.\n",
    "- Hasil encoding disimpan dalam kolom `user` dan `book`.\n",
    "\n",
    "**Hasil**:\n",
    "- Setiap `user_id` dan `isbn` berhasil dipetakan ke nilai integer unik.\n",
    "- Contoh mapping:\n",
    "\n",
    "| user_id | isbn       | book_rating | user | book |\n",
    "|---------|------------|-------------|------|------|\n",
    "| 276747  | 0060517794 | 9           | 0    | 0    |\n",
    "| 276747  | 0671537458 | 9           | 0    | 1    |\n",
    "| 276747  | 0679776818 | 8           | 0    | 2    |\n",
    "\n",
    "---\n",
    "\n",
    "### Konversi Rating ke Float32\n",
    "\n",
    "**Teknik yang digunakan**:\n",
    "- Menggunakan `.astype('float32')` untuk mengubah nilai `book_rating`.\n",
    "\n",
    "**Proses dan Alasan**:\n",
    "- TensorFlow membutuhkan input numerik bertipe float untuk training model neural network.\n",
    "\n",
    "**Hasil**:\n",
    "- Kolom `book_rating` pada dataset `ratings_clean` berhasil dikonversi ke format `float32`.\n",
    "\n",
    "---\n",
    "\n",
    "### Mengecek Jumlah User dan Buku setelah Encoding\n",
    "\n",
    "**Teknik yang digunakan**:\n",
    "- Menggunakan fungsi `nunique()` untuk menghitung jumlah user dan buku unik setelah encoding.\n",
    "\n",
    "**Proses dan Alasan**:\n",
    "- Tahapan ini digunakan untuk verifikasi bahwa proses encoding berhasil dilakukan secara konsisten dan tidak ada data yang hilang.\n",
    "- Menjadi acuan juga untuk menentukan input dimension pada embedding layer model deep learning.\n",
    "\n",
    "**Hasil**:\n",
    "- Jumlah user setelah encoding: **20.908**\n",
    "- Jumlah buku setelah encoding: **25.790**\n",
    "\n",
    "---\n",
    "\n",
    "### Pembagian Data Training dan Validasi\n",
    "\n",
    "**Teknik yang digunakan**:\n",
    "- Menggunakan `train_test_split` dengan rasio 80:20.\n",
    "\n",
    "**Proses dan Alasan**:\n",
    "- Data diacak dan dibagi menjadi training dan validation set agar model dapat dilatih dan diuji performanya secara terpisah.\n",
    "- Fitur `x` terdiri dari pasangan `(user, book)`, sedangkan target `y` adalah `book_rating`.\n",
    "\n",
    "**Hasil**:\n",
    "- Jumlah data training: **163.080**\n",
    "- Jumlah data validasi: **40.771**\n",
    "\n",
    "---"
   ],
   "id": "3256c0791d953163"
  },
  {
   "metadata": {},
   "cell_type": "markdown",
   "source": "# Modeling",
   "id": "c6fda68f8759fe13"
  },
  {
   "metadata": {},
   "cell_type": "markdown",
   "source": "## Model Development dengan Content Based Filtering",
   "id": "583cfae4e6b3c1f7"
  },
  {
   "metadata": {
    "ExecuteTime": {
     "end_time": "2025-05-07T06:06:30.026881Z",
     "start_time": "2025-05-07T06:06:29.324961Z"
    }
   },
   "cell_type": "code",
   "source": [
    "# Import library\n",
    "from sklearn.feature_extraction.text import TfidfVectorizer\n",
    "from sklearn.metrics.pairwise import cosine_similarity\n",
    "\n",
    "# Gabungkan books dan ratings_clean untuk memastikan ISBN ada di kedua dataset\n",
    "books_filtered = books[books['ISBN'].isin(ratings_clean['isbn'])]\n",
    "\n",
    "# Reset index untuk kemudahan\n",
    "books_filtered = books_filtered.reset_index(drop=True)\n",
    "\n",
    "# Membuat TF-IDF Vectorizer pada kolom Book-Title\n",
    "tfidf = TfidfVectorizer(stop_words='english')\n",
    "\n",
    "# Beberapa judul mungkin NaN, kita isi kosong dulu\n",
    "books_filtered['Book-Title'] = books_filtered['Book-Title'].fillna('')\n",
    "\n",
    "# Fit and transform\n",
    "tfidf_matrix = tfidf.fit_transform(books_filtered['Book-Title'])\n",
    "\n",
    "print('TF-IDF Matrix Shape:', tfidf_matrix.shape)"
   ],
   "id": "8ae1bf233e8b8311",
   "outputs": [
    {
     "name": "stdout",
     "output_type": "stream",
     "text": [
      "TF-IDF Matrix Shape: (24253, 16052)\n"
     ]
    }
   ],
   "execution_count": 45
  },
  {
   "metadata": {},
   "cell_type": "markdown",
   "source": [
    "#### Membuat TF-IDF Matrix dari Judul Buku\n",
    "\n",
    "Pada tahap ini, kami mempersiapkan data untuk Content-Based Filtering dengan langkah-langkah sebagai berikut:\n",
    "\n",
    "- **Filtering Buku**:\n",
    "  - Dataset `books` difilter untuk hanya mempertahankan ISBN yang terdapat dalam `ratings_clean`.\n",
    "  - Hal ini memastikan bahwa hanya buku yang pernah dirating aktif yang diproses untuk rekomendasi.\n",
    "\n",
    "- **Handling Missing Value**:\n",
    "  - Mengisi nilai kosong pada kolom `Book-Title` dengan string kosong (`''`) untuk menghindari error saat proses vectorization.\n",
    "\n",
    "- **TF-IDF Vectorization**:\n",
    "  - Menggunakan `TfidfVectorizer` dari scikit-learn dengan parameter `stop_words='english'`.\n",
    "  - Tujuannya untuk mengubah teks judul buku menjadi representasi numerik berbasis frekuensi kata.\n",
    "\n",
    "- **Fit and Transform**:\n",
    "  - Melakukan fit dan transform pada kolom `Book-Title`, menghasilkan TF-IDF matrix.\n",
    "\n",
    "**Hasil:**\n",
    "- Ukuran TF-IDF matrix yang dihasilkan adalah **(24.253, 16.052)**,\n",
    "  yang berarti terdapat **24.253 judul buku** dan **16.052 fitur unik** (kata-kata unik dari seluruh judul buku)."
   ],
   "id": "93f7e0c252c0e2e2"
  },
  {
   "metadata": {
    "ExecuteTime": {
     "end_time": "2025-05-07T06:06:31.458988Z",
     "start_time": "2025-05-07T06:06:30.135164Z"
    }
   },
   "cell_type": "code",
   "source": [
    "# Menghitung Cosine Similarity dari TF-IDF Matrix\n",
    "cosine_sim = cosine_similarity(tfidf_matrix, tfidf_matrix)\n",
    "\n",
    "print('Cosine Similarity Matrix Shape:', cosine_sim.shape)"
   ],
   "id": "35d914888a6f8956",
   "outputs": [
    {
     "name": "stdout",
     "output_type": "stream",
     "text": [
      "Cosine Similarity Matrix Shape: (24253, 24253)\n"
     ]
    }
   ],
   "execution_count": 46
  },
  {
   "metadata": {},
   "cell_type": "markdown",
   "source": [
    "#### Menghitung Cosine Similarity Antar Judul Buku\n",
    "\n",
    "Pada tahap ini, kami menghitung skor kemiripan (similarity score) antar semua judul buku berdasarkan TF-IDF matrix yang telah dibuat sebelumnya.\n",
    "\n",
    "**Teknik yang digunakan:**\n",
    "- **Cosine Similarity**:\n",
    "  Mengukur tingkat kemiripan antar vektor TF-IDF dari judul buku.\n",
    "  Skor cosine similarity berkisar dari 0 (tidak mirip) hingga 1 (sangat mirip).\n",
    "\n",
    "**Proses:**\n",
    "- Menggunakan fungsi `cosine_similarity` dari scikit-learn untuk menghitung kemiripan antar seluruh kombinasi judul buku.\n",
    "\n",
    "**Hasil:**\n",
    "- Matriks cosine similarity yang dihasilkan berukuran **(24.253, 24.253)**.\n",
    "- Artinya, terdapat **24.253 judul buku** yang dibandingkan satu sama lain untuk mengukur tingkat kemiripannya."
   ],
   "id": "d4d0921f9c34d652"
  },
  {
   "metadata": {
    "ExecuteTime": {
     "end_time": "2025-05-07T06:07:53.522422Z",
     "start_time": "2025-05-07T06:06:31.538740Z"
    }
   },
   "cell_type": "code",
   "source": [
    "# Menghitung Cosine Similarity antar pengguna\n",
    "user_similarity = cosine_similarity(user_item_matrix.fillna(0))  # Missing value diganti 0\n",
    "\n",
    "print('User Similarity Matrix Shape:', user_similarity.shape)"
   ],
   "id": "f0462f938b32340a",
   "outputs": [
    {
     "name": "stdout",
     "output_type": "stream",
     "text": [
      "User Similarity Matrix Shape: (20908, 20908)\n"
     ]
    }
   ],
   "execution_count": 47
  },
  {
   "metadata": {},
   "cell_type": "markdown",
   "source": [
    "#### Menghitung Cosine Similarity Antar User\n",
    "\n",
    "Pada tahap ini, kami menghitung skor kemiripan (similarity score) antar semua pengguna berdasarkan pola rating mereka terhadap buku.\n",
    "\n",
    "**Teknik yang digunakan:**\n",
    "- **Cosine Similarity**:\n",
    "  Mengukur tingkat kesamaan antar vektor pengguna pada User-Item Matrix.\n",
    "  Skor cosine similarity berkisar dari 0 (tidak mirip) hingga 1 (sangat mirip).\n",
    "\n",
    "**Proses:**\n",
    "- Menggunakan fungsi `cosine_similarity` dari scikit-learn.\n",
    "- User-Item Matrix yang mengandung missing value (NaN) diisi dengan angka 0 sebelum perhitungan.\n",
    "- Cosine Similarity dihitung antar seluruh kombinasi pasangan user.\n",
    "\n",
    "**Hasil:**\n",
    "- Matriks cosine similarity yang dihasilkan berukuran **(20.908, 20.908)**.\n",
    "- Artinya, terdapat **20.908 pengguna** yang dibandingkan satu sama lain untuk mengukur tingkat kemiripannya."
   ],
   "id": "4200823655f8a054"
  },
  {
   "metadata": {
    "ExecuteTime": {
     "end_time": "2025-05-07T06:07:53.834868Z",
     "start_time": "2025-05-07T06:07:53.820255Z"
    }
   },
   "cell_type": "code",
   "source": [
    "def recommend_books(title, top_n=5):\n",
    "    # Cek apakah buku ada di dataset\n",
    "    if title not in books_filtered['Book-Title'].values:\n",
    "        return f\"Buku '{title}' tidak ditemukan di database.\"\n",
    "\n",
    "    # Cari index buku berdasarkan judul\n",
    "    idx = books_filtered[books_filtered['Book-Title'] == title].index[0]\n",
    "\n",
    "    # Ambil skor cosine similarity untuk buku tersebut\n",
    "    sim_scores = list(enumerate(cosine_sim[idx]))\n",
    "\n",
    "    # Urutkan skor dari tinggi ke rendah (kecuali dirinya sendiri [index 0])\n",
    "    sim_scores = sorted(sim_scores, key=lambda x: x[1], reverse=True)\n",
    "\n",
    "    # Ambil top_n skor tertinggi (skip index 0 karena itu dirinya sendiri)\n",
    "    sim_scores = sim_scores[1:top_n+1]\n",
    "\n",
    "    # Ambil index buku-buku yang mirip\n",
    "    book_indices = [i[0] for i in sim_scores]\n",
    "\n",
    "    # Tampilkan judul buku rekomendasi\n",
    "    return books_filtered.iloc[book_indices][['Book-Title', 'Book-Author']]"
   ],
   "id": "3888fff33e3c4f40",
   "outputs": [],
   "execution_count": 48
  },
  {
   "metadata": {},
   "cell_type": "markdown",
   "source": [
    "#### Membuat Fungsi Rekomendasi Berdasarkan Judul Buku\n",
    "\n",
    "Pada tahap ini, kami membangun fungsi rekomendasi untuk memberikan rekomendasi Top-N buku yang mirip berdasarkan kemiripan judul.\n",
    "\n",
    "**Teknik yang digunakan:**\n",
    "- Menggunakan hasil **Cosine Similarity Matrix**.\n",
    "- Menemukan index buku berdasarkan judul.\n",
    "- Mengurutkan skor kemiripan dan memilih Top-N buku dengan skor tertinggi.\n",
    "\n",
    "**Tujuan:**\n",
    "- Memberikan rekomendasi buku serupa untuk pengguna berdasarkan preferensi terhadap suatu buku tertentu.\n"
   ],
   "id": "94c5943cb507e15a"
  },
  {
   "metadata": {
    "ExecuteTime": {
     "end_time": "2025-05-07T06:07:54.034900Z",
     "start_time": "2025-05-07T06:07:53.961557Z"
    }
   },
   "cell_type": "code",
   "source": [
    "# Contoh menjalankan fungsi rekomendasi menggunakan Content-Based Filtering\n",
    "recommend_books('Harry Potter and the Chamber of Secrets (Book 2)')"
   ],
   "id": "23770a4be7ff503e",
   "outputs": [
    {
     "data": {
      "text/plain": [
       "                                              Book-Title    Book-Author\n",
       "2813    Harry Potter and the Chamber of Secrets (Book 2)  J. K. Rowling\n",
       "5064    Harry Potter and the Chamber of Secrets (Book 2)  J. K. Rowling\n",
       "18653  Harry Potter and the Chamber of Secrets (Harry...  J. K. Rowling\n",
       "19563  Harry Potter and the Chamber of Secrets Postca...  J. K. Rowling\n",
       "11102  Harry Potter and the Chamber of Secrets (Book ...  J. K. Rowling"
      ],
      "text/html": [
       "<div>\n",
       "<style scoped>\n",
       "    .dataframe tbody tr th:only-of-type {\n",
       "        vertical-align: middle;\n",
       "    }\n",
       "\n",
       "    .dataframe tbody tr th {\n",
       "        vertical-align: top;\n",
       "    }\n",
       "\n",
       "    .dataframe thead th {\n",
       "        text-align: right;\n",
       "    }\n",
       "</style>\n",
       "<table border=\"1\" class=\"dataframe\">\n",
       "  <thead>\n",
       "    <tr style=\"text-align: right;\">\n",
       "      <th></th>\n",
       "      <th>Book-Title</th>\n",
       "      <th>Book-Author</th>\n",
       "    </tr>\n",
       "  </thead>\n",
       "  <tbody>\n",
       "    <tr>\n",
       "      <th>2813</th>\n",
       "      <td>Harry Potter and the Chamber of Secrets (Book 2)</td>\n",
       "      <td>J. K. Rowling</td>\n",
       "    </tr>\n",
       "    <tr>\n",
       "      <th>5064</th>\n",
       "      <td>Harry Potter and the Chamber of Secrets (Book 2)</td>\n",
       "      <td>J. K. Rowling</td>\n",
       "    </tr>\n",
       "    <tr>\n",
       "      <th>18653</th>\n",
       "      <td>Harry Potter and the Chamber of Secrets (Harry...</td>\n",
       "      <td>J. K. Rowling</td>\n",
       "    </tr>\n",
       "    <tr>\n",
       "      <th>19563</th>\n",
       "      <td>Harry Potter and the Chamber of Secrets Postca...</td>\n",
       "      <td>J. K. Rowling</td>\n",
       "    </tr>\n",
       "    <tr>\n",
       "      <th>11102</th>\n",
       "      <td>Harry Potter and the Chamber of Secrets (Book ...</td>\n",
       "      <td>J. K. Rowling</td>\n",
       "    </tr>\n",
       "  </tbody>\n",
       "</table>\n",
       "</div>"
      ]
     },
     "execution_count": 49,
     "metadata": {},
     "output_type": "execute_result"
    }
   ],
   "execution_count": 49
  },
  {
   "metadata": {},
   "cell_type": "markdown",
   "source": [
    "#### Contoh Hasil Rekomendasi Top-5 Buku (Menggunakan Content-Based Filtering)\n",
    "\n",
    "Untuk menguji fungsi rekomendasi Content-Based Filtering yang telah dibangun sebelumnya,\n",
    "kami mencoba menggunakan contoh judul buku berikut:\n",
    "\n",
    "**Input Buku:**\n",
    "> 'Harry Potter and the Chamber of Secrets (Book 2)'\n",
    "\n",
    "Sistem kemudian mencari 5 buku lain yang memiliki tingkat kemiripan tertinggi berdasarkan TF-IDF dan Cosine Similarity antar judul buku.\n",
    "\n",
    "**Hasil Rekomendasi Top-5 Buku:**\n",
    "\n",
    "| No | Book-Title | Book-Author |\n",
    "|:--|:-----------|:------------|\n",
    "| 1 | Harry Potter and the Chamber of Secrets (Book 2) | J. K. Rowling |\n",
    "| 2 | Harry Potter and the Chamber of Secrets (Book 2) | J. K. Rowling |\n",
    "| 3 | Harry Potter and the Chamber of Secrets (Harry Potter) | J. K. Rowling |\n",
    "| 4 | Harry Potter and the Chamber of Secrets Postcard Book | J. K. Rowling |\n",
    "| 5 | Harry Potter and the Chamber of Secrets (Book 2 Audio CD) | J. K. Rowling |\n",
    "\n",
    "**Interpretasi Hasil:**\n",
    "- Semua rekomendasi yang dihasilkan adalah variasi dari buku \"Harry Potter and the Chamber of Secrets\" dalam berbagai edisi atau format (buku biasa, audio CD, postcard).\n",
    "- Ini membuktikan bahwa Content-Based Filtering berdasarkan judul dapat efektif menangkap kemiripan konten antar buku."
   ],
   "id": "fe9ff2fd7af986f1"
  },
  {
   "metadata": {},
   "cell_type": "markdown",
   "source": "## Model Development dengan Collaborative Filtering",
   "id": "9e56364705980d01"
  },
  {
   "metadata": {
    "ExecuteTime": {
     "end_time": "2025-05-07T06:07:54.205984Z",
     "start_time": "2025-05-07T06:07:54.193438Z"
    }
   },
   "cell_type": "code",
   "source": [
    "def recommend_books_userbased(user_id, user_item_matrix, user_similarity, books_filtered, top_n=5):\n",
    "    if user_id not in user_item_matrix.index:\n",
    "        return f\"User ID {user_id} tidak ditemukan dalam data.\"\n",
    "\n",
    "    # Ambil index user\n",
    "    idx = user_item_matrix.index.get_loc(user_id)\n",
    "\n",
    "    # Ambil skor similarity user target terhadap semua user lain\n",
    "    sim_scores = list(enumerate(user_similarity[idx]))\n",
    "\n",
    "    # Urutkan berdasarkan similarity terbesar (kecuali dirinya sendiri)\n",
    "    sim_scores = sorted(sim_scores, key=lambda x: x[1], reverse=True)\n",
    "\n",
    "    # Ambil user-user mirip\n",
    "    similar_users_idx = [i[0] for i in sim_scores[1:6]]  # top 5 user mirip\n",
    "    similar_users = user_item_matrix.index[similar_users_idx]\n",
    "\n",
    "    # Ambil semua buku yang dirating tinggi oleh user-user mirip\n",
    "    books_recommend = user_item_matrix.loc[similar_users]\n",
    "    books_recommend = books_recommend.mean(axis=0)  # Rata-rata rating dari user-user mirip\n",
    "    books_recommend = books_recommend.sort_values(ascending=False)\n",
    "\n",
    "    # Ambil buku yang user belum pernah rating\n",
    "    user_books = user_item_matrix.loc[user_id]\n",
    "    unseen_books = books_recommend[user_books.isna()]\n",
    "\n",
    "    # Ambil Top-N ISBN dan ratingnya\n",
    "    top_books = unseen_books.head(top_n)\n",
    "\n",
    "    # Buat DataFrame hasil\n",
    "    recommendations = books_filtered[books_filtered['ISBN'].isin(top_books.index)][['ISBN', 'Book-Title', 'Book-Author']]\n",
    "\n",
    "    # Merge dengan average rating\n",
    "    recommendations = recommendations.merge(top_books.reset_index(), left_on='ISBN', right_on='isbn')\n",
    "    recommendations = recommendations.rename(columns={0: 'Average-Rating'})\n",
    "    recommendations = recommendations[['ISBN', 'Book-Title', 'Book-Author', 'Average-Rating']]\n",
    "\n",
    "    return recommendations.reset_index(drop=True)"
   ],
   "id": "327022de4258555b",
   "outputs": [],
   "execution_count": 50
  },
  {
   "metadata": {},
   "cell_type": "markdown",
   "source": [
    "#### Membuat Fungsi Rekomendasi User-Based Collaborative Filtering\n",
    "\n",
    "Pada tahap ini, kami membangun fungsi untuk merekomendasikan buku kepada user berdasarkan kemiripan preferensi dengan user lain.\n",
    "\n",
    "**Teknik yang digunakan:**\n",
    "- **User-Based Collaborative Filtering**:\n",
    "  Sistem mencari pengguna lain dengan pola rating buku yang serupa menggunakan cosine similarity.\n",
    "- Buku yang dirating tinggi oleh pengguna-pengguna mirip, namun belum pernah dirating oleh user target, akan direkomendasikan.\n",
    "\n",
    "**Alur Proses Fungsi:**\n",
    "1. Menghitung skor similarity user target terhadap semua user lain.\n",
    "2. Memilih Top-5 user paling mirip (selain dirinya sendiri).\n",
    "3. Mengambil rata-rata rating buku yang dirating oleh user-user mirip.\n",
    "4. Menyaring buku-buku yang belum pernah dirating oleh user target.\n",
    "5. Mengambil Top-N buku dengan rata-rata rating tertinggi.\n",
    "6. Menggabungkan ISBN buku dengan informasi judul buku (`Book-Title`) dan penulis (`Book-Author`).\n",
    "7. Menambahkan rata-rata rating (`Average-Rating`) ke hasil rekomendasi.\n",
    "\n",
    "**Tujuan:**\n",
    "- Memberikan rekomendasi buku yang berpotensi disukai berdasarkan perilaku pengguna lain yang serupa."
   ],
   "id": "b3d26b7c6b00b872"
  },
  {
   "metadata": {
    "ExecuteTime": {
     "end_time": "2025-05-07T06:07:56.617954Z",
     "start_time": "2025-05-07T06:07:54.365153Z"
    }
   },
   "cell_type": "code",
   "source": [
    "# Contoh Menjalankan Rekomendasi User-Based Collaborative Filtering\n",
    "# Pilih contoh user_id yang ada\n",
    "example_user = user_item_matrix.index[0]  # ambil user pertama misal\n",
    "\n",
    "print(f\"Rekomendasi untuk User ID: {example_user}\")\n",
    "recommend_books_userbased(example_user, user_item_matrix, user_similarity, books_filtered, top_n=5)"
   ],
   "id": "cd6e9695cbb4f556",
   "outputs": [
    {
     "name": "stdout",
     "output_type": "stream",
     "text": [
      "Rekomendasi untuk User ID: 8\n"
     ]
    },
    {
     "data": {
      "text/plain": [
       "         ISBN             Book-Title     Book-Author  Average-Rating\n",
       "0  0446310786  To Kill a Mockingbird      Harper Lee            10.0\n",
       "1  0684874350         ANGELA'S ASHES   Frank McCourt            10.0\n",
       "2  0440212561              Outlander  DIANA GABALDON            10.0"
      ],
      "text/html": [
       "<div>\n",
       "<style scoped>\n",
       "    .dataframe tbody tr th:only-of-type {\n",
       "        vertical-align: middle;\n",
       "    }\n",
       "\n",
       "    .dataframe tbody tr th {\n",
       "        vertical-align: top;\n",
       "    }\n",
       "\n",
       "    .dataframe thead th {\n",
       "        text-align: right;\n",
       "    }\n",
       "</style>\n",
       "<table border=\"1\" class=\"dataframe\">\n",
       "  <thead>\n",
       "    <tr style=\"text-align: right;\">\n",
       "      <th></th>\n",
       "      <th>ISBN</th>\n",
       "      <th>Book-Title</th>\n",
       "      <th>Book-Author</th>\n",
       "      <th>Average-Rating</th>\n",
       "    </tr>\n",
       "  </thead>\n",
       "  <tbody>\n",
       "    <tr>\n",
       "      <th>0</th>\n",
       "      <td>0446310786</td>\n",
       "      <td>To Kill a Mockingbird</td>\n",
       "      <td>Harper Lee</td>\n",
       "      <td>10.0</td>\n",
       "    </tr>\n",
       "    <tr>\n",
       "      <th>1</th>\n",
       "      <td>0684874350</td>\n",
       "      <td>ANGELA'S ASHES</td>\n",
       "      <td>Frank McCourt</td>\n",
       "      <td>10.0</td>\n",
       "    </tr>\n",
       "    <tr>\n",
       "      <th>2</th>\n",
       "      <td>0440212561</td>\n",
       "      <td>Outlander</td>\n",
       "      <td>DIANA GABALDON</td>\n",
       "      <td>10.0</td>\n",
       "    </tr>\n",
       "  </tbody>\n",
       "</table>\n",
       "</div>"
      ]
     },
     "execution_count": 51,
     "metadata": {},
     "output_type": "execute_result"
    }
   ],
   "execution_count": 51
  },
  {
   "metadata": {},
   "cell_type": "markdown",
   "source": [
    "#### Contoh Hasil Rekomendasi User-Based Collaborative Filtering\n",
    "\n",
    "Untuk menguji fungsi rekomendasi User-Based, kami mencoba menggunakan salah satu user ID dari dataset.\n",
    "\n",
    "**Input:**\n",
    "- User ID: 8\n",
    "\n",
    "**Proses:**\n",
    "- Sistem mencari Top-5 pengguna lain yang paling mirip berdasarkan cosine similarity.\n",
    "- Sistem merekomendasikan buku yang:\n",
    "  - Dirating tinggi oleh pengguna-pengguna mirip.\n",
    "  - Belum pernah dirating oleh user target.\n",
    "\n",
    "**Output:**\n",
    "Berikut 3 rekomendasi buku untuk User ID 8:\n",
    "\n",
    "| No | ISBN | Book-Title | Book-Author | Average-Rating |\n",
    "|:--:|:----:|:----------|:------------|:--------------:|\n",
    "| 1 | 0446310786 | To Kill a Mockingbird | Harper Lee | 10.0 |\n",
    "| 2 | 0684874350 | ANGELA'S ASHES | Frank McCourt | 10.0 |\n",
    "| 3 | 0440212561 | Outlander | DIANA GABALDON | 10.0 |\n",
    "\n",
    "**Catatan:**\n",
    "- Hanya 3 rekomendasi yang berhasil ditampilkan karena hanya 3 ISBN yang cocok dengan data buku yang tersedia (`books_filtered`)."
   ],
   "id": "2f6ed7c26f947804"
  },
  {
   "metadata": {},
   "cell_type": "markdown",
   "source": "## Model Development dengan Collaborative Filtering menggunakan Keras",
   "id": "b7361932e3d9f3c4"
  },
  {
   "metadata": {
    "ExecuteTime": {
     "end_time": "2025-05-07T06:08:04.522764Z",
     "start_time": "2025-05-07T06:07:56.960813Z"
    }
   },
   "cell_type": "code",
   "source": [
    "# Import library tambahan\n",
    "import tensorflow as tf\n",
    "from tensorflow import keras\n",
    "from tensorflow.keras import layers\n",
    "\n",
    "# Build class RecommenderNet\n",
    "class RecommenderNet(tf.keras.Model):\n",
    "\n",
    "    def __init__(self, num_users, num_books, embedding_size=50, **kwargs):\n",
    "        super(RecommenderNet, self).__init__(**kwargs)\n",
    "        self.num_users = num_users\n",
    "        self.num_books = num_books\n",
    "        self.embedding_size = embedding_size\n",
    "\n",
    "        # User embedding\n",
    "        self.user_embedding = layers.Embedding(\n",
    "            num_users,\n",
    "            embedding_size,\n",
    "            embeddings_initializer='he_normal',\n",
    "            embeddings_regularizer=keras.regularizers.l2(1e-6)\n",
    "        )\n",
    "        self.user_bias = layers.Embedding(num_users, 1)\n",
    "\n",
    "        # Book embedding\n",
    "        self.book_embedding = layers.Embedding(\n",
    "            num_books,\n",
    "            embedding_size,\n",
    "            embeddings_initializer='he_normal',\n",
    "            embeddings_regularizer=keras.regularizers.l2(1e-6)\n",
    "        )\n",
    "        self.book_bias = layers.Embedding(num_books, 1)\n",
    "\n",
    "    def call(self, inputs):\n",
    "        user_vector = self.user_embedding(inputs[:, 0])\n",
    "        user_bias = self.user_bias(inputs[:, 0])\n",
    "        book_vector = self.book_embedding(inputs[:, 1])\n",
    "        book_bias = self.book_bias(inputs[:, 1])\n",
    "\n",
    "        dot_user_book = tf.tensordot(user_vector, book_vector, 2)\n",
    "        x = dot_user_book + user_bias + book_bias\n",
    "\n",
    "        return tf.nn.sigmoid(x)"
   ],
   "id": "81e6f157f90b0deb",
   "outputs": [],
   "execution_count": 52
  },
  {
   "metadata": {},
   "cell_type": "markdown",
   "source": [
    "#### Membangun Class Model RecommenderNet\n",
    "\n",
    "Kami membangun sebuah model deep learning custom menggunakan TensorFlow/Keras subclassing API.\n",
    "\n",
    "**Spesifikasi Arsitektur:**\n",
    "- **User Embedding Layer**: Membentuk representasi vektor laten untuk setiap user.\n",
    "- **Book Embedding Layer**: Membentuk representasi vektor laten untuk setiap buku.\n",
    "- **Bias Layer**: Menambahkan bias untuk setiap user dan setiap buku.\n",
    "- **Dot Product**: Menghitung tingkat kecocokan antara user dan buku.\n",
    "- **Activation Function**: Sigmoid, untuk membatasi skor prediksi pada rentang [0,1].\n",
    "\n",
    "Model ini bertujuan untuk mempelajari interaksi antara user dan item secara efisien melalui representasi embedding."
   ],
   "id": "38c3d68edd3e0bde"
  },
  {
   "metadata": {
    "ExecuteTime": {
     "end_time": "2025-05-07T06:08:08.203670Z",
     "start_time": "2025-05-07T06:08:04.664737Z"
    }
   },
   "cell_type": "code",
   "source": [
    "# Inisialisasi model\n",
    "model = RecommenderNet(num_users, num_books, embedding_size=50)\n",
    "\n",
    "# Compile model\n",
    "model.compile(\n",
    "    loss=tf.keras.losses.BinaryCrossentropy(),\n",
    "    optimizer=keras.optimizers.Adam(learning_rate=0.001),\n",
    "    metrics=[tf.keras.metrics.RootMeanSquaredError()]\n",
    ")"
   ],
   "id": "758f30971ff568db",
   "outputs": [],
   "execution_count": 53
  },
  {
   "metadata": {},
   "cell_type": "markdown",
   "source": [
    "#### Inisialisasi dan Compile Model RecommenderNet\n",
    "\n",
    "Setelah membangun arsitektur model, kami melakukan inisialisasi dan kompilasi model dengan spesifikasi sebagai berikut:\n",
    "\n",
    "- **Loss Function**: Binary Crossentropy\n",
    "- **Optimizer**: Adam Optimizer (learning rate = 0.001)\n",
    "- **Evaluation Metric**: Root Mean Squared Error (RMSE)\n",
    "\n",
    "Loss function binary crossentropy dipilih karena model memprediksi probabilitas keterkaitan user-buku dalam rentang [0,1].\n",
    "\n",
    "Model siap dilatih setelah proses kompilasi ini."
   ],
   "id": "b63d236773fea1a0"
  },
  {
   "metadata": {
    "ExecuteTime": {
     "end_time": "2025-05-07T06:39:21.493111Z",
     "start_time": "2025-05-07T06:08:08.347145Z"
    }
   },
   "cell_type": "code",
   "source": [
    "from tensorflow.keras.callbacks import EarlyStopping\n",
    "\n",
    "# Setup EarlyStopping\n",
    "early_stop = EarlyStopping(\n",
    "    monitor='val_root_mean_squared_error', # Monitor validasi RMSE\n",
    "    patience=5, # Tunggu 5 epoch berturut-turut, kalau nggak improve, stop\n",
    "    restore_best_weights=True # Balikin ke model dengan bobot terbaik\n",
    ")\n",
    "\n",
    "# Retraining dengan EarlyStopping\n",
    "history = model.fit(\n",
    "    x=x_train,\n",
    "    y=y_train,\n",
    "    batch_size=8,\n",
    "    epochs=100,\n",
    "    validation_data=(x_val, y_val),\n",
    "    callbacks=[early_stop]\n",
    ")"
   ],
   "id": "9cf98a877004b563",
   "outputs": [
    {
     "name": "stdout",
     "output_type": "stream",
     "text": [
      "Epoch 1/100\n",
      "20385/20385 [==============================] - 141s 7ms/step - loss: 0.6064 - root_mean_squared_error: 0.2409 - val_loss: 0.5683 - val_root_mean_squared_error: 0.2001\n",
      "Epoch 2/100\n",
      "20385/20385 [==============================] - 131s 6ms/step - loss: 0.5590 - root_mean_squared_error: 0.1901 - val_loss: 0.5607 - val_root_mean_squared_error: 0.1931\n",
      "Epoch 3/100\n",
      "20385/20385 [==============================] - 134s 7ms/step - loss: 0.5500 - root_mean_squared_error: 0.1810 - val_loss: 0.5569 - val_root_mean_squared_error: 0.1899\n",
      "Epoch 4/100\n",
      "20385/20385 [==============================] - 131s 6ms/step - loss: 0.5434 - root_mean_squared_error: 0.1742 - val_loss: 0.5538 - val_root_mean_squared_error: 0.1872\n",
      "Epoch 5/100\n",
      "20385/20385 [==============================] - 136s 7ms/step - loss: 0.5384 - root_mean_squared_error: 0.1690 - val_loss: 0.5520 - val_root_mean_squared_error: 0.1858\n",
      "Epoch 6/100\n",
      "20385/20385 [==============================] - 134s 7ms/step - loss: 0.5347 - root_mean_squared_error: 0.1652 - val_loss: 0.5508 - val_root_mean_squared_error: 0.1849\n",
      "Epoch 7/100\n",
      "20385/20385 [==============================] - 133s 7ms/step - loss: 0.5314 - root_mean_squared_error: 0.1620 - val_loss: 0.5500 - val_root_mean_squared_error: 0.1843\n",
      "Epoch 8/100\n",
      "20385/20385 [==============================] - 132s 6ms/step - loss: 0.5290 - root_mean_squared_error: 0.1594 - val_loss: 0.5495 - val_root_mean_squared_error: 0.1841\n",
      "Epoch 9/100\n",
      "20385/20385 [==============================] - 134s 7ms/step - loss: 0.5268 - root_mean_squared_error: 0.1572 - val_loss: 0.5489 - val_root_mean_squared_error: 0.1836\n",
      "Epoch 10/100\n",
      "20385/20385 [==============================] - 131s 6ms/step - loss: 0.5253 - root_mean_squared_error: 0.1557 - val_loss: 0.5489 - val_root_mean_squared_error: 0.1836\n",
      "Epoch 11/100\n",
      "20385/20385 [==============================] - 133s 7ms/step - loss: 0.5240 - root_mean_squared_error: 0.1543 - val_loss: 0.5490 - val_root_mean_squared_error: 0.1837\n",
      "Epoch 12/100\n",
      "20385/20385 [==============================] - 132s 6ms/step - loss: 0.5229 - root_mean_squared_error: 0.1533 - val_loss: 0.5493 - val_root_mean_squared_error: 0.1839\n",
      "Epoch 13/100\n",
      "20385/20385 [==============================] - 136s 7ms/step - loss: 0.5220 - root_mean_squared_error: 0.1523 - val_loss: 0.5494 - val_root_mean_squared_error: 0.1839\n",
      "Epoch 14/100\n",
      "20385/20385 [==============================] - 135s 7ms/step - loss: 0.5214 - root_mean_squared_error: 0.1516 - val_loss: 0.5499 - val_root_mean_squared_error: 0.1842\n"
     ]
    }
   ],
   "execution_count": 54
  },
  {
   "metadata": {},
   "cell_type": "markdown",
   "source": [
    "#### Training Model RecommenderNet\n",
    "\n",
    "Pada tahap ini, model `RecommenderNet` dilatih menggunakan dataset yang telah dibagi menjadi training dan validation set.\n",
    "\n",
    "**Spesifikasi Training:**\n",
    "- Batch Size: 8\n",
    "- Epochs: 100\n",
    "- Optimizer: Adam\n",
    "- Loss Function: Binary Crossentropy\n",
    "- Evaluation Metric: Root Mean Squared Error (RMSE)\n",
    "\n",
    "**Hasil Training:**\n",
    "- Nilai RMSE Training terbaik: sekitar **0.1517**\n",
    "- Nilai RMSE Validation terbaik: sekitar **0.1835**\n",
    "- Model menunjukkan tren learning curve yang stabil dan tidak mengalami overfitting besar.\n",
    "\n",
    "Model berhenti pada epoch 14 dengan performa terbaik pada data validasi."
   ],
   "id": "9e43f1c885288f76"
  },
  {
   "metadata": {
    "ExecuteTime": {
     "end_time": "2025-05-07T06:39:23.893983Z",
     "start_time": "2025-05-07T06:39:21.634128Z"
    }
   },
   "cell_type": "code",
   "source": [
    "import numpy as np\n",
    "\n",
    "# Ambil 1 contoh user random\n",
    "user_id = ratings_clean['user_id'].sample(1).iloc[0]\n",
    "print(f\"Testing rekomendasi untuk User ID: {user_id}\")\n",
    "\n",
    "# Cari buku yang pernah dirating user ini\n",
    "books_rated_by_user = ratings_clean[ratings_clean['user_id'] == user_id]\n",
    "\n",
    "# Cari buku yang belum dirating user ini\n",
    "all_isbns = set(ratings_clean['isbn'].unique())\n",
    "rated_isbns = set(books_rated_by_user['isbn'])\n",
    "unrated_isbns = list(all_isbns - rated_isbns)\n",
    "\n",
    "# Encode ISBN yang belum dirated\n",
    "unrated_books_encoded = [isbn_to_isbn_encoded.get(x) for x in unrated_isbns if isbn_to_isbn_encoded.get(x) is not None]\n",
    "user_encoder = user_to_user_encoded.get(user_id)\n",
    "\n",
    "# Bentuk array prediksi\n",
    "user_book_array = np.hstack(\n",
    "    (np.array([[user_encoder]] * len(unrated_books_encoded)), np.array(unrated_books_encoded).reshape(-1, 1))\n",
    ")\n",
    "\n",
    "# Prediksi rating untuk semua buku yang belum dirated\n",
    "predicted_ratings = model.predict(user_book_array).flatten()\n",
    "\n",
    "# Ambil Top-N rekomendasi\n",
    "top_n = 5\n",
    "top_ratings_indices = predicted_ratings.argsort()[-top_n:][::-1]\n",
    "recommended_isbns = [isbn_encoded_to_isbn.get(unrated_books_encoded[i]) for i in top_ratings_indices]\n",
    "\n",
    "# Tampilkan rekomendasi\n",
    "print('Top-N Rekomendasi Buku untuk User:')\n",
    "recommended_books = books[books['ISBN'].isin(recommended_isbns)][['ISBN', 'Book-Title', 'Book-Author']]\n",
    "print(recommended_books)"
   ],
   "id": "c7c0cdbde626c86b",
   "outputs": [
    {
     "name": "stdout",
     "output_type": "stream",
     "text": [
      "Testing rekomendasi untuk User ID: 225471\n",
      "806/806 [==============================] - 2s 2ms/step\n",
      "Top-N Rekomendasi Buku untuk User:\n",
      "             ISBN                                         Book-Title  \\\n",
      "4206   0345339738  The Return of the King (The Lord of the Rings,...   \n",
      "5871   1888054557   Postmarked Yesteryear: 30 Rare Holiday Postcards   \n",
      "13300  0060256656                                    The Giving Tree   \n",
      "64267  0836213319                       Dilbert: A Book of Postcards   \n",
      "79370  0439425220  Harry Potter and the Chamber of Secrets Postca...   \n",
      "\n",
      "                      Book-Author  \n",
      "4206               J.R.R. TOLKIEN  \n",
      "5871   Pamela E. Apkarian-Russell  \n",
      "13300            Shel Silverstein  \n",
      "64267                 Scott Adams  \n",
      "79370               J. K. Rowling  \n"
     ]
    }
   ],
   "execution_count": 55
  },
  {
   "metadata": {},
   "cell_type": "markdown",
   "source": [
    "### Model-Based Collaborative Filtering (Keras) - Rekomendasi\n",
    "\n",
    "Untuk menguji model Collaborative Filtering berbasis TensorFlow Keras yang telah dilatih, kami melakukan simulasi rekomendasi buku terhadap pengguna acak.\n",
    "\n",
    "**User yang dipilih:** User-ID 263663\n",
    "\n",
    "**Top-5 Buku yang Direkomendasikan:**\n",
    "\n",
    "| No | Book-Title | Book-Author |\n",
    "|:--|:--|:--|\n",
    "| 1 | The Return of the King (The Lord of the Rings, Part 3) | J.R.R. Tolkien |\n",
    "| 2 | The Two Towers (The Lord of the Rings, Part 2) | J.R.R. Tolkien |\n",
    "| 3 | The Giving Tree | Shel Silverstein |\n",
    "| 4 | Dilbert: A Book of Postcards | Scott Adams |\n",
    "| 5 | Harry Potter and the Chamber of Secrets Postcard Book | J.K. Rowling |\n",
    "\n",
    "**Interpretasi Hasil:**\n",
    "- Model mampu merekomendasikan buku populer dan relevan.\n",
    "- Terdapat konsistensi preferensi genre (fantasy, literature classic).\n",
    "- Ini menunjukkan bahwa embedding model berhasil menangkap representasi laten dari interaksi user-buku.\n"
   ],
   "id": "de2ab5eaa97ea9a3"
  },
  {
   "metadata": {},
   "cell_type": "markdown",
   "source": "## Analisis Modeling",
   "id": "97a13ef8c4bc6924"
  },
  {
   "metadata": {},
   "cell_type": "markdown",
   "source": [
    "Pada bagian ini, kami membangun dua pendekatan sistem rekomendasi untuk menyelesaikan permasalahan prediksi buku yang relevan untuk pengguna.\n",
    "\n",
    "---\n",
    "\n",
    "### Content-Based Filtering\n",
    "\n",
    "#### Proses:\n",
    "- Melakukan filtering pada dataset `books` agar hanya mencakup ISBN yang terdapat di `ratings_clean`.\n",
    "- Mengisi nilai kosong (`NaN`) pada kolom `Book-Title` dengan string kosong.\n",
    "- Menggunakan `TfidfVectorizer(stop_words='english')` untuk mentransformasikan judul buku menjadi representasi numerik.\n",
    "- Membentuk **TF-IDF Matrix** berukuran `(24.253, 16.052)`.\n",
    "- Menghitung **Cosine Similarity** antar judul buku berdasarkan vektor TF-IDF.\n",
    "- Membuat fungsi `recommend_books(book_title)` untuk menghasilkan Top-N rekomendasi berdasarkan skor similarity tertinggi.\n",
    "\n",
    "#### Output:\n",
    "- TF-IDF Matrix Shape: **(24.253, 16.052)**\n",
    "- Cosine Similarity Matrix Shape: **(24.253, 24.253)**\n",
    "\n",
    "> Matriks cosine similarity berhasil dibuat untuk mengukur kemiripan antar buku berdasarkan judul.\n",
    "\n",
    "#### Contoh Hasil Rekomendasi Top-5 Buku (Menggunakan Content-Based Filtering)\n",
    "\n",
    "**Input Buku:**\n",
    "> 'Harry Potter and the Chamber of Secrets (Book 2)'\n",
    "\n",
    "Sistem kemudian mencari 5 buku lain yang memiliki tingkat kemiripan tertinggi berdasarkan TF-IDF dan Cosine Similarity antar judul buku.\n",
    "\n",
    "**Hasil Rekomendasi Top-5 Buku:**\n",
    "\n",
    "| No | Book-Title | Book-Author |\n",
    "|:--|:-----------|:------------|\n",
    "| 1 | Harry Potter and the Chamber of Secrets (Book 2) | J. K. Rowling |\n",
    "| 2 | Harry Potter and the Chamber of Secrets (Book 2) | J. K. Rowling |\n",
    "| 3 | Harry Potter and the Chamber of Secrets (Harry Potter) | J. K. Rowling |\n",
    "| 4 | Harry Potter and the Chamber of Secrets Postcard Book | J. K. Rowling |\n",
    "| 5 | Harry Potter and the Chamber of Secrets (Book 2 Audio CD) | J. K. Rowling |\n",
    "\n",
    "**Interpretasi Hasil:**\n",
    "- Semua rekomendasi merupakan variasi dari buku yang sama dalam edisi/format berbeda.\n",
    "- Menunjukkan sistem cukup sensitif terhadap kesamaan judul, sesuai karakteristik Content-Based Filtering.\n",
    "\n",
    "---\n",
    "\n",
    "### Collaborative Filtering (Memory-Based - User-Based)\n",
    "\n",
    "#### Proses:\n",
    "- Membentuk User-Item Matrix dari data rating.\n",
    "- Menghitung cosine similarity antar user berdasarkan User-Item Matrix.\n",
    "- Membuat fungsi `recommend_books_userbased(user_id)` untuk menghasilkan Top-N rekomendasi berdasarkan user similarity.\n",
    "\n",
    "#### Output:\n",
    "- User-Item Matrix Shape: **(20.908, 25.790)**\n",
    "- User Similarity Matrix Shape: **(20.908, 20.908)**\n",
    "\n",
    "> User-item interaction berhasil dibentuk, dan kemiripan antar pengguna berhasil dihitung menggunakan cosine similarity.\n",
    "\n",
    "#### Contoh Hasil Rekomendasi User-Based Collaborative Filtering\n",
    "\n",
    "**Input:**\n",
    "> User ID: 8\n",
    "\n",
    "**Proses:**\n",
    "- Sistem mencari Top-5 pengguna lain yang paling mirip berdasarkan cosine similarity.\n",
    "- Buku yang dirating tinggi oleh pengguna-pengguna mirip dan belum pernah dibaca oleh user target akan direkomendasikan.\n",
    "\n",
    "**Hasil Rekomendasi:**\n",
    "\n",
    "| No | ISBN | Book-Title | Book-Author | Average-Rating |\n",
    "|:--:|:----:|:----------|:------------|:--------------:|\n",
    "| 1 | 0446310786 | To Kill a Mockingbird | Harper Lee | 10.0 |\n",
    "| 2 | 0684874350 | ANGELA'S ASHES | Frank McCourt | 10.0 |\n",
    "| 3 | 0440212561 | Outlander | DIANA GABALDON | 10.0 |\n",
    "\n",
    "**Catatan:**\n",
    "- Hanya 3 buku yang berhasil direkomendasikan karena keterbatasan jumlah ISBN yang cocok dengan data buku (`books_filtered`).\n",
    "\n",
    "---\n",
    "\n",
    "### Collaborative Filtering (Model-Based dengan TensorFlow Keras)\n",
    "\n",
    "#### Proses:\n",
    "- Encode User-ID dan ISBN ke indeks numerik.\n",
    "- Membuat class custom `RecommenderNet` menggunakan Embedding Layer.\n",
    "- Membagi data ke dalam training set dan validation set (rasio 80:20).\n",
    "- Melatih model menggunakan loss binary crossentropy dan optimizer Adam.\n",
    "\n",
    "#### Output:\n",
    "- Jumlah user unik: **20.908**\n",
    "- Jumlah buku unik: **25.790**\n",
    "- Shape `x_train`: **(163.080, 2)**\n",
    "- Shape `y_train`: **(163.080,)**\n",
    "- Shape `x_val`: **(40.771, 2)**\n",
    "- Shape `y_val`: **(40.771,)**\n",
    "\n",
    "**Hasil Training:**\n",
    "- RMSE Training terbaik: sekitar **0.1517**\n",
    "- RMSE Validation terbaik: sekitar **0.1835**\n",
    "\n",
    "> Model berbasis embedding berhasil dibangun dan dilatih untuk mempelajari representasi laten user dan buku.\n",
    "\n",
    "#### Model-Based Collaborative Filtering (Keras) - Rekomendasi\n",
    "\n",
    "**User yang dipilih:** User ID: 263663\n",
    "\n",
    "**Top-5 Buku yang Direkomendasikan:**\n",
    "\n",
    "| No | Book-Title | Book-Author |\n",
    "|:--|:--|:--|\n",
    "| 1 | The Return of the King (The Lord of the Rings, Part 3) | J.R.R. Tolkien |\n",
    "| 2 | The Two Towers (The Lord of the Rings, Part 2) | J.R.R. Tolkien |\n",
    "| 3 | The Giving Tree | Shel Silverstein |\n",
    "| 4 | Dilbert: A Book of Postcards | Scott Adams |\n",
    "| 5 | Harry Potter and the Chamber of Secrets Postcard Book | J.K. Rowling |\n",
    "\n",
    "**Interpretasi Hasil:**\n",
    "- Model berhasil merekomendasikan buku populer dan relevan sesuai preferensi user.\n",
    "- Menunjukkan bahwa embedding model dapat menangkap pola dan genre favorit pengguna.\n",
    "\n",
    "---\n",
    "\n",
    "### Top-N Recommendation Output\n",
    "\n",
    "Pada setiap pendekatan, sistem menghasilkan rekomendasi **Top-N** buku:\n",
    "\n",
    "- Pada **Content-Based Filtering**, rekomendasi buku-buku yang memiliki kemiripan tinggi berdasarkan judul.\n",
    "- Pada **Collaborative Filtering**, rekomendasi buku berdasarkan pola interaksi pengguna.\n",
    "\n",
    "---\n",
    "\n",
    "### Perbandingan Pendekatan\n",
    "\n",
    "| Pendekatan | Kelebihan | Kekurangan |\n",
    "|:---|:---|:---|\n",
    "| **Content-Based Filtering** | - Tidak memerlukan data rating.<br>- Dapat merekomendasikan item baru. | - Hanya merekomendasikan item mirip.<br>- Tidak menangkap pola komunitas. |\n",
    "| **Collaborative Filtering (User-Based)** | - Menangkap pola komunitas pengguna.<br>- Rekomendasi bisa lebih beragam. | - Membutuhkan data interaksi user-item.<br>- Rentan cold-start untuk user/buku baru. |\n",
    "| **Model-Based CF (Deep Learning)** | - Menangkap kompleksitas preferensi.<br>- Tidak bergantung pada kemiripan eksplisit. | - Butuh waktu training lebih lama.<br>- Rentan overfitting jika data sedikit. |\n",
    "\n",
    "Dengan menggabungkan tiga pendekatan ini, sistem rekomendasi menjadi lebih kuat dan fleksibel dalam memberikan saran buku yang relevan, baik berdasarkan konten maupun perilaku pengguna."
   ],
   "id": "14f214c0d9626e68"
  },
  {
   "metadata": {},
   "cell_type": "markdown",
   "source": "## Evaluation",
   "id": "bf95363c65a2efe8"
  },
  {
   "metadata": {
    "ExecuteTime": {
     "end_time": "2025-05-07T06:39:24.316273Z",
     "start_time": "2025-05-07T06:39:24.006667Z"
    }
   },
   "cell_type": "code",
   "source": [
    "import matplotlib.pyplot as plt\n",
    "\n",
    "# Plot RMSE training dan validation\n",
    "plt.figure(figsize=(8, 5))\n",
    "plt.plot(history.history['root_mean_squared_error'], label='Train RMSE')\n",
    "plt.plot(history.history['val_root_mean_squared_error'], label='Validation RMSE')\n",
    "plt.title('Learning Curve - RMSE')\n",
    "plt.xlabel('Epoch')\n",
    "plt.ylabel('Root Mean Squared Error')\n",
    "plt.legend()\n",
    "plt.grid(True)\n",
    "plt.show()"
   ],
   "id": "3f4afaa663e4c57c",
   "outputs": [
    {
     "data": {
      "text/plain": [
       "<Figure size 800x500 with 1 Axes>"
      ],
      "image/png": "[encoded data removed]"
     },
     "metadata": {},
     "output_type": "display_data"
    }
   ],
   "execution_count": 56
  },
  {
   "metadata": {},
   "cell_type": "markdown",
   "source": [
    "### Learning Curve - RMSE\n",
    "\n",
    "Grafik di atas menunjukkan perubahan nilai Root Mean Squared Error (RMSE) pada data training dan validation selama proses training.\n",
    "\n",
    "- RMSE Training cenderung turun hingga mendekati 0.1517\n",
    "- RMSE Validation cenderung stabil di sekitar 0.1835\n",
    "- Tidak terdapat indikasi overfitting berlebihan.\n",
    "- Model konvergen dengan baik dalam waktu sekitar 10–15 epoch.\n",
    "\n",
    "Hal ini menunjukkan bahwa model cukup mampu mempelajari pola interaksi pengguna-buku dan membuat prediksi dengan error yang relatif rendah."
   ],
   "id": "b1cf1e3bcdc7d693"
  },
  {
   "metadata": {
    "ExecuteTime": {
     "end_time": "2025-05-07T06:40:47.019331Z",
     "start_time": "2025-05-07T06:40:44.639635Z"
    }
   },
   "cell_type": "code",
   "source": [
    "# Fungsi untuk menghitung Precision@K\n",
    "def precision_at_k(recommended_books, relevant_books, k=5):\n",
    "    \"\"\"\n",
    "    Menghitung precision pada Top-K rekomendasi.\n",
    "    recommended_books: list ISBN yang direkomendasikan\n",
    "    relevant_books: list ISBN yang relevan (diberi rating tinggi oleh user)\n",
    "    \"\"\"\n",
    "    if not relevant_books:\n",
    "        return 0.0\n",
    "    recommended_top_k = recommended_books[:k]\n",
    "    hits = len(set(recommended_top_k) & set(relevant_books))  # Buku relevan yang muncul di Top-K\n",
    "    return hits / k\n",
    "\n",
    "# Ambil user aktif yang sudah memberikan minimal 5 rating\n",
    "active_users = ratings_clean['user_id'].value_counts()\n",
    "sample_users = active_users[active_users >= 5].sample(100, random_state=42).index  # Sampling 100 user\n",
    "\n",
    "precision_scores = []\n",
    "\n",
    "# Iterasi untuk setiap user yang diambil\n",
    "for user_id in sample_users:\n",
    "    # Ambil semua rating tinggi (≥7) dari user\n",
    "    user_rated_books = ratings_clean[(ratings_clean['user_id'] == user_id) & (ratings_clean['book_rating'] >= 7)]\n",
    "    relevant_isbns = user_rated_books['isbn'].tolist()  # ISBN yang relevan untuk user\n",
    "\n",
    "    if not relevant_isbns:\n",
    "        continue  # Skip user jika tidak ada buku dengan rating tinggi\n",
    "\n",
    "    # Pilih salah satu buku sebagai input untuk rekomendasi\n",
    "    input_book_isbn = relevant_isbns[0]\n",
    "    input_title = books_filtered[books_filtered['ISBN'] == input_book_isbn]['Book-Title'].values\n",
    "    if len(input_title) == 0:\n",
    "        continue  # Skip jika judul tidak ditemukan\n",
    "\n",
    "    # Cari index dari judul di TF-IDF matrix\n",
    "    idx = books_filtered[books_filtered['Book-Title'] == input_title[0]].index\n",
    "    if len(idx) == 0:\n",
    "        continue  # Skip jika tidak ada index-nya\n",
    "\n",
    "    # Hitung skor kemiripan antara buku input dan seluruh buku\n",
    "    sim_scores = list(enumerate(cosine_sim[idx[0]]))  # cosine_sim dari TF-IDF\n",
    "    sim_scores = sorted(sim_scores, key=lambda x: x[1], reverse=True)  # Urutkan berdasarkan skor similarity\n",
    "    top_indices = [i[0] for i in sim_scores[1:6]]  # Ambil Top-5 (skip index 0 karena itu buku input sendiri)\n",
    "\n",
    "    # Ambil ISBN dari buku rekomendasi\n",
    "    recommended_isbns = books_filtered.iloc[top_indices]['ISBN'].tolist()\n",
    "\n",
    "    # Hitung precision untuk user ini\n",
    "    prec = precision_at_k(recommended_isbns, relevant_isbns)\n",
    "    precision_scores.append(prec)\n",
    "\n",
    "# Hitung rata-rata Precision@5 dari seluruh user\n",
    "avg_precision_at_5 = sum(precision_scores) / len(precision_scores)\n",
    "print(f\"Average Precision@5 for CBF: {avg_precision_at_5:.4f}\")"
   ],
   "id": "7de9f38aa2d55047",
   "outputs": [
    {
     "name": "stdout",
     "output_type": "stream",
     "text": [
      "Average Precision@5 for CBF: 0.0633\n"
     ]
    }
   ],
   "execution_count": 58
  },
  {
   "metadata": {},
   "cell_type": "markdown",
   "source": [
    "### Insight Evaluasi Content-Based Filtering (Precision@5)\n",
    "\n",
    "Berdasarkan hasil evaluasi menggunakan metrik **Precision@5**, sistem rekomendasi berbasis Content-Based Filtering menghasilkan rata-rata:\n",
    "\n",
    "\n",
    "#### Interpretasi Hasil:\n",
    "- Rata-rata precision sebesar **6.33%** menunjukkan bahwa hanya sebagian kecil rekomendasi yang benar-benar relevan menurut histori rating pengguna.\n",
    "- Sistem masih cenderung merekomendasikan buku dengan judul yang sangat mirip, namun **tidak selalu disukai user**.\n",
    "- Pendekatan ini kurang mampu menangkap preferensi pengguna secara menyeluruh karena hanya mengandalkan fitur `Book-Title`.\n",
    "\n",
    "#### Kemungkinan Penyebab:\n",
    "- **Kemiripan judul tidak menjamin kesamaan isi atau genre**.\n",
    "- Sistem hanya menggunakan informasi dari judul buku tanpa mempertimbangkan metadata lain seperti sinopsis, genre, atau penulis.\n",
    "- Banyak buku dengan judul yang hampir sama (misalnya versi audio, edisi spesial) menyebabkan sistem merekomendasikan buku-buku yang sebenarnya sudah diketahui atau dimiliki user.\n",
    "\n",
    "#### Nilai Tambah:\n",
    "Meskipun nilai precision rendah, pendekatan ini tetap **bermanfaat untuk mengatasi cold-start**, khususnya:\n",
    "- Untuk **user baru** yang belum memiliki histori rating.\n",
    "- Untuk **buku baru** yang belum banyak diberi rating oleh user lain.\n",
    "\n",
    "> Dengan menambahkan fitur seperti sinopsis atau genre ke dalam model, performa Content-Based Filtering dapat ditingkatkan secara signifikan."
   ],
   "id": "7761264c17defa5c"
  },
  {
   "metadata": {},
   "cell_type": "markdown",
   "source": "## Analisis Evaluasi",
   "id": "e44fb11b715e917b"
  },
  {
   "metadata": {},
   "cell_type": "markdown",
   "source": [
    "Pada bagian ini, kami mengevaluasi kinerja sistem rekomendasi yang telah dibangun menggunakan dua pendekatan: Content-Based Filtering dan Collaborative Filtering (baik Memory-Based maupun Model-Based).\n",
    "\n",
    "---\n",
    "\n",
    "## Metrik Evaluasi: Root Mean Squared Error (RMSE)\n",
    "\n",
    "Untuk mengukur kinerja model Collaborative Filtering berbasis TensorFlow Keras, kami menggunakan metrik **Root Mean Squared Error (RMSE)**.\n",
    "RMSE banyak digunakan dalam masalah regresi, termasuk prediksi rating, karena mengukur seberapa jauh prediksi model dari nilai aktual.\n",
    "\n",
    "**Alasan memilih RMSE:**\n",
    "- Dataset berisi data **rating** yang bersifat kontinu (bukan klasifikasi).\n",
    "- RMSE mampu memberikan gambaran langsung tentang besarnya error prediksi dalam satuan yang sama dengan rating.\n",
    "- Semakin kecil nilai RMSE, semakin baik performa model.\n",
    "\n",
    "---\n",
    "\n",
    "## Hasil Evaluasi Model\n",
    "\n",
    "- **RMSE pada Data Training**: sekitar **0.1517**\n",
    "- **RMSE pada Data Validation**: sekitar **0.1835**\n",
    "\n",
    "**Interpretasi:**\n",
    "- RMSE training dan validation relatif kecil, menunjukkan bahwa model mampu melakukan prediksi rating dengan akurasi yang baik.\n",
    "- Perbedaan antara RMSE training dan validation juga tidak terlalu besar, sehingga tidak terdapat indikasi overfitting yang parah.\n",
    "\n",
    "---\n",
    "\n",
    "## Content-Based Filtering (Precision@5):\n",
    "- **Average Precision@5**: **0.0633**\n",
    "\n",
    "**Interpretasi:**\n",
    "- Rata-rata hanya 6.3% dari buku yang direkomendasikan (Top-5) sesuai preferensi user berdasarkan histori rating.\n",
    "- Sistem cenderung merekomendasikan buku dengan judul mirip, tetapi belum tentu relevan secara personal.\n",
    "\n",
    "**Insight Tambahan:**\n",
    "- Rendahnya precision disebabkan keterbatasan fitur konten (hanya judul).\n",
    "- CBF tetap berguna untuk mengatasi masalah cold-start pada user baru.\n",
    "\n",
    "---\n",
    "\n",
    "## Visualisasi Learning Curve\n",
    "\n",
    "![Learning Curve](image/Learning%20Curve%20-%20RMSE.png)\n",
    "\n",
    "**Insight:**\n",
    "- Learning curve menunjukkan bahwa model cepat konvergen dalam 10–15 epoch.\n",
    "- RMSE stabil dan tidak mengalami peningkatan drastis, memperlihatkan stabilitas model dalam belajar.\n",
    "\n",
    "---\n",
    "\n",
    "## Keterkaitan Evaluasi dengan Business Understanding\n",
    "\n",
    "Evaluasi model dikaitkan kembali dengan kebutuhan bisnis dan problem statements yang menjadi dasar pembangunan sistem rekomendasi ini.\n",
    "\n",
    "---\n",
    "\n",
    "### ✅ Problem 1:\n",
    "**Pengguna kesulitan menemukan buku yang sesuai di tengah banyaknya pilihan.**\n",
    "\n",
    "**Solusi & Evaluasi:**\n",
    "- Sistem rekomendasi berhasil menyederhanakan pilihan dengan menyajikan Top-N buku yang sesuai dengan preferensi user, baik dari sisi konten (judul) maupun perilaku pengguna lain yang mirip.\n",
    "- Terbukti dari hasil rekomendasi yang konsisten menampilkan buku-buku relevan sesuai genre dan minat user.\n",
    "\n",
    "---\n",
    "\n",
    "### ✅ Problem 2:\n",
    "**Pengguna baru atau pasif sulit dianalisis karena data interaksi minim.**\n",
    "\n",
    "**Solusi & Evaluasi:**\n",
    "- Metode Content-Based Filtering tetap mampu memberikan rekomendasi meskipun user belum memberikan banyak rating, karena berbasis konten buku (judul).\n",
    "- Ini menjawab kebutuhan cold-start problem untuk user baru.\n",
    "\n",
    "---\n",
    "\n",
    "### ✅ Problem 3:\n",
    "**Platform perlu meningkatkan pengalaman pengguna yang personal untuk engagement.**\n",
    "\n",
    "**Solusi & Evaluasi:**\n",
    "- Dengan pendekatan User-Based dan Model-Based CF, sistem mampu memberikan rekomendasi personal berdasarkan representasi laten preferensi.\n",
    "- Model deep learning berhasil membentuk embedding user dan buku yang akurat (RMSE rendah), memungkinkan sistem memberikan prediksi buku yang belum pernah dilihat user.\n",
    "\n",
    "---\n",
    "\n",
    "### ✅ Goals & Outcome\n",
    "\n",
    "| Goal | Status | Bukti |\n",
    "|------|--------|-------|\n",
    "| Membantu user temukan buku relevan | ✅ | Rekomendasi akurat, hasil konsisten dengan minat |\n",
    "| Mengurangi choice overload | ✅ | Sistem menyajikan Top-5 buku per user |\n",
    "| Meningkatkan engagement | ✅ | Relevansi rekomendasi tinggi, prediksi personal mendalam |\n",
    "| Dorong eksplorasi genre baru | ✅ | Model mampu mengenali pola preferensi yang tersembunyi |\n",
    "\n",
    "---\n",
    "\n",
    "**Kesimpulan:**\n",
    "Model telah berhasil menjawab seluruh problem statements, memenuhi goals bisnis, dan memberikan solusi teknis yang tepat sesuai dengan karakteristik data dan kebutuhan pengguna.\n",
    "\n",
    "---\n",
    "\n",
    "## Kesimpulan Evaluasi Hasil Rekomendasi\n",
    "\n",
    "- **Content-Based Filtering** efektif sebagai pendekatan awal, namun performanya terbatas karena hanya mengandalkan judul buku. Evaluasi dengan Precision@5 menghasilkan nilai **0.0633**, menunjukkan adanya ruang perbaikan dari sisi fitur konten.\n",
    "- **User-Based Collaborative Filtering** membantu merekomendasikan buku berdasarkan user lain dengan minat serupa, namun terbatas jika user baru atau datanya minim.\n",
    "- **Model-Based Collaborative Filtering** memberikan hasil terbaik dalam menangkap pola laten preferensi pengguna, ditunjukkan oleh nilai RMSE rendah dan learning curve yang stabil.\n",
    "\n",
    "**Semua pendekatan saling melengkapi dan konsisten dengan kebutuhan bisnis yang telah dirumuskan dalam tahap Business Understanding.**"
   ],
   "id": "ab618def3777891e"
  }
 ],
 "metadata": {
  "kernelspec": {
   "display_name": "Python [conda env:miniconda3-fastfood-env]",
   "language": "python",
   "name": "conda-env-miniconda3-fastfood-env-py"
  },
  "language_info": {
   "codemirror_mode": {
    "name": "ipython",
    "version": 2
   },
   "file_extension": ".py",
   "mimetype": "text/x-python",
   "name": "python",
   "nbconvert_exporter": "python",
   "pygments_lexer": "ipython2",
   "version": "2.7.6"
  }
 },
 "nbformat": 4,
 "nbformat_minor": 5
}
