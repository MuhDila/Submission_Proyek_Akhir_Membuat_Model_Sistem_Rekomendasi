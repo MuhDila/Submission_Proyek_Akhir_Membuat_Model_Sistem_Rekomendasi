{
 "cells": [
  {
   "metadata": {},
   "cell_type": "markdown",
   "source": [
    "# Proyek Akhir : Membuat Model Sistem Rekomendasi\n",
    "- **Nama:** Muhammad Dila\n",
    "- **Email:** muhammaddila.all@gmail.com\n",
    "- **ID Dicoding:** muhdila"
   ],
   "id": "8a77807f92f26ee"
  },
  {
   "metadata": {},
   "cell_type": "markdown",
   "source": "# Project Overview",
   "id": "ccb6d3b6644cdad5"
  },
  {
   "metadata": {},
   "cell_type": "markdown",
   "source": [
    "Membaca buku adalah aktivitas penting yang berkontribusi pada pengembangan pengetahuan, keterampilan berpikir kritis, dan kesehatan mental. Namun, di era digital saat ini, pembaca dihadapkan pada jutaan pilihan buku baik di platform online maupun offline. Akibatnya, banyak pengguna mengalami \"choice overload\", yaitu kesulitan memilih buku yang sesuai dengan minat mereka.\n",
    "\n",
    "Dengan menggunakan pendekatan machine learning, kita dapat membangun sistem rekomendasi yang menyarankan buku berdasarkan interaksi pengguna terdahulu, seperti rating atau review yang pernah diberikan.\n",
    "\n",
    "**Mengapa masalah ini penting untuk diselesaikan?**\n",
    "- Minat baca global terus mengalami penurunan, terutama di kalangan muda, sebagaimana disebutkan dalam studi oleh Alharthi et al. (2018).\n",
    "- Sistem rekomendasi dapat meningkatkan engagement pengguna dengan menawarkan buku-buku yang lebih relevan dengan preferensi mereka.\n",
    "- Membantu penerbit dan penulis dalam meningkatkan keterjangkauan buku mereka kepada target pembaca yang tepat.\n",
    "\n",
    "**Bagaimana cara menyelesaikannya?**\n",
    "- Dengan membangun sistem rekomendasi berbasis Collaborative Filtering dan Content-based Filtering menggunakan data interaksi pengguna-buku.\n",
    "- Pendekatan tambahan Content-Based Filtering juga dapat digunakan untuk memperkuat hasil rekomendasi dengan mempertimbangkan genre atau kategori buku.\n",
    "- Dataset yang digunakan adalah [Book Recommendation Dataset dari Kaggle](https://www.kaggle.com/datasets/arashnic/book-recommendation-dataset).\n",
    "\n",
    "**Referensi:**\n",
    "- A Survey of Book Recommender Systems, [Alharthi et al., 2018](https://link.springer.com/article/10.1007/s10844-017-0489-9)"
   ],
   "id": "1ab721bab5cb747f"
  },
  {
   "metadata": {},
   "cell_type": "markdown",
   "source": "# Business Understanding",
   "id": "9e953c9ca759c8e"
  },
  {
   "metadata": {},
   "cell_type": "markdown",
   "source": [
    "Pada bagian ini, kami akan menjelaskan proses klarifikasi masalah yang menjadi dasar dalam membangun sistem rekomendasi buku berbasis machine learning yang dimana mencakup:\n",
    "\n",
    "## Problem Statements\n",
    "\n",
    "- Pembaca kesulitan menemukan buku yang sesuai dengan preferensi pribadi mereka karena banyaknya pilihan yang tersedia, menyebabkan fenomena \"choice overload\".\n",
    "- Terjadi penurunan minat baca secara global, terutama di kalangan generasi muda, meskipun akses terhadap literatur semakin luas.\n",
    "- Platform buku online dan penerbit membutuhkan cara untuk meningkatkan keterlibatan pengguna dan memperkenalkan buku-buku baru secara lebih efektif kepada audiens yang tepat.\n",
    "\n",
    "## Goals\n",
    "\n",
    "- Membantu pengguna menemukan buku yang relevan dengan minat mereka melalui sistem rekomendasi berbasis data interaksi pengguna.\n",
    "- Meningkatkan tingkat engagement pengguna terhadap platform buku online dengan menawarkan rekomendasi yang dipersonalisasi.\n",
    "- Memberikan nilai tambah bagi penerbit dan penulis dengan memperluas jangkauan buku mereka ke target pembaca yang lebih spesifik.\n",
    "- Mendukung peningkatan budaya literasi dengan membuat proses menemukan buku menjadi lebih mudah dan menarik.\n",
    "\n",
    "## Solution Statements\n",
    "\n",
    "- **Collaborative Filtering**\n",
    "  Menggunakan pola kesamaan preferensi antar pengguna berdasarkan rating atau ulasan untuk merekomendasikan buku yang kemungkinan besar akan disukai pengguna lain.\n",
    "  *Kelebihan:* Tidak memerlukan informasi eksplisit tentang buku. Efektif untuk dataset besar.\n",
    "  *Kekurangan:* Menghadapi masalah cold-start pada pengguna atau buku baru.\n",
    "\n",
    "- **Content-Based Filtering**\n",
    "  Menggunakan fitur atau atribut buku (seperti genre, kategori, deskripsi) untuk merekomendasikan buku yang mirip dengan yang pernah disukai oleh pengguna.\n",
    "  *Kelebihan:* Mampu memberikan rekomendasi meski data rating sedikit.\n",
    "  *Kekurangan:* Rekomendasi bisa kurang variatif karena hanya berdasarkan konten serupa."
   ],
   "id": "975eb6c93dbf3a8e"
  },
  {
   "metadata": {},
   "cell_type": "markdown",
   "source": "# Data Understanding",
   "id": "ac7d466b08b20eaf"
  },
  {
   "metadata": {
    "ExecuteTime": {
     "end_time": "2025-04-26T17:21:40.791102Z",
     "start_time": "2025-04-26T17:21:33.586290Z"
    }
   },
   "cell_type": "code",
   "source": [
    "# Import library os\n",
    "import os\n",
    "\n",
    "# Cek apakah file kaggle.json tersedia\n",
    "assert os.path.exists(os.path.expanduser('~/.kaggle/kaggle.json')), \"File kaggle.json belum tersedia. Silakan cek di folder ~/.kaggle/.\"\n",
    "\n",
    "# Proses download dataset menggunakan Kaggle API\n",
    "os.system('kaggle datasets download -d arashnic/book-recommendation-dataset')\n",
    "\n",
    "print(\"Download selesai\")"
   ],
   "id": "fbc121e30a2defb3",
   "outputs": [
    {
     "name": "stdout",
     "output_type": "stream",
     "text": [
      "Download selesai\n"
     ]
    }
   ],
   "execution_count": 9
  },
  {
   "metadata": {},
   "cell_type": "markdown",
   "source": [
    "#### Download Dataset\n",
    "\n",
    "Pada tahap ini, sistem akan melakukan proses pengunduhan dataset secara otomatis dari Kaggle.\n",
    "Dataset yang digunakan adalah [Book Recommendation Dataset - Kaggle](https://www.kaggle.com/datasets/arashnic/book-recommendation-dataset).\n",
    "Pastikan file `kaggle.json` telah disiapkan di direktori `~/.kaggle/` agar proses download dapat berjalan dengan lancar."
   ],
   "id": "a016f32b6e9d6fd4"
  },
  {
   "metadata": {
    "ExecuteTime": {
     "end_time": "2025-04-26T17:21:41.229716Z",
     "start_time": "2025-04-26T17:21:40.839605Z"
    }
   },
   "cell_type": "code",
   "source": [
    "# Import library zipfile\n",
    "import zipfile\n",
    "\n",
    "# Mengekstrak file ZIP ke folder BookRecommendation\n",
    "with zipfile.ZipFile('book-recommendation-dataset.zip', 'r') as zip_ref:\n",
    "    zip_ref.extractall('BookRecommendation')\n",
    "\n",
    "print(\"Extract selesai bro!\")"
   ],
   "id": "e67922326963d633",
   "outputs": [
    {
     "name": "stdout",
     "output_type": "stream",
     "text": [
      "Extract selesai bro!\n"
     ]
    }
   ],
   "execution_count": 10
  },
  {
   "metadata": {},
   "cell_type": "markdown",
   "source": [
    "#### Extract Dataset\n",
    "\n",
    "Setelah file dataset berhasil diunduh, tahap berikutnya adalah mengekstrak file `book-recommendation-dataset.zip`\n",
    "ke dalam folder `BookRecommendation/`.\n",
    "Ekstraksi ini bertujuan untuk memperoleh file CSV yang akan digunakan dalam tahap selanjutnya."
   ],
   "id": "9a7b1f94fb05355b"
  },
  {
   "metadata": {
    "ExecuteTime": {
     "end_time": "2025-04-26T17:21:43.441082Z",
     "start_time": "2025-04-26T17:21:41.262667Z"
    }
   },
   "cell_type": "code",
   "source": [
    "# Load dataset menggunakan pandas\n",
    "import pandas as pd\n",
    "\n",
    "books = pd.read_csv('BookRecommendation/Books.csv', low_memory=False)\n",
    "users = pd.read_csv('BookRecommendation/Users.csv')\n",
    "ratings = pd.read_csv('BookRecommendation/Ratings.csv')\n",
    "\n",
    "print(\"Dataset berhasil dimuat!\")"
   ],
   "id": "7360f94ebc965bbb",
   "outputs": [
    {
     "name": "stdout",
     "output_type": "stream",
     "text": [
      "Dataset berhasil dimuat!\n"
     ]
    }
   ],
   "execution_count": 11
  },
  {
   "metadata": {},
   "cell_type": "markdown",
   "source": [
    "#### Load Dataset\n",
    "\n",
    "Pada tahap ini, dataset yang sudah diekstrak akan dibaca ke dalam struktur DataFrame menggunakan library `pandas`.\n",
    "Dataset terdiri dari tiga file utama: `Books.csv`, `Users.csv`, dan `Ratings.csv`.\n"
   ],
   "id": "e579461f456b5d97"
  },
  {
   "metadata": {
    "ExecuteTime": {
     "end_time": "2025-04-26T17:21:43.487348Z",
     "start_time": "2025-04-26T17:21:43.474208Z"
    }
   },
   "cell_type": "code",
   "source": [
    "# Menampilkan jumlah baris dan kolom dari setiap dataset\n",
    "print(f\"Jumlah data Books: {books.shape}\")\n",
    "print(f\"Jumlah data Users: {users.shape}\")\n",
    "print(f\"Jumlah data Ratings: {ratings.shape}\")"
   ],
   "id": "ffa3eb1700ff5046",
   "outputs": [
    {
     "name": "stdout",
     "output_type": "stream",
     "text": [
      "Jumlah data Books: (271360, 8)\n",
      "Jumlah data Users: (278858, 3)\n",
      "Jumlah data Ratings: (1149780, 3)\n"
     ]
    }
   ],
   "execution_count": 12
  },
  {
   "metadata": {},
   "cell_type": "markdown",
   "source": [
    "#### Informasi Umum Dataset\n",
    "\n",
    "Tahap ini bertujuan untuk memahami jumlah data dan kondisi awal dataset.\n",
    "Kami menampilkan jumlah baris dan kolom dari setiap file dataset menggunakan fungsi `.shape`.\n",
    "\n",
    "Berikut adalah hasil jumlah data dari masing-masing dataset:\n",
    "- **Books.csv**: 271.360 baris, 8 kolom\n",
    "- **Users.csv**: 278.858 baris, 3 kolom\n",
    "- **Ratings.csv**: 1.149.780 baris, 3 kolom"
   ],
   "id": "1663df85588f8150"
  },
  {
   "metadata": {},
   "cell_type": "markdown",
   "source": "### Data Books",
   "id": "23536c39b643e4c"
  },
  {
   "metadata": {
    "ExecuteTime": {
     "end_time": "2025-04-26T17:55:32.676895Z",
     "start_time": "2025-04-26T17:55:32.405519Z"
    }
   },
   "cell_type": "code",
   "source": [
    "# Menampilkan struktur data Books\n",
    "books.info()"
   ],
   "id": "90b4fa6abaf78cd3",
   "outputs": [
    {
     "name": "stdout",
     "output_type": "stream",
     "text": [
      "<class 'pandas.core.frame.DataFrame'>\n",
      "RangeIndex: 271360 entries, 0 to 271359\n",
      "Data columns (total 8 columns):\n",
      " #   Column               Non-Null Count   Dtype \n",
      "---  ------               --------------   ----- \n",
      " 0   ISBN                 271360 non-null  object\n",
      " 1   Book-Title           271360 non-null  object\n",
      " 2   Book-Author          271358 non-null  object\n",
      " 3   Year-Of-Publication  271360 non-null  object\n",
      " 4   Publisher            271358 non-null  object\n",
      " 5   Image-URL-S          271360 non-null  object\n",
      " 6   Image-URL-M          271360 non-null  object\n",
      " 7   Image-URL-L          271357 non-null  object\n",
      "dtypes: object(8)\n",
      "memory usage: 16.6+ MB\n",
      "Jumlah ISBN unik: 340556\n"
     ]
    }
   ],
   "execution_count": 30
  },
  {
   "metadata": {},
   "cell_type": "markdown",
   "source": [
    "#### Struktur Data Books\n",
    "\n",
    "Pada tahap ini, kami menampilkan struktur data dari dataset Books menggunakan fungsi `.info()`.\n",
    "Dataset Books memiliki 271.360 entri dan 8 kolom. Semua kolom bertipe data object (string).\n",
    "\n",
    "Berikut detail jumlah non-null untuk setiap kolom:\n",
    "- `ISBN`: 271.360 non-null\n",
    "- `Book-Title`: 271.360 non-null\n",
    "- `Book-Author`: 271.358 non-null\n",
    "- `Year-Of-Publication`: 271.360 non-null\n",
    "- `Publisher`: 271.358 non-null\n",
    "- `Image-URL-S`: 271.360 non-null\n",
    "- `Image-URL-M`: 271.360 non-null\n",
    "- `Image-URL-L`: 271.357 non-null\n",
    "\n",
    "Terdapat beberapa kolom dengan missing value, yaitu pada kolom `Book-Author`, `Publisher`, dan `Image-URL-L`.\n",
    "Hal ini perlu diperhatikan pada tahap pembersihan data selanjutnya."
   ],
   "id": "7c6d2d415a8fe4cc"
  },
  {
   "metadata": {
    "ExecuteTime": {
     "end_time": "2025-04-26T17:31:02.181130Z",
     "start_time": "2025-04-26T17:31:02.152560Z"
    }
   },
   "cell_type": "code",
   "source": [
    "# Melihat 5 baris pertama dari dataset Books\n",
    "books.head()"
   ],
   "id": "3e541d331aabd400",
   "outputs": [
    {
     "data": {
      "text/plain": [
       "         ISBN                                         Book-Title  \\\n",
       "0  0195153448                                Classical Mythology   \n",
       "1  0002005018                                       Clara Callan   \n",
       "2  0060973129                               Decision in Normandy   \n",
       "3  0374157065  Flu: The Story of the Great Influenza Pandemic...   \n",
       "4  0393045218                             The Mummies of Urumchi   \n",
       "\n",
       "            Book-Author Year-Of-Publication                   Publisher  \\\n",
       "0    Mark P. O. Morford                2002     Oxford University Press   \n",
       "1  Richard Bruce Wright                2001       HarperFlamingo Canada   \n",
       "2          Carlo D'Este                1991             HarperPerennial   \n",
       "3      Gina Bari Kolata                1999        Farrar Straus Giroux   \n",
       "4       E. J. W. Barber                1999  W. W. Norton &amp; Company   \n",
       "\n",
       "                                         Image-URL-S  \\\n",
       "0  http://images.amazon.com/images/P/0195153448.0...   \n",
       "1  http://images.amazon.com/images/P/0002005018.0...   \n",
       "2  http://images.amazon.com/images/P/0060973129.0...   \n",
       "3  http://images.amazon.com/images/P/0374157065.0...   \n",
       "4  http://images.amazon.com/images/P/0393045218.0...   \n",
       "\n",
       "                                         Image-URL-M  \\\n",
       "0  http://images.amazon.com/images/P/0195153448.0...   \n",
       "1  http://images.amazon.com/images/P/0002005018.0...   \n",
       "2  http://images.amazon.com/images/P/0060973129.0...   \n",
       "3  http://images.amazon.com/images/P/0374157065.0...   \n",
       "4  http://images.amazon.com/images/P/0393045218.0...   \n",
       "\n",
       "                                         Image-URL-L  \n",
       "0  http://images.amazon.com/images/P/0195153448.0...  \n",
       "1  http://images.amazon.com/images/P/0002005018.0...  \n",
       "2  http://images.amazon.com/images/P/0060973129.0...  \n",
       "3  http://images.amazon.com/images/P/0374157065.0...  \n",
       "4  http://images.amazon.com/images/P/0393045218.0...  "
      ],
      "text/html": [
       "<div>\n",
       "<style scoped>\n",
       "    .dataframe tbody tr th:only-of-type {\n",
       "        vertical-align: middle;\n",
       "    }\n",
       "\n",
       "    .dataframe tbody tr th {\n",
       "        vertical-align: top;\n",
       "    }\n",
       "\n",
       "    .dataframe thead th {\n",
       "        text-align: right;\n",
       "    }\n",
       "</style>\n",
       "<table border=\"1\" class=\"dataframe\">\n",
       "  <thead>\n",
       "    <tr style=\"text-align: right;\">\n",
       "      <th></th>\n",
       "      <th>ISBN</th>\n",
       "      <th>Book-Title</th>\n",
       "      <th>Book-Author</th>\n",
       "      <th>Year-Of-Publication</th>\n",
       "      <th>Publisher</th>\n",
       "      <th>Image-URL-S</th>\n",
       "      <th>Image-URL-M</th>\n",
       "      <th>Image-URL-L</th>\n",
       "    </tr>\n",
       "  </thead>\n",
       "  <tbody>\n",
       "    <tr>\n",
       "      <th>0</th>\n",
       "      <td>0195153448</td>\n",
       "      <td>Classical Mythology</td>\n",
       "      <td>Mark P. O. Morford</td>\n",
       "      <td>2002</td>\n",
       "      <td>Oxford University Press</td>\n",
       "      <td>http://images.amazon.com/images/P/0195153448.0...</td>\n",
       "      <td>http://images.amazon.com/images/P/0195153448.0...</td>\n",
       "      <td>http://images.amazon.com/images/P/0195153448.0...</td>\n",
       "    </tr>\n",
       "    <tr>\n",
       "      <th>1</th>\n",
       "      <td>0002005018</td>\n",
       "      <td>Clara Callan</td>\n",
       "      <td>Richard Bruce Wright</td>\n",
       "      <td>2001</td>\n",
       "      <td>HarperFlamingo Canada</td>\n",
       "      <td>http://images.amazon.com/images/P/0002005018.0...</td>\n",
       "      <td>http://images.amazon.com/images/P/0002005018.0...</td>\n",
       "      <td>http://images.amazon.com/images/P/0002005018.0...</td>\n",
       "    </tr>\n",
       "    <tr>\n",
       "      <th>2</th>\n",
       "      <td>0060973129</td>\n",
       "      <td>Decision in Normandy</td>\n",
       "      <td>Carlo D'Este</td>\n",
       "      <td>1991</td>\n",
       "      <td>HarperPerennial</td>\n",
       "      <td>http://images.amazon.com/images/P/0060973129.0...</td>\n",
       "      <td>http://images.amazon.com/images/P/0060973129.0...</td>\n",
       "      <td>http://images.amazon.com/images/P/0060973129.0...</td>\n",
       "    </tr>\n",
       "    <tr>\n",
       "      <th>3</th>\n",
       "      <td>0374157065</td>\n",
       "      <td>Flu: The Story of the Great Influenza Pandemic...</td>\n",
       "      <td>Gina Bari Kolata</td>\n",
       "      <td>1999</td>\n",
       "      <td>Farrar Straus Giroux</td>\n",
       "      <td>http://images.amazon.com/images/P/0374157065.0...</td>\n",
       "      <td>http://images.amazon.com/images/P/0374157065.0...</td>\n",
       "      <td>http://images.amazon.com/images/P/0374157065.0...</td>\n",
       "    </tr>\n",
       "    <tr>\n",
       "      <th>4</th>\n",
       "      <td>0393045218</td>\n",
       "      <td>The Mummies of Urumchi</td>\n",
       "      <td>E. J. W. Barber</td>\n",
       "      <td>1999</td>\n",
       "      <td>W. W. Norton &amp;amp; Company</td>\n",
       "      <td>http://images.amazon.com/images/P/0393045218.0...</td>\n",
       "      <td>http://images.amazon.com/images/P/0393045218.0...</td>\n",
       "      <td>http://images.amazon.com/images/P/0393045218.0...</td>\n",
       "    </tr>\n",
       "  </tbody>\n",
       "</table>\n",
       "</div>"
      ]
     },
     "execution_count": 16,
     "metadata": {},
     "output_type": "execute_result"
    }
   ],
   "execution_count": 16
  },
  {
   "metadata": {},
   "cell_type": "markdown",
   "source": [
    "#### Sampel Data Books\n",
    "\n",
    "Pada tahap ini, kami menampilkan lima baris pertama dari dataset Books menggunakan fungsi `.head()`.\n",
    "Tujuannya adalah untuk memahami struktur data dan tipe informasi yang tersedia di dalam dataset.\n",
    "\n",
    "Contoh data dari lima buku pertama adalah sebagai berikut:\n",
    "- Buku pertama berjudul **\"Classical Mythology\"** karya **Mark P. O. Morford**, diterbitkan pada tahun **2002** oleh **Oxford University Press**.\n",
    "- Buku kedua berjudul **\"Clara Callan\"** karya **Richard Bruce Wright**, diterbitkan pada tahun **2001** oleh **HarperFlamingo Canada**.\n",
    "- Buku ketiga berjudul **\"Decision in Normandy\"** karya **Carlo D'Este**, diterbitkan pada tahun **1991** oleh **HarperPerennial**.\n",
    "- Buku keempat berjudul **\"Flu: The Story of the Great Influenza Pandemic of 1918 and the Search for the Virus That Caused It\"** karya **Gina Bari Kolata**, diterbitkan pada tahun **1999** oleh **Farrar Straus Giroux**.\n",
    "- Buku kelima berjudul **\"The Mummies of Urumchi\"** karya **E. J. W. Barber**, diterbitkan pada tahun **1999** oleh **W. W. Norton & Company**.\n",
    "\n",
    "Selain informasi mengenai ISBN, judul, penulis, dan penerbit, dataset ini juga menyediakan URL gambar sampul buku dalam tiga ukuran (kecil, sedang, besar)."
   ],
   "id": "a69807753216d5a5"
  },
  {
   "metadata": {
    "ExecuteTime": {
     "end_time": "2025-04-26T17:31:05.617179Z",
     "start_time": "2025-04-26T17:31:04.624396Z"
    }
   },
   "cell_type": "code",
   "source": [
    "# Menampilkan statistik ringkasan untuk Books\n",
    "books.describe(include='all')"
   ],
   "id": "9923b06d968c2d4a",
   "outputs": [
    {
     "data": {
      "text/plain": [
       "              ISBN      Book-Title      Book-Author Year-Of-Publication  \\\n",
       "count       271360          271360           271358              271360   \n",
       "unique      271360          242135           102022                 118   \n",
       "top     0195153448  Selected Poems  Agatha Christie                2002   \n",
       "freq             1              27              632               17627   \n",
       "\n",
       "        Publisher                                        Image-URL-S  \\\n",
       "count      271358                                             271360   \n",
       "unique      16807                                             271044   \n",
       "top     Harlequin  http://images.amazon.com/images/P/185326119X.0...   \n",
       "freq         7535                                                  2   \n",
       "\n",
       "                                              Image-URL-M  \\\n",
       "count                                              271360   \n",
       "unique                                             271044   \n",
       "top     http://images.amazon.com/images/P/185326119X.0...   \n",
       "freq                                                    2   \n",
       "\n",
       "                                              Image-URL-L  \n",
       "count                                              271357  \n",
       "unique                                             271041  \n",
       "top     http://images.amazon.com/images/P/225307649X.0...  \n",
       "freq                                                    2  "
      ],
      "text/html": [
       "<div>\n",
       "<style scoped>\n",
       "    .dataframe tbody tr th:only-of-type {\n",
       "        vertical-align: middle;\n",
       "    }\n",
       "\n",
       "    .dataframe tbody tr th {\n",
       "        vertical-align: top;\n",
       "    }\n",
       "\n",
       "    .dataframe thead th {\n",
       "        text-align: right;\n",
       "    }\n",
       "</style>\n",
       "<table border=\"1\" class=\"dataframe\">\n",
       "  <thead>\n",
       "    <tr style=\"text-align: right;\">\n",
       "      <th></th>\n",
       "      <th>ISBN</th>\n",
       "      <th>Book-Title</th>\n",
       "      <th>Book-Author</th>\n",
       "      <th>Year-Of-Publication</th>\n",
       "      <th>Publisher</th>\n",
       "      <th>Image-URL-S</th>\n",
       "      <th>Image-URL-M</th>\n",
       "      <th>Image-URL-L</th>\n",
       "    </tr>\n",
       "  </thead>\n",
       "  <tbody>\n",
       "    <tr>\n",
       "      <th>count</th>\n",
       "      <td>271360</td>\n",
       "      <td>271360</td>\n",
       "      <td>271358</td>\n",
       "      <td>271360</td>\n",
       "      <td>271358</td>\n",
       "      <td>271360</td>\n",
       "      <td>271360</td>\n",
       "      <td>271357</td>\n",
       "    </tr>\n",
       "    <tr>\n",
       "      <th>unique</th>\n",
       "      <td>271360</td>\n",
       "      <td>242135</td>\n",
       "      <td>102022</td>\n",
       "      <td>118</td>\n",
       "      <td>16807</td>\n",
       "      <td>271044</td>\n",
       "      <td>271044</td>\n",
       "      <td>271041</td>\n",
       "    </tr>\n",
       "    <tr>\n",
       "      <th>top</th>\n",
       "      <td>0195153448</td>\n",
       "      <td>Selected Poems</td>\n",
       "      <td>Agatha Christie</td>\n",
       "      <td>2002</td>\n",
       "      <td>Harlequin</td>\n",
       "      <td>http://images.amazon.com/images/P/185326119X.0...</td>\n",
       "      <td>http://images.amazon.com/images/P/185326119X.0...</td>\n",
       "      <td>http://images.amazon.com/images/P/225307649X.0...</td>\n",
       "    </tr>\n",
       "    <tr>\n",
       "      <th>freq</th>\n",
       "      <td>1</td>\n",
       "      <td>27</td>\n",
       "      <td>632</td>\n",
       "      <td>17627</td>\n",
       "      <td>7535</td>\n",
       "      <td>2</td>\n",
       "      <td>2</td>\n",
       "      <td>2</td>\n",
       "    </tr>\n",
       "  </tbody>\n",
       "</table>\n",
       "</div>"
      ]
     },
     "execution_count": 17,
     "metadata": {},
     "output_type": "execute_result"
    }
   ],
   "execution_count": 17
  },
  {
   "metadata": {},
   "cell_type": "markdown",
   "source": [
    "#### Statistik Ringkasan Books\n",
    "\n",
    "Pada tahap ini, kami menggunakan fungsi `.describe(include='all')` untuk melihat ringkasan statistik dari dataset Books.\n",
    "Ringkasan statistik ini membantu memahami karakteristik umum data, seperti jumlah entri, nilai unik, nilai paling sering muncul (top), dan frekuensi kemunculannya (freq).\n",
    "\n",
    "Berikut beberapa insight dari hasil statistik:\n",
    "- Terdapat **271.360** data ISBN yang unik, menunjukkan setiap buku memiliki ISBN berbeda.\n",
    "- Terdapat **242.135** judul buku yang unik. Ada beberapa judul yang sama muncul lebih dari sekali (contoh: **\"Selected Poems\"** muncul sebanyak **27 kali**).\n",
    "- Penulis paling populer dalam dataset adalah **Agatha Christie**, dengan **632** buku tercatat.\n",
    "- Tahun publikasi paling sering adalah **2002**, dengan **17.627** buku diterbitkan pada tahun tersebut.\n",
    "- Penerbit dengan jumlah buku terbanyak adalah **Harlequin**, sebanyak **7.535** buku.\n",
    "- Untuk gambar cover (`Image-URL`), sebagian besar URL unik, namun ada URL yang dipakai lebih dari sekali.\n",
    "\n",
    "Informasi ini penting untuk memahami distribusi data dan pola-pola umum sebelum melakukan tahap data preparation lebih lanjut."
   ],
   "id": "cbb2f17a4c8e1937"
  },
  {
   "metadata": {
    "ExecuteTime": {
     "end_time": "2025-04-26T17:31:08.315962Z",
     "start_time": "2025-04-26T17:31:08.239850Z"
    }
   },
   "cell_type": "code",
   "source": [
    "# Mengecek jumlah missing value pada setiap kolom di Books\n",
    "books.isnull().sum()"
   ],
   "id": "4d5e229af8276385",
   "outputs": [
    {
     "data": {
      "text/plain": [
       "ISBN                   0\n",
       "Book-Title             0\n",
       "Book-Author            2\n",
       "Year-Of-Publication    0\n",
       "Publisher              2\n",
       "Image-URL-S            0\n",
       "Image-URL-M            0\n",
       "Image-URL-L            3\n",
       "dtype: int64"
      ]
     },
     "execution_count": 18,
     "metadata": {},
     "output_type": "execute_result"
    }
   ],
   "execution_count": 18
  },
  {
   "metadata": {},
   "cell_type": "markdown",
   "source": [
    "#### Missing Value Books\n",
    "\n",
    "Pada tahap ini, kami memeriksa jumlah missing value di setiap kolom pada dataset Books menggunakan fungsi `.isnull().sum()`.\n",
    "Pemeriksaan ini penting untuk mengidentifikasi kolom-kolom yang memerlukan penanganan khusus pada tahap data preparation.\n",
    "\n",
    "Hasil pemeriksaan menunjukkan:\n",
    "- Kolom `Book-Author` memiliki **2** missing value.\n",
    "- Kolom `Publisher` memiliki **2** missing value.\n",
    "- Kolom `Image-URL-L` memiliki **3** missing value.\n",
    "- Kolom lainnya (`ISBN`, `Book-Title`, `Year-Of-Publication`, `Image-URL-S`, `Image-URL-M`) tidak memiliki missing value.\n",
    "\n",
    "Dengan demikian, pada tahap selanjutnya, diperlukan strategi penanganan terhadap missing value, khususnya pada kolom `Book-Author`, `Publisher`, dan `Image-URL-L`."
   ],
   "id": "4c1f11fc1a26b264"
  },
  {
   "metadata": {
    "ExecuteTime": {
     "end_time": "2025-04-26T17:56:04.870198Z",
     "start_time": "2025-04-26T17:56:04.655437Z"
    }
   },
   "cell_type": "code",
   "source": [
    "# Cek jumlah buku unik\n",
    "print('Jumlah ISBN unik:', ratings['ISBN'].nunique())"
   ],
   "id": "b7589bad2ad6a942",
   "outputs": [
    {
     "name": "stdout",
     "output_type": "stream",
     "text": [
      "Jumlah ISBN unik: 340556\n"
     ]
    }
   ],
   "execution_count": 31
  },
  {
   "metadata": {},
   "cell_type": "markdown",
   "source": [
    "#### Jumlah ISBN Unik\n",
    "\n",
    "Pada tahap ini, kami menghitung jumlah buku unik dalam dataset Ratings menggunakan fungsi `.nunique()` pada kolom `ISBN`.\n",
    "\n",
    "Hasilnya, terdapat sebanyak **340.556 buku unik** dalam dataset.\n",
    "Jumlah ini menunjukkan keberagaman koleksi buku yang pernah dirating oleh pengguna."
   ],
   "id": "a07c9191db817970"
  },
  {
   "metadata": {
    "ExecuteTime": {
     "end_time": "2025-04-26T18:29:22.123018Z",
     "start_time": "2025-04-26T18:29:21.559331Z"
    }
   },
   "cell_type": "code",
   "source": [
    "# Cek jumlah duplikat di Books\n",
    "print('Jumlah duplikat di Books:', books.duplicated().sum())"
   ],
   "id": "e805ab4c84c2055b",
   "outputs": [
    {
     "name": "stdout",
     "output_type": "stream",
     "text": [
      "Jumlah duplikat di Books: 0\n"
     ]
    }
   ],
   "execution_count": 49
  },
  {
   "metadata": {},
   "cell_type": "markdown",
   "source": [
    "#### Cek Duplikat di Dataset Books\n",
    "\n",
    "Pada tahap ini, kami memeriksa apakah terdapat data duplikat dalam dataset Books.\n",
    "Duplikat data dapat menyebabkan bias dalam analisis sehingga penting untuk mengidentifikasinya sejak awal.\n",
    "\n",
    "**Hasil pemeriksaan:**\n",
    "Tidak ditemukan data duplikat pada dataset Books (`Jumlah duplikat = 0`)."
   ],
   "id": "99b83ee8c72ae265"
  },
  {
   "metadata": {},
   "cell_type": "markdown",
   "source": "### Data Rating",
   "id": "1fc7b85686952f19"
  },
  {
   "metadata": {
    "ExecuteTime": {
     "end_time": "2025-04-26T17:57:09.953114Z",
     "start_time": "2025-04-26T17:57:09.893447Z"
    }
   },
   "cell_type": "code",
   "source": [
    "# Menampilkan struktur data Ratings\n",
    "ratings.info()"
   ],
   "id": "d486383d1a2bf931",
   "outputs": [
    {
     "name": "stdout",
     "output_type": "stream",
     "text": [
      "<class 'pandas.core.frame.DataFrame'>\n",
      "RangeIndex: 1149780 entries, 0 to 1149779\n",
      "Data columns (total 3 columns):\n",
      " #   Column       Non-Null Count    Dtype \n",
      "---  ------       --------------    ----- \n",
      " 0   User-ID      1149780 non-null  int64 \n",
      " 1   ISBN         1149780 non-null  object\n",
      " 2   Book-Rating  1149780 non-null  int64 \n",
      "dtypes: int64(2), object(1)\n",
      "memory usage: 26.3+ MB\n",
      "Jumlah data rating: 1149780\n"
     ]
    }
   ],
   "execution_count": 33
  },
  {
   "metadata": {},
   "cell_type": "markdown",
   "source": [
    "#### Struktur Data Ratings\n",
    "\n",
    "Pada tahap ini, kami menampilkan struktur data dari dataset Ratings menggunakan fungsi `.info()`.\n",
    "Dataset Ratings memiliki sebanyak **1.149.780 entri** dengan **3 kolom**: `User-ID`, `ISBN`, dan `Book-Rating`.\n",
    "\n",
    "Detail tipe data:\n",
    "- `User-ID`: integer\n",
    "- `ISBN`: object (string)\n",
    "- `Book-Rating`: integer\n",
    "\n",
    "Semua kolom tidak memiliki missing value berdasarkan jumlah non-null yang sama dengan jumlah total entri."
   ],
   "id": "572877c4798816da"
  },
  {
   "metadata": {
    "ExecuteTime": {
     "end_time": "2025-04-26T17:38:41.254683Z",
     "start_time": "2025-04-26T17:38:41.240138Z"
    }
   },
   "cell_type": "code",
   "source": [
    "# Menampilkan 5 baris pertama dari dataset Ratings\n",
    "ratings.head()"
   ],
   "id": "7d2b79f8239ed356",
   "outputs": [
    {
     "data": {
      "text/plain": [
       "   User-ID        ISBN  Book-Rating\n",
       "0   276725  034545104X            0\n",
       "1   276726  0155061224            5\n",
       "2   276727  0446520802            0\n",
       "3   276729  052165615X            3\n",
       "4   276729  0521795028            6"
      ],
      "text/html": [
       "<div>\n",
       "<style scoped>\n",
       "    .dataframe tbody tr th:only-of-type {\n",
       "        vertical-align: middle;\n",
       "    }\n",
       "\n",
       "    .dataframe tbody tr th {\n",
       "        vertical-align: top;\n",
       "    }\n",
       "\n",
       "    .dataframe thead th {\n",
       "        text-align: right;\n",
       "    }\n",
       "</style>\n",
       "<table border=\"1\" class=\"dataframe\">\n",
       "  <thead>\n",
       "    <tr style=\"text-align: right;\">\n",
       "      <th></th>\n",
       "      <th>User-ID</th>\n",
       "      <th>ISBN</th>\n",
       "      <th>Book-Rating</th>\n",
       "    </tr>\n",
       "  </thead>\n",
       "  <tbody>\n",
       "    <tr>\n",
       "      <th>0</th>\n",
       "      <td>276725</td>\n",
       "      <td>034545104X</td>\n",
       "      <td>0</td>\n",
       "    </tr>\n",
       "    <tr>\n",
       "      <th>1</th>\n",
       "      <td>276726</td>\n",
       "      <td>0155061224</td>\n",
       "      <td>5</td>\n",
       "    </tr>\n",
       "    <tr>\n",
       "      <th>2</th>\n",
       "      <td>276727</td>\n",
       "      <td>0446520802</td>\n",
       "      <td>0</td>\n",
       "    </tr>\n",
       "    <tr>\n",
       "      <th>3</th>\n",
       "      <td>276729</td>\n",
       "      <td>052165615X</td>\n",
       "      <td>3</td>\n",
       "    </tr>\n",
       "    <tr>\n",
       "      <th>4</th>\n",
       "      <td>276729</td>\n",
       "      <td>0521795028</td>\n",
       "      <td>6</td>\n",
       "    </tr>\n",
       "  </tbody>\n",
       "</table>\n",
       "</div>"
      ]
     },
     "execution_count": 20,
     "metadata": {},
     "output_type": "execute_result"
    }
   ],
   "execution_count": 20
  },
  {
   "metadata": {},
   "cell_type": "markdown",
   "source": [
    "#### Sampel Data Ratings\n",
    "\n",
    "Pada tahap ini, kami menampilkan lima baris pertama dari dataset Ratings menggunakan fungsi `.head()`.\n",
    "Tujuannya adalah untuk memahami struktur data lebih rinci.\n",
    "\n",
    "Contoh data dari lima rating pertama adalah sebagai berikut:\n",
    "- User-ID 276725 memberi rating 0 pada buku dengan ISBN `034545104X`\n",
    "- User-ID 276726 memberi rating 5 pada buku dengan ISBN `0155061224`\n",
    "- User-ID 276727 memberi rating 0 pada buku dengan ISBN `0446520802`\n",
    "- User-ID 276729 memberi rating 3 pada buku dengan ISBN `052165615X`\n",
    "- User-ID 276729 memberi rating 6 pada buku dengan ISBN `0521795028`\n",
    "\n",
    "Hal ini menunjukkan bahwa satu user dapat memberikan rating ke lebih dari satu buku."
   ],
   "id": "499645ff74c70f36"
  },
  {
   "metadata": {
    "ExecuteTime": {
     "end_time": "2025-04-26T17:38:47.919514Z",
     "start_time": "2025-04-26T17:38:47.330561Z"
    }
   },
   "cell_type": "code",
   "source": [
    "# Menampilkan statistik ringkasan untuk Ratings\n",
    "ratings.describe(include='all')"
   ],
   "id": "30a657d07de662a6",
   "outputs": [
    {
     "data": {
      "text/plain": [
       "             User-ID        ISBN   Book-Rating\n",
       "count   1.149780e+06     1149780  1.149780e+06\n",
       "unique           NaN      340556           NaN\n",
       "top              NaN  0971880107           NaN\n",
       "freq             NaN        2502           NaN\n",
       "mean    1.403864e+05         NaN  2.866950e+00\n",
       "std     8.056228e+04         NaN  3.854184e+00\n",
       "min     2.000000e+00         NaN  0.000000e+00\n",
       "25%     7.034500e+04         NaN  0.000000e+00\n",
       "50%     1.410100e+05         NaN  0.000000e+00\n",
       "75%     2.110280e+05         NaN  7.000000e+00\n",
       "max     2.788540e+05         NaN  1.000000e+01"
      ],
      "text/html": [
       "<div>\n",
       "<style scoped>\n",
       "    .dataframe tbody tr th:only-of-type {\n",
       "        vertical-align: middle;\n",
       "    }\n",
       "\n",
       "    .dataframe tbody tr th {\n",
       "        vertical-align: top;\n",
       "    }\n",
       "\n",
       "    .dataframe thead th {\n",
       "        text-align: right;\n",
       "    }\n",
       "</style>\n",
       "<table border=\"1\" class=\"dataframe\">\n",
       "  <thead>\n",
       "    <tr style=\"text-align: right;\">\n",
       "      <th></th>\n",
       "      <th>User-ID</th>\n",
       "      <th>ISBN</th>\n",
       "      <th>Book-Rating</th>\n",
       "    </tr>\n",
       "  </thead>\n",
       "  <tbody>\n",
       "    <tr>\n",
       "      <th>count</th>\n",
       "      <td>1.149780e+06</td>\n",
       "      <td>1149780</td>\n",
       "      <td>1.149780e+06</td>\n",
       "    </tr>\n",
       "    <tr>\n",
       "      <th>unique</th>\n",
       "      <td>NaN</td>\n",
       "      <td>340556</td>\n",
       "      <td>NaN</td>\n",
       "    </tr>\n",
       "    <tr>\n",
       "      <th>top</th>\n",
       "      <td>NaN</td>\n",
       "      <td>0971880107</td>\n",
       "      <td>NaN</td>\n",
       "    </tr>\n",
       "    <tr>\n",
       "      <th>freq</th>\n",
       "      <td>NaN</td>\n",
       "      <td>2502</td>\n",
       "      <td>NaN</td>\n",
       "    </tr>\n",
       "    <tr>\n",
       "      <th>mean</th>\n",
       "      <td>1.403864e+05</td>\n",
       "      <td>NaN</td>\n",
       "      <td>2.866950e+00</td>\n",
       "    </tr>\n",
       "    <tr>\n",
       "      <th>std</th>\n",
       "      <td>8.056228e+04</td>\n",
       "      <td>NaN</td>\n",
       "      <td>3.854184e+00</td>\n",
       "    </tr>\n",
       "    <tr>\n",
       "      <th>min</th>\n",
       "      <td>2.000000e+00</td>\n",
       "      <td>NaN</td>\n",
       "      <td>0.000000e+00</td>\n",
       "    </tr>\n",
       "    <tr>\n",
       "      <th>25%</th>\n",
       "      <td>7.034500e+04</td>\n",
       "      <td>NaN</td>\n",
       "      <td>0.000000e+00</td>\n",
       "    </tr>\n",
       "    <tr>\n",
       "      <th>50%</th>\n",
       "      <td>1.410100e+05</td>\n",
       "      <td>NaN</td>\n",
       "      <td>0.000000e+00</td>\n",
       "    </tr>\n",
       "    <tr>\n",
       "      <th>75%</th>\n",
       "      <td>2.110280e+05</td>\n",
       "      <td>NaN</td>\n",
       "      <td>7.000000e+00</td>\n",
       "    </tr>\n",
       "    <tr>\n",
       "      <th>max</th>\n",
       "      <td>2.788540e+05</td>\n",
       "      <td>NaN</td>\n",
       "      <td>1.000000e+01</td>\n",
       "    </tr>\n",
       "  </tbody>\n",
       "</table>\n",
       "</div>"
      ]
     },
     "execution_count": 21,
     "metadata": {},
     "output_type": "execute_result"
    }
   ],
   "execution_count": 21
  },
  {
   "metadata": {},
   "cell_type": "markdown",
   "source": [
    "#### Statistik Ringkasan Ratings\n",
    "\n",
    "Pada tahap ini, kami menggunakan fungsi `.describe(include='all')` untuk melihat ringkasan statistik dataset Ratings.\n",
    "\n",
    "Beberapa insight penting:\n",
    "- Rata-rata nilai rating adalah **2.87**, dengan standar deviasi sebesar **3.85**.\n",
    "- Rating minimum adalah **0** dan maksimum **10**.\n",
    "- Sebanyak 50% data memiliki rating **0**, yang menunjukkan banyak user melakukan rating kosong (default).\n",
    "- ISBN paling sering muncul adalah `0971880107`, sebanyak **2.502 kali**.\n",
    "- Terdapat **340.556 ISBN unik** di dalam dataset.\n",
    "\n",
    "Data ini menunjukkan adanya sparsity pada interaksi user-buku, yang merupakan karakteristik umum pada sistem rekomendasi."
   ],
   "id": "b2df0596e03d9845"
  },
  {
   "metadata": {
    "ExecuteTime": {
     "end_time": "2025-04-26T17:38:52.867733Z",
     "start_time": "2025-04-26T17:38:52.808240Z"
    }
   },
   "cell_type": "code",
   "source": [
    "# Mengecek jumlah missing value di setiap kolom di Ratings\n",
    "ratings.isnull().sum()"
   ],
   "id": "313c6edbd5a9595f",
   "outputs": [
    {
     "data": {
      "text/plain": [
       "User-ID        0\n",
       "ISBN           0\n",
       "Book-Rating    0\n",
       "dtype: int64"
      ]
     },
     "execution_count": 22,
     "metadata": {},
     "output_type": "execute_result"
    }
   ],
   "execution_count": 22
  },
  {
   "metadata": {},
   "cell_type": "markdown",
   "source": [
    "#### Missing Value Ratings\n",
    "\n",
    "Pada tahap ini, kami memeriksa jumlah missing value di setiap kolom menggunakan fungsi `.isnull().sum()`.\n",
    "Hasilnya:\n",
    "\n",
    "- `User-ID`: 0 missing value\n",
    "- `ISBN`: 0 missing value\n",
    "- `Book-Rating`: 0 missing value\n",
    "\n",
    "Dengan demikian, dataset Ratings **tidak memiliki missing value** dan dapat langsung digunakan dalam proses selanjutnya tanpa perlu tahap pembersihan untuk missing value."
   ],
   "id": "2bf6a3fbf2549869"
  },
  {
   "metadata": {
    "ExecuteTime": {
     "end_time": "2025-04-26T18:28:59.467208Z",
     "start_time": "2025-04-26T18:28:59.158332Z"
    }
   },
   "cell_type": "code",
   "source": [
    "# Cek jumlah duplikat di Ratings\n",
    "print('Jumlah duplikat di Ratings:', ratings.duplicated().sum())"
   ],
   "id": "24fe7357bb8b48a3",
   "outputs": [
    {
     "name": "stdout",
     "output_type": "stream",
     "text": [
      "Jumlah duplikat di Ratings: 0\n"
     ]
    }
   ],
   "execution_count": 48
  },
  {
   "metadata": {},
   "cell_type": "markdown",
   "source": [
    "#### Cek Duplikat di Dataset Ratings\n",
    "\n",
    "Akhirnya, kami memeriksa data duplikat pada dataset Ratings.\n",
    "Karena Ratings merupakan data interaksi user-buku, duplikasi bisa mengganggu keakuratan model rekomendasi.\n",
    "\n",
    "**Hasil pemeriksaan:**\n",
    "Tidak ditemukan data duplikat pada dataset Ratings (`Jumlah duplikat = 0`).\n"
   ],
   "id": "a977605a5c59fc8"
  },
  {
   "metadata": {},
   "cell_type": "markdown",
   "source": "### Data User",
   "id": "ea627f6d6d9d204a"
  },
  {
   "metadata": {
    "ExecuteTime": {
     "end_time": "2025-04-26T17:57:40.485730Z",
     "start_time": "2025-04-26T17:57:40.444385Z"
    }
   },
   "cell_type": "code",
   "source": [
    "# Menampilkan struktur data Users\n",
    "users.info()"
   ],
   "id": "300c574cb25585ed",
   "outputs": [
    {
     "name": "stdout",
     "output_type": "stream",
     "text": [
      "<class 'pandas.core.frame.DataFrame'>\n",
      "RangeIndex: 278858 entries, 0 to 278857\n",
      "Data columns (total 3 columns):\n",
      " #   Column    Non-Null Count   Dtype  \n",
      "---  ------    --------------   -----  \n",
      " 0   User-ID   278858 non-null  int64  \n",
      " 1   Location  278858 non-null  object \n",
      " 2   Age       168096 non-null  float64\n",
      "dtypes: float64(1), int64(1), object(1)\n",
      "memory usage: 6.4+ MB\n",
      "Jumlah User-ID unik: 105283\n"
     ]
    }
   ],
   "execution_count": 34
  },
  {
   "metadata": {},
   "cell_type": "markdown",
   "source": [
    "#### Struktur Data Users\n",
    "\n",
    "Pada tahap ini, kami menampilkan struktur data dari dataset Users menggunakan fungsi `.info()`.\n",
    "Dataset Users memiliki sebanyak **278.858 entri** dengan **3 kolom**, yaitu: `User-ID`, `Location`, dan `Age`.\n",
    "\n",
    "Detail tipe data:\n",
    "- `User-ID`: integer\n",
    "- `Location`: object (string)\n",
    "- `Age`: float64\n",
    "\n",
    "Terdapat missing value pada kolom `Age`, karena jumlah non-null lebih sedikit dibanding total entri."
   ],
   "id": "999f5473ee8c4cb9"
  },
  {
   "metadata": {
    "ExecuteTime": {
     "end_time": "2025-04-26T17:43:23.938702Z",
     "start_time": "2025-04-26T17:43:23.926615Z"
    }
   },
   "cell_type": "code",
   "source": [
    "# Menampilkan 5 baris pertama dari dataset Users\n",
    "users.head()"
   ],
   "id": "4f3a73b74a5ba07d",
   "outputs": [
    {
     "data": {
      "text/plain": [
       "   User-ID                            Location   Age\n",
       "0        1                  nyc, new york, usa   NaN\n",
       "1        2           stockton, california, usa  18.0\n",
       "2        3     moscow, yukon territory, russia   NaN\n",
       "3        4           porto, v.n.gaia, portugal  17.0\n",
       "4        5  farnborough, hants, united kingdom   NaN"
      ],
      "text/html": [
       "<div>\n",
       "<style scoped>\n",
       "    .dataframe tbody tr th:only-of-type {\n",
       "        vertical-align: middle;\n",
       "    }\n",
       "\n",
       "    .dataframe tbody tr th {\n",
       "        vertical-align: top;\n",
       "    }\n",
       "\n",
       "    .dataframe thead th {\n",
       "        text-align: right;\n",
       "    }\n",
       "</style>\n",
       "<table border=\"1\" class=\"dataframe\">\n",
       "  <thead>\n",
       "    <tr style=\"text-align: right;\">\n",
       "      <th></th>\n",
       "      <th>User-ID</th>\n",
       "      <th>Location</th>\n",
       "      <th>Age</th>\n",
       "    </tr>\n",
       "  </thead>\n",
       "  <tbody>\n",
       "    <tr>\n",
       "      <th>0</th>\n",
       "      <td>1</td>\n",
       "      <td>nyc, new york, usa</td>\n",
       "      <td>NaN</td>\n",
       "    </tr>\n",
       "    <tr>\n",
       "      <th>1</th>\n",
       "      <td>2</td>\n",
       "      <td>stockton, california, usa</td>\n",
       "      <td>18.0</td>\n",
       "    </tr>\n",
       "    <tr>\n",
       "      <th>2</th>\n",
       "      <td>3</td>\n",
       "      <td>moscow, yukon territory, russia</td>\n",
       "      <td>NaN</td>\n",
       "    </tr>\n",
       "    <tr>\n",
       "      <th>3</th>\n",
       "      <td>4</td>\n",
       "      <td>porto, v.n.gaia, portugal</td>\n",
       "      <td>17.0</td>\n",
       "    </tr>\n",
       "    <tr>\n",
       "      <th>4</th>\n",
       "      <td>5</td>\n",
       "      <td>farnborough, hants, united kingdom</td>\n",
       "      <td>NaN</td>\n",
       "    </tr>\n",
       "  </tbody>\n",
       "</table>\n",
       "</div>"
      ]
     },
     "execution_count": 24,
     "metadata": {},
     "output_type": "execute_result"
    }
   ],
   "execution_count": 24
  },
  {
   "metadata": {},
   "cell_type": "markdown",
   "source": [
    "#### Sampel Data Users\n",
    "\n",
    "Pada tahap ini, kami menampilkan lima baris pertama dari dataset Users menggunakan fungsi `.head()`.\n",
    "Tujuannya adalah untuk memahami bentuk dan isi data pengguna.\n",
    "\n",
    "Contoh data dari lima pengguna pertama:\n",
    "- User-ID 1 berasal dari lokasi **\"nyc, new york, usa\"** dengan usia tidak tersedia (NaN).\n",
    "- User-ID 2 berasal dari lokasi **\"stockton, california, usa\"** dengan usia **18 tahun**.\n",
    "- User-ID 3 berasal dari lokasi **\"moscow, yukon territory, russia\"** dengan usia tidak tersedia (NaN).\n",
    "- User-ID 4 berasal dari lokasi **\"porto, v.n.gaia, portugal\"** dengan usia **17 tahun**.\n",
    "- User-ID 5 berasal dari lokasi **\"farnborough, hants, united kingdom\"** dengan usia tidak tersedia (NaN).\n",
    "\n",
    "Terlihat bahwa kolom `Location` berisi informasi negara/kota pengguna, dan sebagian besar nilai `Age` kosong."
   ],
   "id": "8074fdeaf24758a"
  },
  {
   "metadata": {
    "ExecuteTime": {
     "end_time": "2025-04-26T17:43:26.208642Z",
     "start_time": "2025-04-26T17:43:26.116815Z"
    }
   },
   "cell_type": "code",
   "source": [
    "# Menampilkan statistik ringkasan untuk Users\n",
    "users.describe(include='all')"
   ],
   "id": "7b6dd7c5136465af",
   "outputs": [
    {
     "data": {
      "text/plain": [
       "             User-ID                         Location            Age\n",
       "count   278858.00000                           278858  168096.000000\n",
       "unique           NaN                            57339            NaN\n",
       "top              NaN  london, england, united kingdom            NaN\n",
       "freq             NaN                             2506            NaN\n",
       "mean    139429.50000                              NaN      34.751434\n",
       "std      80499.51502                              NaN      14.428097\n",
       "min          1.00000                              NaN       0.000000\n",
       "25%      69715.25000                              NaN      24.000000\n",
       "50%     139429.50000                              NaN      32.000000\n",
       "75%     209143.75000                              NaN      44.000000\n",
       "max     278858.00000                              NaN     244.000000"
      ],
      "text/html": [
       "<div>\n",
       "<style scoped>\n",
       "    .dataframe tbody tr th:only-of-type {\n",
       "        vertical-align: middle;\n",
       "    }\n",
       "\n",
       "    .dataframe tbody tr th {\n",
       "        vertical-align: top;\n",
       "    }\n",
       "\n",
       "    .dataframe thead th {\n",
       "        text-align: right;\n",
       "    }\n",
       "</style>\n",
       "<table border=\"1\" class=\"dataframe\">\n",
       "  <thead>\n",
       "    <tr style=\"text-align: right;\">\n",
       "      <th></th>\n",
       "      <th>User-ID</th>\n",
       "      <th>Location</th>\n",
       "      <th>Age</th>\n",
       "    </tr>\n",
       "  </thead>\n",
       "  <tbody>\n",
       "    <tr>\n",
       "      <th>count</th>\n",
       "      <td>278858.00000</td>\n",
       "      <td>278858</td>\n",
       "      <td>168096.000000</td>\n",
       "    </tr>\n",
       "    <tr>\n",
       "      <th>unique</th>\n",
       "      <td>NaN</td>\n",
       "      <td>57339</td>\n",
       "      <td>NaN</td>\n",
       "    </tr>\n",
       "    <tr>\n",
       "      <th>top</th>\n",
       "      <td>NaN</td>\n",
       "      <td>london, england, united kingdom</td>\n",
       "      <td>NaN</td>\n",
       "    </tr>\n",
       "    <tr>\n",
       "      <th>freq</th>\n",
       "      <td>NaN</td>\n",
       "      <td>2506</td>\n",
       "      <td>NaN</td>\n",
       "    </tr>\n",
       "    <tr>\n",
       "      <th>mean</th>\n",
       "      <td>139429.50000</td>\n",
       "      <td>NaN</td>\n",
       "      <td>34.751434</td>\n",
       "    </tr>\n",
       "    <tr>\n",
       "      <th>std</th>\n",
       "      <td>80499.51502</td>\n",
       "      <td>NaN</td>\n",
       "      <td>14.428097</td>\n",
       "    </tr>\n",
       "    <tr>\n",
       "      <th>min</th>\n",
       "      <td>1.00000</td>\n",
       "      <td>NaN</td>\n",
       "      <td>0.000000</td>\n",
       "    </tr>\n",
       "    <tr>\n",
       "      <th>25%</th>\n",
       "      <td>69715.25000</td>\n",
       "      <td>NaN</td>\n",
       "      <td>24.000000</td>\n",
       "    </tr>\n",
       "    <tr>\n",
       "      <th>50%</th>\n",
       "      <td>139429.50000</td>\n",
       "      <td>NaN</td>\n",
       "      <td>32.000000</td>\n",
       "    </tr>\n",
       "    <tr>\n",
       "      <th>75%</th>\n",
       "      <td>209143.75000</td>\n",
       "      <td>NaN</td>\n",
       "      <td>44.000000</td>\n",
       "    </tr>\n",
       "    <tr>\n",
       "      <th>max</th>\n",
       "      <td>278858.00000</td>\n",
       "      <td>NaN</td>\n",
       "      <td>244.000000</td>\n",
       "    </tr>\n",
       "  </tbody>\n",
       "</table>\n",
       "</div>"
      ]
     },
     "execution_count": 25,
     "metadata": {},
     "output_type": "execute_result"
    }
   ],
   "execution_count": 25
  },
  {
   "metadata": {},
   "cell_type": "markdown",
   "source": [
    "#### Statistik Ringkasan Users\n",
    "\n",
    "Pada tahap ini, kami menggunakan fungsi `.describe(include='all')` untuk melihat ringkasan statistik dari dataset Users.\n",
    "\n",
    "Beberapa insight penting:\n",
    "- Rata-rata usia pengguna adalah **34.75 tahun**.\n",
    "- Usia minimum adalah **0 tahun**, dan maksimum tercatat **244 tahun**, yang kemungkinan merupakan data tidak valid.\n",
    "- Lokasi paling sering muncul adalah **\"london, england, united kingdom\"**, dengan sebanyak **2.506 pengguna** berasal dari lokasi tersebut.\n",
    "- Terdapat **57.339 lokasi unik** dalam dataset.\n",
    "\n",
    "Data ini mengindikasikan adanya kebutuhan untuk membersihkan nilai anomali pada kolom `Age` dalam tahap data preparation."
   ],
   "id": "c32c6b199dd1dc50"
  },
  {
   "metadata": {
    "ExecuteTime": {
     "end_time": "2025-04-26T17:43:28.803504Z",
     "start_time": "2025-04-26T17:43:28.775578Z"
    }
   },
   "cell_type": "code",
   "source": [
    "# Mengecek jumlah missing value di setiap kolom di Users\n",
    "users.isnull().sum()"
   ],
   "id": "55b695e7976099f8",
   "outputs": [
    {
     "data": {
      "text/plain": [
       "User-ID          0\n",
       "Location         0\n",
       "Age         110762\n",
       "dtype: int64"
      ]
     },
     "execution_count": 26,
     "metadata": {},
     "output_type": "execute_result"
    }
   ],
   "execution_count": 26
  },
  {
   "metadata": {},
   "cell_type": "markdown",
   "source": [
    "#### Missing Value Users\n",
    "\n",
    "Pada tahap ini, kami memeriksa jumlah missing value di setiap kolom dataset Users menggunakan fungsi `.isnull().sum()`.\n",
    "\n",
    "Hasil pemeriksaan:\n",
    "- `User-ID`: 0 missing value\n",
    "- `Location`: 0 missing value\n",
    "- `Age`: **110.762 missing value**\n",
    "\n",
    "Dengan demikian, sekitar 40% data pada kolom `Age` hilang, sehingga diperlukan strategi khusus untuk menangani missing value ini, seperti imputasi atau penghapusan data."
   ],
   "id": "f3011c6649fbe0a9"
  },
  {
   "metadata": {
    "ExecuteTime": {
     "end_time": "2025-04-26T17:58:01.997537Z",
     "start_time": "2025-04-26T17:58:01.958130Z"
    }
   },
   "cell_type": "code",
   "source": [
    "# Cek jumlah user unik\n",
    "print('Jumlah User-ID unik:', ratings['User-ID'].nunique())"
   ],
   "id": "65382fd407290ac2",
   "outputs": [
    {
     "name": "stdout",
     "output_type": "stream",
     "text": [
      "Jumlah User-ID unik: 105283\n"
     ]
    }
   ],
   "execution_count": 35
  },
  {
   "metadata": {},
   "cell_type": "markdown",
   "source": [
    "#### Jumlah User-ID Unik\n",
    "\n",
    "Pada tahap ini, kami menghitung jumlah user unik dalam dataset Ratings menggunakan fungsi `.nunique()` pada kolom `User-ID`.\n",
    "\n",
    "Hasilnya, terdapat sebanyak **105.283 user unik** dalam dataset.\n",
    "Jumlah ini mencerminkan banyaknya individu berbeda yang memberikan rating terhadap buku."
   ],
   "id": "d001ecd78481ef39"
  },
  {
   "metadata": {
    "ExecuteTime": {
     "end_time": "2025-04-26T18:27:45.323006Z",
     "start_time": "2025-04-26T18:27:45.231647Z"
    }
   },
   "cell_type": "code",
   "source": [
    "# Cek duplikat di Users\n",
    "print('Duplikat di Users:', users.duplicated().sum())"
   ],
   "id": "2379339bb262e4d",
   "outputs": [
    {
     "name": "stdout",
     "output_type": "stream",
     "text": [
      "Duplikat di Users: 0\n"
     ]
    }
   ],
   "execution_count": 47
  },
  {
   "metadata": {},
   "cell_type": "markdown",
   "source": [
    "#### Cek Duplikat di Dataset Users\n",
    "\n",
    "Selanjutnya, kami memeriksa keberadaan data duplikat dalam dataset Users.\n",
    "Memastikan tidak adanya duplikat penting untuk menjaga keakuratan dalam analisis pengguna.\n",
    "\n",
    "**Hasil pemeriksaan:**\n",
    "Tidak ditemukan data duplikat pada dataset Users (`Jumlah duplikat = 0`)."
   ],
   "id": "eb07c29fe660c6c8"
  },
  {
   "metadata": {},
   "cell_type": "markdown",
   "source": "### Exploratory Data Analysis (EDA)",
   "id": "3ff474436c350a91"
  },
  {
   "metadata": {
    "ExecuteTime": {
     "end_time": "2025-04-26T18:12:37.000832Z",
     "start_time": "2025-04-26T18:12:36.168684Z"
    }
   },
   "cell_type": "code",
   "source": [
    "# Import library visualisasi\n",
    "import matplotlib.pyplot as plt\n",
    "import seaborn as sns\n",
    "\n",
    "# Menghitung jumlah rating per ISBN\n",
    "top_books = ratings['ISBN'].value_counts().head(10)\n",
    "\n",
    "# Visualisasi 10 ISBN dengan rating terbanyak\n",
    "plt.figure(figsize=(12,6))\n",
    "sns.barplot(x=top_books.values, y=top_books.index)\n",
    "plt.title('10 Buku dengan Rating Terbanyak (ISBN)')\n",
    "plt.xlabel('Jumlah Rating')\n",
    "plt.ylabel('ISBN Buku')\n",
    "plt.grid(True)\n",
    "plt.show()"
   ],
   "id": "c10e8a5f506c811e",
   "outputs": [
    {
     "data": {
      "text/plain": [
       "<Figure size 1200x600 with 1 Axes>"
      ],
      "image/png": "[encoded data removed]"
     },
     "metadata": {},
     "output_type": "display_data"
    }
   ],
   "execution_count": 41
  },
  {
   "metadata": {},
   "cell_type": "markdown",
   "source": [
    "#### Insight 10 Buku dengan Rating Terbanyak\n",
    "\n",
    "Berdasarkan hasil analisis, ISBN `0971880107` menjadi buku dengan jumlah rating terbanyak, melebihi **2500 rating**.\n",
    "Diikuti oleh ISBN `0316666343` dan `0385504209` dengan jumlah rating yang juga cukup tinggi.\n",
    "\n",
    "Hal ini menunjukkan bahwa ada beberapa buku populer yang menjadi favorit pengguna untuk diberi rating, yang bisa menjadi kandidat kuat untuk baseline rekomendasi atau analisis popularitas lebih lanjut.\n",
    "\n",
    "Perlu diperhatikan bahwa ISBN digunakan dalam dataset ini tanpa detail metadata buku (judul, penulis), sehingga pada tahap implementasi lebih lanjut, mapping ke informasi tambahan mungkin diperlukan."
   ],
   "id": "884fa65e49d871ba"
  },
  {
   "metadata": {
    "ExecuteTime": {
     "end_time": "2025-04-26T18:16:31.786191Z",
     "start_time": "2025-04-26T18:16:31.184209Z"
    }
   },
   "cell_type": "code",
   "source": [
    "# Ambil 10 ISBN yang paling banyak dirating\n",
    "top_books = ratings['ISBN'].value_counts().head(10).reset_index()\n",
    "\n",
    "# Rename kolom supaya mudah di-merge\n",
    "top_books.columns = ['ISBN', 'Jumlah Rating']\n",
    "\n",
    "# Join ke dataset books untuk dapatkan judul buku\n",
    "top_books_titles = top_books.merge(books[['ISBN', 'Book-Title']], on='ISBN', how='left')\n",
    "\n",
    "# Tampilkan hasil\n",
    "top_books_titles[['ISBN', 'Book-Title', 'Jumlah Rating']]"
   ],
   "id": "e76afe27e0884c2",
   "outputs": [
    {
     "data": {
      "text/plain": [
       "         ISBN                                       Book-Title  Jumlah Rating\n",
       "0  0971880107                                      Wild Animus           2502\n",
       "1  0316666343                        The Lovely Bones: A Novel           1295\n",
       "2  0385504209                                The Da Vinci Code            883\n",
       "3  0060928336  Divine Secrets of the Ya-Ya Sisterhood: A Novel            732\n",
       "4  0312195516              The Red Tent (Bestselling Backlist)            723\n",
       "5  044023722X                                  A Painted House            647\n",
       "6  0679781587                                              NaN            639\n",
       "7  0142001740                          The Secret Life of Bees            615\n",
       "8  067976402X                           Snow Falling on Cedars            614\n",
       "9  0671027360                              Angels &amp; Demons            586"
      ],
      "text/html": [
       "<div>\n",
       "<style scoped>\n",
       "    .dataframe tbody tr th:only-of-type {\n",
       "        vertical-align: middle;\n",
       "    }\n",
       "\n",
       "    .dataframe tbody tr th {\n",
       "        vertical-align: top;\n",
       "    }\n",
       "\n",
       "    .dataframe thead th {\n",
       "        text-align: right;\n",
       "    }\n",
       "</style>\n",
       "<table border=\"1\" class=\"dataframe\">\n",
       "  <thead>\n",
       "    <tr style=\"text-align: right;\">\n",
       "      <th></th>\n",
       "      <th>ISBN</th>\n",
       "      <th>Book-Title</th>\n",
       "      <th>Jumlah Rating</th>\n",
       "    </tr>\n",
       "  </thead>\n",
       "  <tbody>\n",
       "    <tr>\n",
       "      <th>0</th>\n",
       "      <td>0971880107</td>\n",
       "      <td>Wild Animus</td>\n",
       "      <td>2502</td>\n",
       "    </tr>\n",
       "    <tr>\n",
       "      <th>1</th>\n",
       "      <td>0316666343</td>\n",
       "      <td>The Lovely Bones: A Novel</td>\n",
       "      <td>1295</td>\n",
       "    </tr>\n",
       "    <tr>\n",
       "      <th>2</th>\n",
       "      <td>0385504209</td>\n",
       "      <td>The Da Vinci Code</td>\n",
       "      <td>883</td>\n",
       "    </tr>\n",
       "    <tr>\n",
       "      <th>3</th>\n",
       "      <td>0060928336</td>\n",
       "      <td>Divine Secrets of the Ya-Ya Sisterhood: A Novel</td>\n",
       "      <td>732</td>\n",
       "    </tr>\n",
       "    <tr>\n",
       "      <th>4</th>\n",
       "      <td>0312195516</td>\n",
       "      <td>The Red Tent (Bestselling Backlist)</td>\n",
       "      <td>723</td>\n",
       "    </tr>\n",
       "    <tr>\n",
       "      <th>5</th>\n",
       "      <td>044023722X</td>\n",
       "      <td>A Painted House</td>\n",
       "      <td>647</td>\n",
       "    </tr>\n",
       "    <tr>\n",
       "      <th>6</th>\n",
       "      <td>0679781587</td>\n",
       "      <td>NaN</td>\n",
       "      <td>639</td>\n",
       "    </tr>\n",
       "    <tr>\n",
       "      <th>7</th>\n",
       "      <td>0142001740</td>\n",
       "      <td>The Secret Life of Bees</td>\n",
       "      <td>615</td>\n",
       "    </tr>\n",
       "    <tr>\n",
       "      <th>8</th>\n",
       "      <td>067976402X</td>\n",
       "      <td>Snow Falling on Cedars</td>\n",
       "      <td>614</td>\n",
       "    </tr>\n",
       "    <tr>\n",
       "      <th>9</th>\n",
       "      <td>0671027360</td>\n",
       "      <td>Angels &amp;amp; Demons</td>\n",
       "      <td>586</td>\n",
       "    </tr>\n",
       "  </tbody>\n",
       "</table>\n",
       "</div>"
      ]
     },
     "execution_count": 44,
     "metadata": {},
     "output_type": "execute_result"
    }
   ],
   "execution_count": 44
  },
  {
   "metadata": {},
   "cell_type": "markdown",
   "source": [
    "#### Mapping ISBN ke Judul Buku - 10 Buku dengan Rating Terbanyak\n",
    "\n",
    "Pada tahap ini, kami memetakan 10 ISBN yang paling banyak menerima rating ke dalam judul buku yang bersangkutan.\n",
    "Tujuannya adalah untuk membuat hasil analisis lebih informatif dan mudah dipahami dibandingkan hanya menggunakan kode ISBN saja.\n",
    "\n",
    "Berikut adalah 10 buku dengan jumlah rating terbanyak:\n",
    "\n",
    "| Judul Buku | Jumlah Rating |\n",
    "|:-----------|:--------------|\n",
    "| Wild Animus | 2502 |\n",
    "| The Lovely Bones: A Novel | 1295 |\n",
    "| The Da Vinci Code | 883 |\n",
    "| Divine Secrets of the Ya-Ya Sisterhood: A Novel | 732 |\n",
    "| The Red Tent (Bestselling Backlist) | 723 |\n",
    "| A Painted House | 647 |\n",
    "| NaN | 639 |\n",
    "| The Secret Life of Bees | 615 |\n",
    "| Snow Falling on Cedars | 614 |\n",
    "| Angels & Demons | 586 |\n",
    "\n",
    "**Catatan:**\n",
    "- Terdapat satu ISBN (`0679781587`) yang tidak memiliki informasi `Book-Title` (bernilai `NaN`), sehingga perlu perhatian khusus jika data ini digunakan dalam tahap modeling atau visualisasi berikutnya.\n",
    "\n",
    "Dengan hasil ini, analisis popularitas buku dapat lebih mudah dipahami, dan sistem rekomendasi nantinya bisa memberikan rekomendasi berbasis judul buku, bukan hanya berdasarkan ISBN."
   ],
   "id": "873fe3ac285d1684"
  },
  {
   "metadata": {
    "ExecuteTime": {
     "end_time": "2025-04-26T18:12:49.979032Z",
     "start_time": "2025-04-26T18:12:48.135675Z"
    }
   },
   "cell_type": "code",
   "source": [
    "# Visualisasi distribusi rating\n",
    "plt.figure(figsize=(10,6))\n",
    "sns.countplot(x='Book-Rating', data=ratings)  # Hapus palette\n",
    "plt.title('Distribusi Nilai Rating Buku')\n",
    "plt.xlabel('Rating')\n",
    "plt.ylabel('Jumlah')\n",
    "plt.grid(True)\n",
    "plt.show()"
   ],
   "id": "6a3857726aacb12",
   "outputs": [
    {
     "data": {
      "text/plain": [
       "<Figure size 1000x600 with 1 Axes>"
      ],
      "image/png": "[encoded data removed]"
     },
     "metadata": {},
     "output_type": "display_data"
    }
   ],
   "execution_count": 42
  },
  {
   "metadata": {},
   "cell_type": "markdown",
   "source": [
    "#### Insight Distribusi Nilai Rating Buku\n",
    "\n",
    "Visualisasi distribusi nilai rating menunjukkan bahwa sebagian besar pengguna memberikan rating **0** terhadap buku.\n",
    "Rating **0** mendominasi dengan jumlah yang sangat besar dibandingkan rating lainnya.\n",
    "\n",
    "Sementara itu, rating tinggi seperti **8**, **9**, dan **10** juga cukup banyak diberikan, menunjukkan adanya bias positif dari pengguna yang aktif memberi rating lebih baik terhadap buku yang mereka sukai.\n",
    "\n",
    "Distribusi ini memperlihatkan adanya ketimpangan yang signifikan antara rating kosong (0) dan rating valid (1-10), yang perlu dipertimbangkan pada tahap modeling rekomendasi."
   ],
   "id": "dbd1e13a8385d026"
  },
  {
   "metadata": {},
   "cell_type": "code",
   "outputs": [
    {
     "data": {
      "text/plain": [
       "<Figure size 1000x600 with 1 Axes>"
      ],
      "image/png": "[encoded data removed]"
     },
     "metadata": {},
     "output_type": "display_data"
    }
   ],
   "execution_count": 39,
   "source": [
    "# Visualisasi distribusi usia pengguna\n",
    "plt.figure(figsize=(10,6))\n",
    "sns.histplot(users['Age'].dropna(), bins=30, kde=True, color='skyblue')\n",
    "plt.title('Distribusi Usia Pengguna')\n",
    "plt.xlabel('Usia')\n",
    "plt.ylabel('Jumlah Pengguna')\n",
    "plt.grid(True)\n",
    "plt.show()"
   ],
   "id": "a40e13b5ff4aa5d5"
  },
  {
   "metadata": {},
   "cell_type": "markdown",
   "source": [
    "#### Insight Distribusi Usia Pengguna\n",
    "\n",
    "Dari hasil visualisasi distribusi usia pengguna, terlihat bahwa mayoritas pengguna berada pada rentang usia **20 hingga 50 tahun**, dengan puncak distribusi sekitar usia **30 tahun**.\n",
    "\n",
    "Terdapat beberapa nilai anomali di atas **100 tahun** bahkan mendekati **244 tahun**, yang kemungkinan merupakan kesalahan input data.\n",
    "Hal ini perlu diperhatikan pada tahap pembersihan data selanjutnya untuk menghindari bias dalam analisis lebih lanjut."
   ],
   "id": "b7dac6d9ff2eeab8"
  },
  {
   "metadata": {},
   "cell_type": "markdown",
   "source": "### Analisis Data Understanding",
   "id": "b050ce363be288c6"
  },
  {
   "metadata": {},
   "cell_type": "markdown",
   "source": [
    "## Data Understanding\n",
    "\n",
    "Pada bagian ini, kami menjelaskan jumlah data, kondisi data, dan informasi mengenai dataset yang digunakan. Dataset yang digunakan dalam proyek ini adalah [Book Recommendation Dataset - Kaggle](https://www.kaggle.com/datasets/arashnic/book-recommendation-dataset).\n",
    "\n",
    "Dataset ini terdiri dari tiga file utama:\n",
    "- `Books.csv` : berisi informasi mengenai buku, seperti ISBN, judul, penulis, tahun terbit, penerbit, dan gambar sampul.\n",
    "- `Users.csv` : berisi informasi mengenai pengguna, seperti User-ID, lokasi, dan usia.\n",
    "- `Ratings.csv` : berisi data interaksi antara pengguna dan buku, berupa rating yang diberikan.\n",
    "\n",
    "### Informasi Jumlah Data\n",
    "\n",
    "- Books.csv: 271.360 entri, 8 kolom\n",
    "- Users.csv: 278.858 entri, 3 kolom\n",
    "- Ratings.csv: 1.149.780 entri, 3 kolom\n",
    "\n",
    "### Informasi Kondisi Data\n",
    "\n",
    "- Dataset Books:\n",
    "  - Memiliki beberapa missing value di kolom `Book-Author`, `Publisher`, dan `Image-URL-L`.\n",
    "- Dataset Users:\n",
    "  - Terdapat sekitar 110.762 missing value pada kolom `Age`.\n",
    "  - Ditemukan usia tidak valid, seperti 0 dan lebih dari 100 tahun.\n",
    "- Dataset Ratings:\n",
    "  - Tidak terdapat missing value.\n",
    "  - Banyak pengguna memberikan rating 0.\n",
    "\n",
    "### Uraian Variabel\n",
    "\n",
    "**Books.csv**\n",
    "- `ISBN` : ID unik buku\n",
    "- `Book-Title` : Judul buku\n",
    "- `Book-Author` : Nama penulis buku\n",
    "- `Year-Of-Publication` : Tahun penerbitan buku\n",
    "- `Publisher` : Nama penerbit\n",
    "- `Image-URL-S`, `Image-URL-M`, `Image-URL-L` : URL gambar sampul (ukuran kecil, sedang, besar)\n",
    "\n",
    "**Users.csv**\n",
    "- `User-ID` : ID unik pengguna\n",
    "- `Location` : Lokasi pengguna (Kota, Provinsi, Negara)\n",
    "- `Age` : Usia pengguna\n",
    "\n",
    "**Ratings.csv**\n",
    "- `User-ID` : ID pengguna\n",
    "- `ISBN` : ISBN buku yang diberi rating\n",
    "- `Book-Rating` : Nilai rating (0–10)\n",
    "\n",
    "### Cek Duplikat Data\n",
    "\n",
    "Pada tahap ini, kami memeriksa apakah terdapat data duplikat pada masing-masing dataset.\n",
    "\n",
    "Hasil pemeriksaan:\n",
    "- Dataset Books: 0 duplikat\n",
    "- Dataset Users: 0 duplikat\n",
    "- Dataset Ratings: 0 duplikat\n",
    "\n",
    "Tidak ditemukan data duplikat, sehingga tidak diperlukan tindakan pembersihan untuk duplikasi.\n",
    "\n",
    "### Exploratory Data Analysis (EDA)\n",
    "\n",
    "#### Distribusi Usia Pengguna\n",
    "\n",
    "Visualisasi menunjukkan mayoritas pengguna berusia antara 20 hingga 50 tahun. Terdapat anomali pada usia 0 dan di atas 100 tahun, yang mengindikasikan adanya outlier.\n",
    "\n",
    "![Distribusi Usia Pengguna](image/Distribusi%20Usia%20Pengguna.png)\n",
    "\n",
    "**Insight**:\n",
    "Mayoritas pengguna berada di rentang usia 30-40 tahun. Outlier usia di atas 100 tahun perlu dibersihkan pada tahap data preparation.\n",
    "\n",
    "#### Distribusi Nilai Rating\n",
    "\n",
    "Distribusi nilai rating menunjukkan bahwa sebagian besar rating yang diberikan adalah 0.\n",
    "Rating tinggi seperti 8–10 juga cukup banyak, menunjukkan adanya bias positif pengguna terhadap buku favorit mereka.\n",
    "\n",
    "![Distribusi Nilai Rating Buku](image/Distribusi%20Nilai%20Rating%20Buku.png)\n",
    "\n",
    "**Insight**:\n",
    "Proporsi rating 0 sangat dominan, menunjukkan banyak rating kosong atau default. Ini akan berpengaruh dalam tahap modeling sistem rekomendasi.\n",
    "\n",
    "#### 10 Buku dengan Rating Terbanyak\n",
    "\n",
    "Berikut 10 buku dengan jumlah rating terbanyak di dataset:\n",
    "\n",
    "- Wild Animus (2502 rating)\n",
    "- The Lovely Bones: A Novel (1295 rating)\n",
    "- The Da Vinci Code (883 rating)\n",
    "- Divine Secrets of the Ya-Ya Sisterhood: A Novel (732 rating)\n",
    "- The Red Tent (723 rating)\n",
    "- A Painted House (647 rating)\n",
    "- [NaN] (639 rating) — Tidak diketahui judul buku\n",
    "- The Secret Life of Bees (615 rating)\n",
    "- Snow Falling on Cedars (614 rating)\n",
    "- Angels & Demons (586 rating)\n",
    "\n",
    "![10 Buku dengan Rating Terbanyak](image/Buku%20dengan%20Rating%20Terbanyak.png)\n",
    "\n",
    "**Insight**:\n",
    "Buku Wild Animus jauh lebih sering dirating dibandingkan buku lain, kemungkinan besar karena faktor popularitas atau faktor marketing tertentu.\n",
    "\n",
    "**Catatan**: Terdapat ISBN yang tidak memiliki `Book-Title` (NaN), perlu perhatian lebih dalam tahap berikutnya."
   ],
   "id": "fd245e2960c6d0d4"
  },
  {
   "metadata": {
    "ExecuteTime": {
     "end_time": "2025-04-26T18:27:17.850290Z",
     "start_time": "2025-04-26T18:27:17.846218Z"
    }
   },
   "cell_type": "code",
   "source": "",
   "id": "706ebe144686b75d",
   "outputs": [],
   "execution_count": null
  },
  {
   "metadata": {},
   "cell_type": "code",
   "outputs": [],
   "execution_count": null,
   "source": "",
   "id": "45a3c928a2111d35"
  }
 ],
 "metadata": {
  "kernelspec": {
   "display_name": "Python [conda env:miniconda3-fastfood-env]",
   "language": "python",
   "name": "conda-env-miniconda3-fastfood-env-py"
  },
  "language_info": {
   "codemirror_mode": {
    "name": "ipython",
    "version": 2
   },
   "file_extension": ".py",
   "mimetype": "text/x-python",
   "name": "python",
   "nbconvert_exporter": "python",
   "pygments_lexer": "ipython2",
   "version": "2.7.6"
  }
 },
 "nbformat": 4,
 "nbformat_minor": 5
}
